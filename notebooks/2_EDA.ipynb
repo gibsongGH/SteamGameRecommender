{
 "cells": [
  {
   "cell_type": "markdown",
   "metadata": {},
   "source": [
    "# Exploratory Data Analysis of Video Game Review Information from Steam\n",
    "This step explores video game information and corresponding user reviews through Valve's Steam digital distribution company and supporting websites."
   ]
  },
  {
   "cell_type": "code",
   "execution_count": 1,
   "metadata": {},
   "outputs": [
    {
     "name": "stderr",
     "output_type": "stream",
     "text": [
      "[nltk_data] Downloading package words to\n",
      "[nltk_data]     C:\\Users\\ggibs\\AppData\\Roaming\\nltk_data...\n",
      "[nltk_data]   Package words is already up-to-date!\n",
      "[nltk_data] Downloading package wordnet to\n",
      "[nltk_data]     C:\\Users\\ggibs\\AppData\\Roaming\\nltk_data...\n",
      "[nltk_data]   Package wordnet is already up-to-date!\n"
     ]
    }
   ],
   "source": [
    "import pandas as pd\n",
    "import numpy as np\n",
    "import os.path\n",
    "import matplotlib.pyplot as plt\n",
    "import re\n",
    "\n",
    "import nltk\n",
    "nltk.download('words')\n",
    "nltk.download('wordnet')\n",
    "from nltk.corpus import stopwords, words\n",
    "setofwords = set(words.words())\n",
    "from nltk.stem import WordNetLemmatizer\n",
    "wordnet_lemmatizer = WordNetLemmatizer()\n",
    "\n",
    "from vaderSentiment.vaderSentiment import SentimentIntensityAnalyzer \n",
    "\n",
    "import warnings\n",
    "warnings.filterwarnings(\"ignore\")"
   ]
  },
  {
   "cell_type": "code",
   "execution_count": 2,
   "metadata": {},
   "outputs": [],
   "source": [
    "path_steam = \"C:/users/ggibs/steam_game_recommender\"\n",
    "path_interim = os.path.join(path_steam, \"data/interim/\")\n",
    "path_external = os.path.join(path_steam, \"data/external/\")"
   ]
  },
  {
   "cell_type": "markdown",
   "metadata": {},
   "source": [
    "## Import Video Game Information"
   ]
  },
  {
   "cell_type": "code",
   "execution_count": 3,
   "metadata": {},
   "outputs": [],
   "source": [
    "app_list = pd.read_csv(os.path.join(path_external, \"app_list.csv\"), index_col=\"appid\")"
   ]
  },
  {
   "cell_type": "code",
   "execution_count": 4,
   "metadata": {},
   "outputs": [
    {
     "data": {
      "text/html": [
       "<div>\n",
       "<style scoped>\n",
       "    .dataframe tbody tr th:only-of-type {\n",
       "        vertical-align: middle;\n",
       "    }\n",
       "\n",
       "    .dataframe tbody tr th {\n",
       "        vertical-align: top;\n",
       "    }\n",
       "\n",
       "    .dataframe thead th {\n",
       "        text-align: right;\n",
       "    }\n",
       "</style>\n",
       "<table border=\"1\" class=\"dataframe\">\n",
       "  <thead>\n",
       "    <tr style=\"text-align: right;\">\n",
       "      <th></th>\n",
       "      <th>name</th>\n",
       "    </tr>\n",
       "    <tr>\n",
       "      <th>appid</th>\n",
       "      <th></th>\n",
       "    </tr>\n",
       "  </thead>\n",
       "  <tbody>\n",
       "    <tr>\n",
       "      <th>10</th>\n",
       "      <td>Counter-Strike</td>\n",
       "    </tr>\n",
       "    <tr>\n",
       "      <th>20</th>\n",
       "      <td>Team Fortress Classic</td>\n",
       "    </tr>\n",
       "    <tr>\n",
       "      <th>30</th>\n",
       "      <td>Day of Defeat</td>\n",
       "    </tr>\n",
       "    <tr>\n",
       "      <th>40</th>\n",
       "      <td>Deathmatch Classic</td>\n",
       "    </tr>\n",
       "    <tr>\n",
       "      <th>50</th>\n",
       "      <td>Half-Life: Opposing Force</td>\n",
       "    </tr>\n",
       "  </tbody>\n",
       "</table>\n",
       "</div>"
      ],
      "text/plain": [
       "                            name\n",
       "appid                           \n",
       "10                Counter-Strike\n",
       "20         Team Fortress Classic\n",
       "30                 Day of Defeat\n",
       "40            Deathmatch Classic\n",
       "50     Half-Life: Opposing Force"
      ]
     },
     "execution_count": 4,
     "metadata": {},
     "output_type": "execute_result"
    }
   ],
   "source": [
    "app_list.head()"
   ]
  },
  {
   "cell_type": "code",
   "execution_count": 5,
   "metadata": {},
   "outputs": [
    {
     "data": {
      "text/plain": [
       "Int64Index([     10,      20,      30,      40,      50,      60,      70,\n",
       "                 80,     130,     220,\n",
       "            ...\n",
       "            1172620, 1174180, 1180380, 1190460, 1213210, 1226470, 1237970,\n",
       "            1284410, 1286830, 1289310],\n",
       "           dtype='int64', name='appid', length=1000)"
      ]
     },
     "execution_count": 5,
     "metadata": {},
     "output_type": "execute_result"
    }
   ],
   "source": [
    "# 1,000 video game titles\n",
    "app_list.index"
   ]
  },
  {
   "cell_type": "code",
   "execution_count": 4,
   "metadata": {},
   "outputs": [],
   "source": [
    "steamspy_data = pd.read_csv(os.path.join(path_external, \"steamspy_data.csv\"), index_col=[0])"
   ]
  },
  {
   "cell_type": "code",
   "execution_count": 7,
   "metadata": {},
   "outputs": [
    {
     "data": {
      "text/html": [
       "<div>\n",
       "<style scoped>\n",
       "    .dataframe tbody tr th:only-of-type {\n",
       "        vertical-align: middle;\n",
       "    }\n",
       "\n",
       "    .dataframe tbody tr th {\n",
       "        vertical-align: top;\n",
       "    }\n",
       "\n",
       "    .dataframe thead th {\n",
       "        text-align: right;\n",
       "    }\n",
       "</style>\n",
       "<table border=\"1\" class=\"dataframe\">\n",
       "  <thead>\n",
       "    <tr style=\"text-align: right;\">\n",
       "      <th></th>\n",
       "      <th>name</th>\n",
       "      <th>developer</th>\n",
       "      <th>publisher</th>\n",
       "      <th>score_rank</th>\n",
       "      <th>positive</th>\n",
       "      <th>negative</th>\n",
       "      <th>userscore</th>\n",
       "      <th>owners</th>\n",
       "      <th>average_forever</th>\n",
       "      <th>average_2weeks</th>\n",
       "      <th>median_forever</th>\n",
       "      <th>median_2weeks</th>\n",
       "      <th>price</th>\n",
       "      <th>initialprice</th>\n",
       "      <th>discount</th>\n",
       "      <th>languages</th>\n",
       "      <th>genre</th>\n",
       "      <th>ccu</th>\n",
       "      <th>tags</th>\n",
       "    </tr>\n",
       "    <tr>\n",
       "      <th>appid</th>\n",
       "      <th></th>\n",
       "      <th></th>\n",
       "      <th></th>\n",
       "      <th></th>\n",
       "      <th></th>\n",
       "      <th></th>\n",
       "      <th></th>\n",
       "      <th></th>\n",
       "      <th></th>\n",
       "      <th></th>\n",
       "      <th></th>\n",
       "      <th></th>\n",
       "      <th></th>\n",
       "      <th></th>\n",
       "      <th></th>\n",
       "      <th></th>\n",
       "      <th></th>\n",
       "      <th></th>\n",
       "      <th></th>\n",
       "    </tr>\n",
       "  </thead>\n",
       "  <tbody>\n",
       "    <tr>\n",
       "      <th>10</th>\n",
       "      <td>Counter-Strike</td>\n",
       "      <td>Valve</td>\n",
       "      <td>Valve</td>\n",
       "      <td>NaN</td>\n",
       "      <td>162672</td>\n",
       "      <td>4258</td>\n",
       "      <td>0</td>\n",
       "      <td>10,000,000 .. 20,000,000</td>\n",
       "      <td>9688</td>\n",
       "      <td>148</td>\n",
       "      <td>218</td>\n",
       "      <td>118</td>\n",
       "      <td>999</td>\n",
       "      <td>999</td>\n",
       "      <td>0</td>\n",
       "      <td>English, French, German, Italian, Spanish - Sp...</td>\n",
       "      <td>Action</td>\n",
       "      <td>15656</td>\n",
       "      <td>{'Action': 5325, 'FPS': 4728, 'Multiplayer': 3...</td>\n",
       "    </tr>\n",
       "    <tr>\n",
       "      <th>20</th>\n",
       "      <td>Team Fortress Classic</td>\n",
       "      <td>Valve</td>\n",
       "      <td>Valve</td>\n",
       "      <td>NaN</td>\n",
       "      <td>4458</td>\n",
       "      <td>783</td>\n",
       "      <td>0</td>\n",
       "      <td>2,000,000 .. 5,000,000</td>\n",
       "      <td>711</td>\n",
       "      <td>0</td>\n",
       "      <td>13</td>\n",
       "      <td>0</td>\n",
       "      <td>499</td>\n",
       "      <td>499</td>\n",
       "      <td>0</td>\n",
       "      <td>English, French, German, Italian, Spanish - Sp...</td>\n",
       "      <td>Action</td>\n",
       "      <td>90</td>\n",
       "      <td>{'Action': 734, 'FPS': 298, 'Multiplayer': 252...</td>\n",
       "    </tr>\n",
       "    <tr>\n",
       "      <th>30</th>\n",
       "      <td>Day of Defeat</td>\n",
       "      <td>Valve</td>\n",
       "      <td>Valve</td>\n",
       "      <td>NaN</td>\n",
       "      <td>4389</td>\n",
       "      <td>488</td>\n",
       "      <td>0</td>\n",
       "      <td>5,000,000 .. 10,000,000</td>\n",
       "      <td>948</td>\n",
       "      <td>0</td>\n",
       "      <td>20</td>\n",
       "      <td>0</td>\n",
       "      <td>499</td>\n",
       "      <td>499</td>\n",
       "      <td>0</td>\n",
       "      <td>English, French, German, Italian, Spanish - Spain</td>\n",
       "      <td>Action</td>\n",
       "      <td>160</td>\n",
       "      <td>{'FPS': 777, 'World War II': 243, 'Multiplayer...</td>\n",
       "    </tr>\n",
       "    <tr>\n",
       "      <th>40</th>\n",
       "      <td>Deathmatch Classic</td>\n",
       "      <td>Valve</td>\n",
       "      <td>Valve</td>\n",
       "      <td>NaN</td>\n",
       "      <td>1609</td>\n",
       "      <td>353</td>\n",
       "      <td>0</td>\n",
       "      <td>5,000,000 .. 10,000,000</td>\n",
       "      <td>25</td>\n",
       "      <td>0</td>\n",
       "      <td>5</td>\n",
       "      <td>0</td>\n",
       "      <td>499</td>\n",
       "      <td>499</td>\n",
       "      <td>0</td>\n",
       "      <td>English, French, German, Italian, Spanish - Sp...</td>\n",
       "      <td>Action</td>\n",
       "      <td>10</td>\n",
       "      <td>{'Action': 625, 'FPS': 134, 'Classic': 103, 'M...</td>\n",
       "    </tr>\n",
       "    <tr>\n",
       "      <th>50</th>\n",
       "      <td>Half-Life: Opposing Force</td>\n",
       "      <td>Gearbox Software</td>\n",
       "      <td>Valve</td>\n",
       "      <td>NaN</td>\n",
       "      <td>9295</td>\n",
       "      <td>491</td>\n",
       "      <td>0</td>\n",
       "      <td>5,000,000 .. 10,000,000</td>\n",
       "      <td>188</td>\n",
       "      <td>20</td>\n",
       "      <td>85</td>\n",
       "      <td>20</td>\n",
       "      <td>499</td>\n",
       "      <td>499</td>\n",
       "      <td>0</td>\n",
       "      <td>English, French, German, Korean</td>\n",
       "      <td>Action</td>\n",
       "      <td>96</td>\n",
       "      <td>{'FPS': 870, 'Action': 311, 'Classic': 238, 'S...</td>\n",
       "    </tr>\n",
       "  </tbody>\n",
       "</table>\n",
       "</div>"
      ],
      "text/plain": [
       "                            name         developer publisher  score_rank  \\\n",
       "appid                                                                      \n",
       "10                Counter-Strike             Valve     Valve         NaN   \n",
       "20         Team Fortress Classic             Valve     Valve         NaN   \n",
       "30                 Day of Defeat             Valve     Valve         NaN   \n",
       "40            Deathmatch Classic             Valve     Valve         NaN   \n",
       "50     Half-Life: Opposing Force  Gearbox Software     Valve         NaN   \n",
       "\n",
       "       positive  negative  userscore                    owners  \\\n",
       "appid                                                            \n",
       "10       162672      4258          0  10,000,000 .. 20,000,000   \n",
       "20         4458       783          0    2,000,000 .. 5,000,000   \n",
       "30         4389       488          0   5,000,000 .. 10,000,000   \n",
       "40         1609       353          0   5,000,000 .. 10,000,000   \n",
       "50         9295       491          0   5,000,000 .. 10,000,000   \n",
       "\n",
       "       average_forever  average_2weeks  median_forever  median_2weeks  price  \\\n",
       "appid                                                                          \n",
       "10                9688             148             218            118    999   \n",
       "20                 711               0              13              0    499   \n",
       "30                 948               0              20              0    499   \n",
       "40                  25               0               5              0    499   \n",
       "50                 188              20              85             20    499   \n",
       "\n",
       "       initialprice  discount  \\\n",
       "appid                           \n",
       "10              999         0   \n",
       "20              499         0   \n",
       "30              499         0   \n",
       "40              499         0   \n",
       "50              499         0   \n",
       "\n",
       "                                               languages   genre    ccu  \\\n",
       "appid                                                                     \n",
       "10     English, French, German, Italian, Spanish - Sp...  Action  15656   \n",
       "20     English, French, German, Italian, Spanish - Sp...  Action     90   \n",
       "30     English, French, German, Italian, Spanish - Spain  Action    160   \n",
       "40     English, French, German, Italian, Spanish - Sp...  Action     10   \n",
       "50                       English, French, German, Korean  Action     96   \n",
       "\n",
       "                                                    tags  \n",
       "appid                                                     \n",
       "10     {'Action': 5325, 'FPS': 4728, 'Multiplayer': 3...  \n",
       "20     {'Action': 734, 'FPS': 298, 'Multiplayer': 252...  \n",
       "30     {'FPS': 777, 'World War II': 243, 'Multiplayer...  \n",
       "40     {'Action': 625, 'FPS': 134, 'Classic': 103, 'M...  \n",
       "50     {'FPS': 870, 'Action': 311, 'Classic': 238, 'S...  "
      ]
     },
     "execution_count": 7,
     "metadata": {},
     "output_type": "execute_result"
    }
   ],
   "source": [
    "# SteamSpy data has developer and genre\n",
    "steamspy_data.head()"
   ]
  },
  {
   "cell_type": "code",
   "execution_count": 8,
   "metadata": {},
   "outputs": [
    {
     "data": {
      "text/plain": [
       "Int64Index([     10,      20,      30,      40,      50,      60,      70,\n",
       "                 80,     130,     220,\n",
       "            ...\n",
       "            1172620, 1174180, 1180380, 1190460, 1213210, 1226470, 1237970,\n",
       "            1284410, 1286830, 1289310],\n",
       "           dtype='int64', name='appid', length=1000)"
      ]
     },
     "execution_count": 8,
     "metadata": {},
     "output_type": "execute_result"
    }
   ],
   "source": [
    "steamspy_data.index"
   ]
  },
  {
   "cell_type": "markdown",
   "metadata": {},
   "source": [
    "## Import Video Game Reviews"
   ]
  },
  {
   "cell_type": "code",
   "execution_count": 5,
   "metadata": {},
   "outputs": [],
   "source": [
    "reviews_df = pd.read_csv(os.path.join(path_interim, \"reviews.csv\"), index_col=[0,1], low_memory=False).sort_index()"
   ]
  },
  {
   "cell_type": "code",
   "execution_count": 10,
   "metadata": {},
   "outputs": [
    {
     "name": "stdout",
     "output_type": "stream",
     "text": [
      "<class 'pandas.core.frame.DataFrame'>\n",
      "MultiIndex: 3753726 entries, (10, 34977170) to (1289310, 76312449)\n",
      "Data columns (total 21 columns):\n",
      " #   Column                          Non-Null Count    Dtype  \n",
      "---  ------                          --------------    -----  \n",
      " 0   language                        3753726 non-null  object \n",
      " 1   review                          3746757 non-null  object \n",
      " 2   timestamp_created               3753726 non-null  int64  \n",
      " 3   timestamp_updated               3753726 non-null  int64  \n",
      " 4   voted_up                        3753726 non-null  bool   \n",
      " 5   votes_up                        3753726 non-null  int64  \n",
      " 6   votes_funny                     3753726 non-null  int64  \n",
      " 7   weighted_vote_score             3753726 non-null  float64\n",
      " 8   comment_count                   3753726 non-null  int64  \n",
      " 9   steam_purchase                  3753726 non-null  bool   \n",
      " 10  received_for_free               3753726 non-null  bool   \n",
      " 11  written_during_early_access     3753726 non-null  bool   \n",
      " 12  author.steamid                  3753726 non-null  int64  \n",
      " 13  author.num_games_owned          3753726 non-null  int64  \n",
      " 14  author.num_reviews              3753726 non-null  int64  \n",
      " 15  author.playtime_forever         3753417 non-null  float64\n",
      " 16  author.playtime_last_two_weeks  3753417 non-null  float64\n",
      " 17  author.playtime_at_review       3752728 non-null  float64\n",
      " 18  author.last_played              3753417 non-null  float64\n",
      " 19  timestamp_dev_responded         10906 non-null    float64\n",
      " 20  developer_response              10906 non-null    object \n",
      "dtypes: bool(4), float64(6), int64(8), object(3)\n",
      "memory usage: 707.6+ MB\n"
     ]
    }
   ],
   "source": [
    "reviews_df.info(null_counts=True)"
   ]
  },
  {
   "cell_type": "code",
   "execution_count": 11,
   "metadata": {},
   "outputs": [
    {
     "data": {
      "text/plain": [
       "FrozenList(['appid', 'recommendationid'])"
      ]
     },
     "execution_count": 11,
     "metadata": {},
     "output_type": "execute_result"
    }
   ],
   "source": [
    "reviews_df.index.names"
   ]
  },
  {
   "cell_type": "code",
   "execution_count": 12,
   "metadata": {},
   "outputs": [
    {
     "data": {
      "text/plain": [
       "Int64Index([     10,      20,      30,      40,      50,      60,      70,\n",
       "                 80,     130,     220,\n",
       "            ...\n",
       "            1151340, 1172380, 1172620, 1174180, 1190460, 1213210, 1226470,\n",
       "            1237970, 1286830, 1289310],\n",
       "           dtype='int64', name='appid', length=748)"
      ]
     },
     "execution_count": 12,
     "metadata": {},
     "output_type": "execute_result"
    }
   ],
   "source": [
    "# 748 game tiles met the download critera\n",
    "reviews_df.index.levels[0]"
   ]
  },
  {
   "cell_type": "code",
   "execution_count": 13,
   "metadata": {},
   "outputs": [
    {
     "data": {
      "text/html": [
       "<div>\n",
       "<style scoped>\n",
       "    .dataframe tbody tr th:only-of-type {\n",
       "        vertical-align: middle;\n",
       "    }\n",
       "\n",
       "    .dataframe tbody tr th {\n",
       "        vertical-align: top;\n",
       "    }\n",
       "\n",
       "    .dataframe thead th {\n",
       "        text-align: right;\n",
       "    }\n",
       "</style>\n",
       "<table border=\"1\" class=\"dataframe\">\n",
       "  <thead>\n",
       "    <tr style=\"text-align: right;\">\n",
       "      <th></th>\n",
       "      <th></th>\n",
       "      <th>language</th>\n",
       "      <th>review</th>\n",
       "      <th>timestamp_created</th>\n",
       "      <th>timestamp_updated</th>\n",
       "      <th>voted_up</th>\n",
       "      <th>votes_up</th>\n",
       "      <th>votes_funny</th>\n",
       "      <th>weighted_vote_score</th>\n",
       "      <th>comment_count</th>\n",
       "      <th>steam_purchase</th>\n",
       "      <th>...</th>\n",
       "      <th>written_during_early_access</th>\n",
       "      <th>author.steamid</th>\n",
       "      <th>author.num_games_owned</th>\n",
       "      <th>author.num_reviews</th>\n",
       "      <th>author.playtime_forever</th>\n",
       "      <th>author.playtime_last_two_weeks</th>\n",
       "      <th>author.playtime_at_review</th>\n",
       "      <th>author.last_played</th>\n",
       "      <th>timestamp_dev_responded</th>\n",
       "      <th>developer_response</th>\n",
       "    </tr>\n",
       "    <tr>\n",
       "      <th>appid</th>\n",
       "      <th>recommendationid</th>\n",
       "      <th></th>\n",
       "      <th></th>\n",
       "      <th></th>\n",
       "      <th></th>\n",
       "      <th></th>\n",
       "      <th></th>\n",
       "      <th></th>\n",
       "      <th></th>\n",
       "      <th></th>\n",
       "      <th></th>\n",
       "      <th></th>\n",
       "      <th></th>\n",
       "      <th></th>\n",
       "      <th></th>\n",
       "      <th></th>\n",
       "      <th></th>\n",
       "      <th></th>\n",
       "      <th></th>\n",
       "      <th></th>\n",
       "      <th></th>\n",
       "      <th></th>\n",
       "    </tr>\n",
       "  </thead>\n",
       "  <tbody>\n",
       "    <tr>\n",
       "      <th rowspan=\"5\" valign=\"top\">10</th>\n",
       "      <th>34977170</th>\n",
       "      <td>english</td>\n",
       "      <td>good game</td>\n",
       "      <td>1505496203</td>\n",
       "      <td>1505496203</td>\n",
       "      <td>True</td>\n",
       "      <td>1</td>\n",
       "      <td>0</td>\n",
       "      <td>0.523810</td>\n",
       "      <td>0</td>\n",
       "      <td>True</td>\n",
       "      <td>...</td>\n",
       "      <td>False</td>\n",
       "      <td>76561198411856225</td>\n",
       "      <td>29</td>\n",
       "      <td>2</td>\n",
       "      <td>129549.0</td>\n",
       "      <td>0.0</td>\n",
       "      <td>16131.0</td>\n",
       "      <td>1.595980e+09</td>\n",
       "      <td>NaN</td>\n",
       "      <td>NaN</td>\n",
       "    </tr>\n",
       "    <tr>\n",
       "      <th>34978487</th>\n",
       "      <td>english</td>\n",
       "      <td>classic old school game + :steamhappy:</td>\n",
       "      <td>1505500384</td>\n",
       "      <td>1505500384</td>\n",
       "      <td>True</td>\n",
       "      <td>0</td>\n",
       "      <td>0</td>\n",
       "      <td>0.000000</td>\n",
       "      <td>0</td>\n",
       "      <td>True</td>\n",
       "      <td>...</td>\n",
       "      <td>False</td>\n",
       "      <td>76561198230410328</td>\n",
       "      <td>13</td>\n",
       "      <td>7</td>\n",
       "      <td>90881.0</td>\n",
       "      <td>39.0</td>\n",
       "      <td>37281.0</td>\n",
       "      <td>1.599362e+09</td>\n",
       "      <td>NaN</td>\n",
       "      <td>NaN</td>\n",
       "    </tr>\n",
       "    <tr>\n",
       "      <th>34980761</th>\n",
       "      <td>english</td>\n",
       "      <td>Servidores broken por exemplo: Dou Ctrl+tiro d...</td>\n",
       "      <td>1505507824</td>\n",
       "      <td>1505507824</td>\n",
       "      <td>False</td>\n",
       "      <td>0</td>\n",
       "      <td>0</td>\n",
       "      <td>0.476423</td>\n",
       "      <td>0</td>\n",
       "      <td>True</td>\n",
       "      <td>...</td>\n",
       "      <td>False</td>\n",
       "      <td>76561198213606925</td>\n",
       "      <td>106</td>\n",
       "      <td>13</td>\n",
       "      <td>7081.0</td>\n",
       "      <td>180.0</td>\n",
       "      <td>6664.0</td>\n",
       "      <td>1.599476e+09</td>\n",
       "      <td>NaN</td>\n",
       "      <td>NaN</td>\n",
       "    </tr>\n",
       "    <tr>\n",
       "      <th>34985180</th>\n",
       "      <td>english</td>\n",
       "      <td>\\nBefore I played:\\n＼＼ ＿\\n　　 ＼( ͡° ͜ʖ ͡°) \\n　　...</td>\n",
       "      <td>1505525745</td>\n",
       "      <td>1505525745</td>\n",
       "      <td>True</td>\n",
       "      <td>0</td>\n",
       "      <td>1</td>\n",
       "      <td>0.000000</td>\n",
       "      <td>0</td>\n",
       "      <td>True</td>\n",
       "      <td>...</td>\n",
       "      <td>False</td>\n",
       "      <td>76561198319303472</td>\n",
       "      <td>239</td>\n",
       "      <td>156</td>\n",
       "      <td>253.0</td>\n",
       "      <td>0.0</td>\n",
       "      <td>45.0</td>\n",
       "      <td>1.517853e+09</td>\n",
       "      <td>NaN</td>\n",
       "      <td>NaN</td>\n",
       "    </tr>\n",
       "    <tr>\n",
       "      <th>34988516</th>\n",
       "      <td>english</td>\n",
       "      <td>Good game but sadly not much servers left in t...</td>\n",
       "      <td>1505540844</td>\n",
       "      <td>1514641638</td>\n",
       "      <td>True</td>\n",
       "      <td>0</td>\n",
       "      <td>0</td>\n",
       "      <td>0.000000</td>\n",
       "      <td>0</td>\n",
       "      <td>True</td>\n",
       "      <td>...</td>\n",
       "      <td>False</td>\n",
       "      <td>76561198340225395</td>\n",
       "      <td>58</td>\n",
       "      <td>31</td>\n",
       "      <td>5354.0</td>\n",
       "      <td>0.0</td>\n",
       "      <td>3625.0</td>\n",
       "      <td>1.556272e+09</td>\n",
       "      <td>NaN</td>\n",
       "      <td>NaN</td>\n",
       "    </tr>\n",
       "  </tbody>\n",
       "</table>\n",
       "<p>5 rows × 21 columns</p>\n",
       "</div>"
      ],
      "text/plain": [
       "                       language  \\\n",
       "appid recommendationid            \n",
       "10    34977170          english   \n",
       "      34978487          english   \n",
       "      34980761          english   \n",
       "      34985180          english   \n",
       "      34988516          english   \n",
       "\n",
       "                                                                   review  \\\n",
       "appid recommendationid                                                      \n",
       "10    34977170                                                  good game   \n",
       "      34978487                     classic old school game + :steamhappy:   \n",
       "      34980761          Servidores broken por exemplo: Dou Ctrl+tiro d...   \n",
       "      34985180          \\nBefore I played:\\n＼＼ ＿\\n　　 ＼( ͡° ͜ʖ ͡°) \\n　　...   \n",
       "      34988516          Good game but sadly not much servers left in t...   \n",
       "\n",
       "                        timestamp_created  timestamp_updated  voted_up  \\\n",
       "appid recommendationid                                                   \n",
       "10    34977170                 1505496203         1505496203      True   \n",
       "      34978487                 1505500384         1505500384      True   \n",
       "      34980761                 1505507824         1505507824     False   \n",
       "      34985180                 1505525745         1505525745      True   \n",
       "      34988516                 1505540844         1514641638      True   \n",
       "\n",
       "                        votes_up  votes_funny  weighted_vote_score  \\\n",
       "appid recommendationid                                               \n",
       "10    34977170                 1            0             0.523810   \n",
       "      34978487                 0            0             0.000000   \n",
       "      34980761                 0            0             0.476423   \n",
       "      34985180                 0            1             0.000000   \n",
       "      34988516                 0            0             0.000000   \n",
       "\n",
       "                        comment_count  steam_purchase  ...  \\\n",
       "appid recommendationid                                 ...   \n",
       "10    34977170                      0            True  ...   \n",
       "      34978487                      0            True  ...   \n",
       "      34980761                      0            True  ...   \n",
       "      34985180                      0            True  ...   \n",
       "      34988516                      0            True  ...   \n",
       "\n",
       "                        written_during_early_access     author.steamid  \\\n",
       "appid recommendationid                                                   \n",
       "10    34977170                                False  76561198411856225   \n",
       "      34978487                                False  76561198230410328   \n",
       "      34980761                                False  76561198213606925   \n",
       "      34985180                                False  76561198319303472   \n",
       "      34988516                                False  76561198340225395   \n",
       "\n",
       "                        author.num_games_owned  author.num_reviews  \\\n",
       "appid recommendationid                                               \n",
       "10    34977170                              29                   2   \n",
       "      34978487                              13                   7   \n",
       "      34980761                             106                  13   \n",
       "      34985180                             239                 156   \n",
       "      34988516                              58                  31   \n",
       "\n",
       "                        author.playtime_forever  \\\n",
       "appid recommendationid                            \n",
       "10    34977170                         129549.0   \n",
       "      34978487                          90881.0   \n",
       "      34980761                           7081.0   \n",
       "      34985180                            253.0   \n",
       "      34988516                           5354.0   \n",
       "\n",
       "                        author.playtime_last_two_weeks  \\\n",
       "appid recommendationid                                   \n",
       "10    34977170                                     0.0   \n",
       "      34978487                                    39.0   \n",
       "      34980761                                   180.0   \n",
       "      34985180                                     0.0   \n",
       "      34988516                                     0.0   \n",
       "\n",
       "                        author.playtime_at_review  author.last_played  \\\n",
       "appid recommendationid                                                  \n",
       "10    34977170                            16131.0        1.595980e+09   \n",
       "      34978487                            37281.0        1.599362e+09   \n",
       "      34980761                             6664.0        1.599476e+09   \n",
       "      34985180                               45.0        1.517853e+09   \n",
       "      34988516                             3625.0        1.556272e+09   \n",
       "\n",
       "                        timestamp_dev_responded  developer_response  \n",
       "appid recommendationid                                               \n",
       "10    34977170                              NaN                 NaN  \n",
       "      34978487                              NaN                 NaN  \n",
       "      34980761                              NaN                 NaN  \n",
       "      34985180                              NaN                 NaN  \n",
       "      34988516                              NaN                 NaN  \n",
       "\n",
       "[5 rows x 21 columns]"
      ]
     },
     "execution_count": 13,
     "metadata": {},
     "output_type": "execute_result"
    }
   ],
   "source": [
    "reviews_df.head()"
   ]
  },
  {
   "cell_type": "code",
   "execution_count": 6,
   "metadata": {},
   "outputs": [],
   "source": [
    "# Delete blanks, duplicates, last two columns\n",
    "reviews_df.drop(['timestamp_dev_responded','developer_response'], axis=1, inplace=True)\n",
    "reviews_df.dropna(subset = ['review'], inplace=True)\n",
    "reviews_df = reviews_df[~reviews_df.index.duplicated(keep='first')]\n"
   ]
  },
  {
   "cell_type": "code",
   "execution_count": 18,
   "metadata": {},
   "outputs": [
    {
     "name": "stdout",
     "output_type": "stream",
     "text": [
      "<class 'pandas.core.frame.DataFrame'>\n",
      "MultiIndex: 3264320 entries, (10, 34977170) to (1289310, 76312449)\n",
      "Data columns (total 19 columns):\n",
      " #   Column                          Non-Null Count    Dtype  \n",
      "---  ------                          --------------    -----  \n",
      " 0   language                        3264320 non-null  object \n",
      " 1   review                          3264320 non-null  object \n",
      " 2   timestamp_created               3264320 non-null  int64  \n",
      " 3   timestamp_updated               3264320 non-null  int64  \n",
      " 4   voted_up                        3264320 non-null  bool   \n",
      " 5   votes_up                        3264320 non-null  int64  \n",
      " 6   votes_funny                     3264320 non-null  int64  \n",
      " 7   weighted_vote_score             3264320 non-null  float64\n",
      " 8   comment_count                   3264320 non-null  int64  \n",
      " 9   steam_purchase                  3264320 non-null  bool   \n",
      " 10  received_for_free               3264320 non-null  bool   \n",
      " 11  written_during_early_access     3264320 non-null  bool   \n",
      " 12  author.steamid                  3264320 non-null  int64  \n",
      " 13  author.num_games_owned          3264320 non-null  int64  \n",
      " 14  author.num_reviews              3264320 non-null  int64  \n",
      " 15  author.playtime_forever         3264012 non-null  float64\n",
      " 16  author.playtime_last_two_weeks  3264012 non-null  float64\n",
      " 17  author.playtime_at_review       3263381 non-null  float64\n",
      " 18  author.last_played              3264012 non-null  float64\n",
      "dtypes: bool(4), float64(5), int64(8), object(2)\n",
      "memory usage: 589.7+ MB\n"
     ]
    }
   ],
   "source": [
    "reviews_df.info(null_counts=True)"
   ]
  },
  {
   "cell_type": "markdown",
   "metadata": {},
   "source": [
    "## The Players"
   ]
  },
  {
   "cell_type": "code",
   "execution_count": 48,
   "metadata": {},
   "outputs": [
    {
     "name": "stdout",
     "output_type": "stream",
     "text": [
      "Average number of Steam games owned:   128.46120172041958\n",
      "Average player total minutes of playtime:   16387.024230303075\n",
      "Average player playtime last two weeks:   204.1406281594553\n",
      "Average player playtime at review:   10803.955064394871\n"
     ]
    }
   ],
   "source": [
    "print(\"Average number of Steam games owned:  \", reviews_df['author.num_games_owned'].mean())\n",
    "print(\"Average player total minutes of playtime:  \", reviews_df['author.playtime_forever'].mean())\n",
    "print(\"Average player playtime last two weeks:  \", reviews_df['author.playtime_last_two_weeks'].mean())\n",
    "print(\"Average player playtime at review:  \", reviews_df['author.playtime_at_review'].mean())"
   ]
  },
  {
   "cell_type": "code",
   "execution_count": 11,
   "metadata": {},
   "outputs": [
    {
     "data": {
      "text/plain": [
       "76561197993023804    125\n",
       "76561198315585536    121\n",
       "76561198062813911    108\n",
       "76561198101732759    104\n",
       "76561198082610824     98\n",
       "                    ... \n",
       "76561198269044983      1\n",
       "76561198873043192      1\n",
       "76561198336178427      1\n",
       "76561198004816125      1\n",
       "76561199000977408      1\n",
       "Name: author.steamid, Length: 2324565, dtype: int64"
      ]
     },
     "execution_count": 11,
     "metadata": {},
     "output_type": "execute_result"
    }
   ],
   "source": [
    "# User review counts\n",
    "reviews_df['author.steamid'].value_counts()"
   ]
  },
  {
   "cell_type": "code",
   "execution_count": 19,
   "metadata": {},
   "outputs": [],
   "source": [
    "user_grouped = reviews_df.groupby('author.steamid')\n",
    "user_counts = user_grouped['author.steamid'].count()"
   ]
  },
  {
   "cell_type": "code",
   "execution_count": 20,
   "metadata": {},
   "outputs": [
    {
     "data": {
      "text/plain": [
       "1832307"
      ]
     },
     "execution_count": 20,
     "metadata": {},
     "output_type": "execute_result"
    }
   ],
   "source": [
    "# Players with only one review\n",
    "user_counts[user_counts==1].count()"
   ]
  },
  {
   "cell_type": "code",
   "execution_count": 17,
   "metadata": {},
   "outputs": [
    {
     "data": {
      "text/plain": [
       "492258"
      ]
     },
     "execution_count": 17,
     "metadata": {},
     "output_type": "execute_result"
    }
   ],
   "source": [
    "# Players with more than one review\n",
    "user_counts[user_counts>1].count()"
   ]
  },
  {
   "cell_type": "code",
   "execution_count": 16,
   "metadata": {},
   "outputs": [
    {
     "data": {
      "text/plain": [
       "50129"
      ]
     },
     "execution_count": 16,
     "metadata": {},
     "output_type": "execute_result"
    }
   ],
   "source": [
    "# Players with five or more reviews\n",
    "user_counts[user_counts>=5].count()"
   ]
  },
  {
   "cell_type": "code",
   "execution_count": 15,
   "metadata": {},
   "outputs": [
    {
     "data": {
      "text/plain": [
       "182631"
      ]
     },
     "execution_count": 15,
     "metadata": {},
     "output_type": "execute_result"
    }
   ],
   "source": [
    "# Players with three or more reviews\n",
    "user_counts[user_counts>=3].count()"
   ]
  },
  {
   "cell_type": "code",
   "execution_count": 18,
   "metadata": {},
   "outputs": [
    {
     "data": {
      "text/plain": [
       "93943"
      ]
     },
     "execution_count": 18,
     "metadata": {},
     "output_type": "execute_result"
    }
   ],
   "source": [
    "# Players with three reviews\n",
    "user_counts[user_counts==3].count()"
   ]
  },
  {
   "cell_type": "code",
   "execution_count": 23,
   "metadata": {},
   "outputs": [
    {
     "data": {
      "text/html": [
       "<div>\n",
       "<style scoped>\n",
       "    .dataframe tbody tr th:only-of-type {\n",
       "        vertical-align: middle;\n",
       "    }\n",
       "\n",
       "    .dataframe tbody tr th {\n",
       "        vertical-align: top;\n",
       "    }\n",
       "\n",
       "    .dataframe thead th {\n",
       "        text-align: right;\n",
       "    }\n",
       "</style>\n",
       "<table border=\"1\" class=\"dataframe\">\n",
       "  <thead>\n",
       "    <tr style=\"text-align: right;\">\n",
       "      <th></th>\n",
       "      <th>ReviewsGiven</th>\n",
       "      <th>ReviewerCount</th>\n",
       "    </tr>\n",
       "  </thead>\n",
       "  <tbody>\n",
       "    <tr>\n",
       "      <th>0</th>\n",
       "      <td>1</td>\n",
       "      <td>1832307</td>\n",
       "    </tr>\n",
       "    <tr>\n",
       "      <th>1</th>\n",
       "      <td>2</td>\n",
       "      <td>309627</td>\n",
       "    </tr>\n",
       "    <tr>\n",
       "      <th>2</th>\n",
       "      <td>3</td>\n",
       "      <td>93943</td>\n",
       "    </tr>\n",
       "    <tr>\n",
       "      <th>3</th>\n",
       "      <td>4</td>\n",
       "      <td>38559</td>\n",
       "    </tr>\n",
       "    <tr>\n",
       "      <th>4</th>\n",
       "      <td>5</td>\n",
       "      <td>18699</td>\n",
       "    </tr>\n",
       "    <tr>\n",
       "      <th>5</th>\n",
       "      <td>6</td>\n",
       "      <td>10282</td>\n",
       "    </tr>\n",
       "    <tr>\n",
       "      <th>6</th>\n",
       "      <td>7</td>\n",
       "      <td>6384</td>\n",
       "    </tr>\n",
       "    <tr>\n",
       "      <th>7</th>\n",
       "      <td>8</td>\n",
       "      <td>3956</td>\n",
       "    </tr>\n",
       "    <tr>\n",
       "      <th>8</th>\n",
       "      <td>9</td>\n",
       "      <td>2711</td>\n",
       "    </tr>\n",
       "    <tr>\n",
       "      <th>9</th>\n",
       "      <td>10+</td>\n",
       "      <td>8097</td>\n",
       "    </tr>\n",
       "  </tbody>\n",
       "</table>\n",
       "</div>"
      ],
      "text/plain": [
       "  ReviewsGiven ReviewerCount\n",
       "0            1       1832307\n",
       "1            2        309627\n",
       "2            3         93943\n",
       "3            4         38559\n",
       "4            5         18699\n",
       "5            6         10282\n",
       "6            7          6384\n",
       "7            8          3956\n",
       "8            9          2711\n",
       "9          10+          8097"
      ]
     },
     "execution_count": 23,
     "metadata": {},
     "output_type": "execute_result"
    }
   ],
   "source": [
    "# Count of players per number of reviews given\n",
    "\n",
    "dfReviewCounts = pd.DataFrame(columns=['ReviewsGiven', 'ReviewerCount'])\n",
    "\n",
    "for i in range(1, 11):\n",
    "    if i != 10:\n",
    "        dfReviewCounts = dfReviewCounts.append({'ReviewsGiven': i, 'ReviewerCount': user_counts[user_counts==i].count()}, ignore_index=True)\n",
    "    if i == 10:\n",
    "        dfReviewCounts = dfReviewCounts.append({'ReviewsGiven': \"10+\", 'ReviewerCount': user_counts[user_counts>=10].count()}, ignore_index=True)\n",
    "\n",
    "dfReviewCounts"
   ]
  },
  {
   "cell_type": "code",
   "execution_count": 45,
   "metadata": {},
   "outputs": [
    {
     "data": {
      "text/plain": [
       "Text(0.5, 1.0, '# of Video Game Reviews Posted by A User')"
      ]
     },
     "execution_count": 45,
     "metadata": {},
     "output_type": "execute_result"
    },
    {
     "data": {
      "image/png": "[encoded data removed]",
      "text/plain": [
       "<Figure size 432x288 with 1 Axes>"
      ]
     },
     "metadata": {
      "needs_background": "light"
     },
     "output_type": "display_data"
    }
   ],
   "source": [
    "dfReviewCounts.plot(kind='bar', x='ReviewsGiven', xlabel='Reviews Given', legend=False)\n",
    "plt.title(\"# of Video Game Reviews Posted by A User\")"
   ]
  },
  {
   "cell_type": "code",
   "execution_count": 46,
   "metadata": {},
   "outputs": [
    {
     "data": {
      "text/plain": [
       "Text(0.5, 1.0, '3 or More Reviews Posted by A User')"
      ]
     },
     "execution_count": 46,
     "metadata": {},
     "output_type": "execute_result"
    },
    {
     "data": {
      "image/png": "[encoded data removed]",
      "text/plain": [
       "<Figure size 432x288 with 1 Axes>"
      ]
     },
     "metadata": {
      "needs_background": "light"
     },
     "output_type": "display_data"
    }
   ],
   "source": [
    "# Three or more reviews\n",
    "dfReviewCounts.iloc[2:].plot(kind='bar', x='ReviewsGiven', xlabel='Reviews Given', legend=False)\n",
    "plt.title(\"3 or More Reviews Posted by A User\")"
   ]
  },
  {
   "cell_type": "code",
   "execution_count": 35,
   "metadata": {},
   "outputs": [],
   "source": [
    "# Filter for three or more reviews\n",
    "reviews_3up = reviews_df[reviews_df['author.steamid'].map(reviews_df['author.steamid'].value_counts()) >= 3]"
   ]
  },
  {
   "cell_type": "code",
   "execution_count": 22,
   "metadata": {},
   "outputs": [
    {
     "data": {
      "text/plain": [
       "True     723843\n",
       "False     88916\n",
       "Name: voted_up, dtype: int64"
      ]
     },
     "execution_count": 22,
     "metadata": {},
     "output_type": "execute_result"
    }
   ],
   "source": [
    "# Up votes vs down votes\n",
    "reviews_3up.voted_up.value_counts()"
   ]
  },
  {
   "cell_type": "code",
   "execution_count": 74,
   "metadata": {
    "scrolled": true
   },
   "outputs": [
    {
     "data": {
      "image/png": "[encoded data removed]",
      "text/plain": [
       "<Figure size 432x288 with 1 Axes>"
      ]
     },
     "metadata": {
      "needs_background": "light"
     },
     "output_type": "display_data"
    }
   ],
   "source": [
    "x = [\"Voted Up\", \"Voted Down\"]\n",
    "y = [reviews_3up[\"voted_up\"][reviews_3up[\"voted_up\"] == True].count(), reviews_3up[\"voted_up\"][reviews_3up[\"voted_up\"] == False].count()]\n",
    "plt.bar(x,y)\n",
    "plt.title(\"Video Game Votes Up vs. Down (mil)\")\n",
    "plt.show()"
   ]
  },
  {
   "cell_type": "markdown",
   "metadata": {},
   "source": [
    "## Games"
   ]
  },
  {
   "cell_type": "code",
   "execution_count": 36,
   "metadata": {},
   "outputs": [],
   "source": [
    "reviews_3up.reset_index(inplace=True)\n",
    "reviews_3up.set_index('appid', inplace=True)"
   ]
  },
  {
   "cell_type": "code",
   "execution_count": 37,
   "metadata": {},
   "outputs": [
    {
     "data": {
      "text/plain": [
       "Index(['recommendationid', 'language', 'review', 'timestamp_created',\n",
       "       'timestamp_updated', 'voted_up', 'votes_up', 'votes_funny',\n",
       "       'weighted_vote_score', 'comment_count', 'steam_purchase',\n",
       "       'received_for_free', 'written_during_early_access', 'author.steamid',\n",
       "       'author.num_games_owned', 'author.num_reviews',\n",
       "       'author.playtime_forever', 'author.playtime_last_two_weeks',\n",
       "       'author.playtime_at_review', 'author.last_played', 'name', 'developer',\n",
       "       'publisher', 'score_rank', 'positive', 'negative', 'userscore',\n",
       "       'owners', 'average_forever', 'average_2weeks', 'median_forever',\n",
       "       'median_2weeks', 'price', 'initialprice', 'discount', 'languages',\n",
       "       'genre', 'ccu', 'tags'],\n",
       "      dtype='object')"
      ]
     },
     "execution_count": 37,
     "metadata": {},
     "output_type": "execute_result"
    }
   ],
   "source": [
    "# Merge reviews with SteamSpy game information\n",
    "named_df = pd.merge(reviews_3up, steamspy_data, on='appid', how='left')\n",
    "named_df.columns"
   ]
  },
  {
   "cell_type": "code",
   "execution_count": 107,
   "metadata": {},
   "outputs": [
    {
     "data": {
      "text/plain": [
       "Counter-Strike: Global Offensive     33950\n",
       "Garry's Mod                          28686\n",
       "Terraria                             28598\n",
       "Halo: The Master Chief Collection    18376\n",
       "Among Us                             15900\n",
       "Portal 2                             14330\n",
       "Left 4 Dead 2                        14067\n",
       "DOOM Eternal                         13807\n",
       "Fall Guys: Ultimate Knockout         13680\n",
       "Fallout: New Vegas                   11811\n",
       "Risk of Rain 2                       11446\n",
       "Borderlands 2                        10878\n",
       "Name: name, dtype: int64"
      ]
     },
     "execution_count": 107,
     "metadata": {},
     "output_type": "execute_result"
    }
   ],
   "source": [
    "# Games with most reviews\n",
    "named_df['name'].value_counts().head(12)"
   ]
  },
  {
   "cell_type": "code",
   "execution_count": 91,
   "metadata": {},
   "outputs": [
    {
     "data": {
      "text/plain": [
       "<AxesSubplot:title={'center':'Top 20 Game Review Counts'}>"
      ]
     },
     "execution_count": 91,
     "metadata": {},
     "output_type": "execute_result"
    },
    {
     "data": {
      "image/png": "[encoded data removed]",
      "text/plain": [
       "<Figure size 432x288 with 1 Axes>"
      ]
     },
     "metadata": {
      "needs_background": "light"
     },
     "output_type": "display_data"
    }
   ],
   "source": [
    "named_df[\"name\"].value_counts().head(20).plot(kind='bar', title=\"Top 20 Game Review Counts\")"
   ]
  },
  {
   "cell_type": "code",
   "execution_count": 10,
   "metadata": {},
   "outputs": [],
   "source": [
    "named_df.reset_index(inplace=True)"
   ]
  },
  {
   "cell_type": "code",
   "execution_count": 11,
   "metadata": {},
   "outputs": [],
   "source": [
    "named_group = named_df.groupby([\"appid\", \"name\"])"
   ]
  },
  {
   "cell_type": "code",
   "execution_count": 110,
   "metadata": {},
   "outputs": [
    {
     "data": {
      "text/plain": [
       "appid    name                             \n",
       "730      Counter-Strike: Global Offensive     33950\n",
       "4000     Garry's Mod                          28686\n",
       "105600   Terraria                             28598\n",
       "976730   Halo: The Master Chief Collection    18376\n",
       "945360   Among Us                             15900\n",
       "620      Portal 2                             14330\n",
       "550      Left 4 Dead 2                        14067\n",
       "782330   DOOM Eternal                         13807\n",
       "1097150  Fall Guys: Ultimate Knockout         13680\n",
       "22380    Fallout: New Vegas                   11811\n",
       "632360   Risk of Rain 2                       11446\n",
       "49520    Borderlands 2                        10878\n",
       "629760   MORDHAU                               9954\n",
       "220      Half-Life 2                           9748\n",
       "1172380  STAR WARS Jedi: Fallen Order          8382\n",
       "400      Portal                                7583\n",
       "674940   Stick Fight: The Game                 7474\n",
       "883710   Resident Evil 2                       7223\n",
       "814380   Sekiro: Shadows Die Twice             6801\n",
       "812140   Assassin's Creed Odyssey              6666\n",
       "Name: recommendationid, dtype: int64"
      ]
     },
     "execution_count": 110,
     "metadata": {},
     "output_type": "execute_result"
    }
   ],
   "source": [
    "# Top games with ID\n",
    "named_group.recommendationid.count().sort_values(ascending = False).head(20)"
   ]
  },
  {
   "cell_type": "code",
   "execution_count": 12,
   "metadata": {},
   "outputs": [],
   "source": [
    "game_counts = named_group.recommendationid.count()"
   ]
  },
  {
   "cell_type": "code",
   "execution_count": 55,
   "metadata": {},
   "outputs": [
    {
     "data": {
      "text/plain": [
       "498"
      ]
     },
     "execution_count": 55,
     "metadata": {},
     "output_type": "execute_result"
    }
   ],
   "source": [
    "# Number of games with 100+ reviews\n",
    "game_counts[game_counts>=100].count()"
   ]
  },
  {
   "cell_type": "code",
   "execution_count": 13,
   "metadata": {},
   "outputs": [],
   "source": [
    "games_100up = pd.DataFrame(game_counts[game_counts>=100])\n",
    "games_100up.rename(columns={'recommendationid':'reviews'}, inplace=True)"
   ]
  },
  {
   "cell_type": "code",
   "execution_count": 15,
   "metadata": {},
   "outputs": [],
   "source": [
    "# Separate counts of up and down votes\n",
    "votes_up=named_df[named_df['voted_up'] == True].groupby(['appid', 'name']).agg(up=('recommendationid', 'count'))\n",
    "votes_down =named_df[named_df['voted_up'] == False].groupby(['appid', 'name']).agg(down=('recommendationid', 'count'))"
   ]
  },
  {
   "cell_type": "code",
   "execution_count": 16,
   "metadata": {},
   "outputs": [],
   "source": [
    "games_100up = games_100up.merge(votes_up, how = 'left', on = ['appid', 'name'])\n",
    "games_100up = games_100up.merge(votes_down, how = 'left', on = ['appid', 'name'])"
   ]
  },
  {
   "cell_type": "code",
   "execution_count": 17,
   "metadata": {},
   "outputs": [],
   "source": [
    "games_100up = games_100up.fillna(0)"
   ]
  },
  {
   "cell_type": "code",
   "execution_count": 18,
   "metadata": {},
   "outputs": [],
   "source": [
    "games_100up[\"up_rate\"] = games_100up.up / (games_100up.up + games_100up.down)"
   ]
  },
  {
   "cell_type": "code",
   "execution_count": 35,
   "metadata": {},
   "outputs": [
    {
     "data": {
      "text/html": [
       "<div>\n",
       "<style scoped>\n",
       "    .dataframe tbody tr th:only-of-type {\n",
       "        vertical-align: middle;\n",
       "    }\n",
       "\n",
       "    .dataframe tbody tr th {\n",
       "        vertical-align: top;\n",
       "    }\n",
       "\n",
       "    .dataframe thead th {\n",
       "        text-align: right;\n",
       "    }\n",
       "</style>\n",
       "<table border=\"1\" class=\"dataframe\">\n",
       "  <thead>\n",
       "    <tr style=\"text-align: right;\">\n",
       "      <th></th>\n",
       "      <th></th>\n",
       "      <th>reviews</th>\n",
       "      <th>up</th>\n",
       "      <th>down</th>\n",
       "      <th>up_rate</th>\n",
       "    </tr>\n",
       "    <tr>\n",
       "      <th>appid</th>\n",
       "      <th>name</th>\n",
       "      <th></th>\n",
       "      <th></th>\n",
       "      <th></th>\n",
       "      <th></th>\n",
       "    </tr>\n",
       "  </thead>\n",
       "  <tbody>\n",
       "    <tr>\n",
       "      <th>226700</th>\n",
       "      <th>Infestation: Survivor Stories 2020</th>\n",
       "      <td>107</td>\n",
       "      <td>18</td>\n",
       "      <td>89</td>\n",
       "      <td>0.168224</td>\n",
       "    </tr>\n",
       "    <tr>\n",
       "      <th>295110</th>\n",
       "      <th>Just Survive</th>\n",
       "      <td>569</td>\n",
       "      <td>138</td>\n",
       "      <td>431</td>\n",
       "      <td>0.242531</td>\n",
       "    </tr>\n",
       "    <tr>\n",
       "      <th>215280</th>\n",
       "      <th>Secret World Legends</th>\n",
       "      <td>158</td>\n",
       "      <td>59</td>\n",
       "      <td>99</td>\n",
       "      <td>0.373418</td>\n",
       "    </tr>\n",
       "    <tr>\n",
       "      <th>224540</th>\n",
       "      <th>Ace of Spades: Battle Builder</th>\n",
       "      <td>337</td>\n",
       "      <td>127</td>\n",
       "      <td>210</td>\n",
       "      <td>0.376855</td>\n",
       "    </tr>\n",
       "    <tr>\n",
       "      <th>424370</th>\n",
       "      <th>Wolcen: Lords of Mayhem</th>\n",
       "      <td>218</td>\n",
       "      <td>89</td>\n",
       "      <td>129</td>\n",
       "      <td>0.408257</td>\n",
       "    </tr>\n",
       "    <tr>\n",
       "      <th>1015500</th>\n",
       "      <th>WWE 2K20</th>\n",
       "      <td>165</td>\n",
       "      <td>70</td>\n",
       "      <td>95</td>\n",
       "      <td>0.424242</td>\n",
       "    </tr>\n",
       "    <tr>\n",
       "      <th>437220</th>\n",
       "      <th>The Culling</th>\n",
       "      <td>192</td>\n",
       "      <td>82</td>\n",
       "      <td>110</td>\n",
       "      <td>0.427083</td>\n",
       "    </tr>\n",
       "    <tr>\n",
       "      <th>834910</th>\n",
       "      <th>ATLAS</th>\n",
       "      <td>2509</td>\n",
       "      <td>1075</td>\n",
       "      <td>1434</td>\n",
       "      <td>0.428458</td>\n",
       "    </tr>\n",
       "    <tr>\n",
       "      <th>529180</th>\n",
       "      <th>Dark and Light</th>\n",
       "      <td>155</td>\n",
       "      <td>72</td>\n",
       "      <td>83</td>\n",
       "      <td>0.464516</td>\n",
       "    </tr>\n",
       "    <tr>\n",
       "      <th>841370</th>\n",
       "      <th>NBA 2K19</th>\n",
       "      <td>506</td>\n",
       "      <td>245</td>\n",
       "      <td>261</td>\n",
       "      <td>0.484190</td>\n",
       "    </tr>\n",
       "  </tbody>\n",
       "</table>\n",
       "</div>"
      ],
      "text/plain": [
       "                                            reviews    up  down   up_rate\n",
       "appid   name                                                             \n",
       "226700  Infestation: Survivor Stories 2020      107    18    89  0.168224\n",
       "295110  Just Survive                            569   138   431  0.242531\n",
       "215280  Secret World Legends                    158    59    99  0.373418\n",
       "224540  Ace of Spades: Battle Builder           337   127   210  0.376855\n",
       "424370  Wolcen: Lords of Mayhem                 218    89   129  0.408257\n",
       "1015500 WWE 2K20                                165    70    95  0.424242\n",
       "437220  The Culling                             192    82   110  0.427083\n",
       "834910  ATLAS                                  2509  1075  1434  0.428458\n",
       "529180  Dark and Light                          155    72    83  0.464516\n",
       "841370  NBA 2K19                                506   245   261  0.484190"
      ]
     },
     "execution_count": 35,
     "metadata": {},
     "output_type": "execute_result"
    }
   ],
   "source": [
    "# Games with lowest percentage of up votes\n",
    "games_100up[games_100up.up_rate < 0.50].sort_values(\"up_rate\")"
   ]
  },
  {
   "cell_type": "code",
   "execution_count": 36,
   "metadata": {},
   "outputs": [
    {
     "data": {
      "text/html": [
       "<div>\n",
       "<style scoped>\n",
       "    .dataframe tbody tr th:only-of-type {\n",
       "        vertical-align: middle;\n",
       "    }\n",
       "\n",
       "    .dataframe tbody tr th {\n",
       "        vertical-align: top;\n",
       "    }\n",
       "\n",
       "    .dataframe thead th {\n",
       "        text-align: right;\n",
       "    }\n",
       "</style>\n",
       "<table border=\"1\" class=\"dataframe\">\n",
       "  <thead>\n",
       "    <tr style=\"text-align: right;\">\n",
       "      <th></th>\n",
       "      <th></th>\n",
       "      <th>reviews</th>\n",
       "      <th>up</th>\n",
       "      <th>down</th>\n",
       "      <th>up_rate</th>\n",
       "    </tr>\n",
       "    <tr>\n",
       "      <th>appid</th>\n",
       "      <th>name</th>\n",
       "      <th></th>\n",
       "      <th></th>\n",
       "      <th></th>\n",
       "      <th></th>\n",
       "    </tr>\n",
       "  </thead>\n",
       "  <tbody>\n",
       "    <tr>\n",
       "      <th>620</th>\n",
       "      <th>Portal 2</th>\n",
       "      <td>14330</td>\n",
       "      <td>14148</td>\n",
       "      <td>182</td>\n",
       "      <td>0.987299</td>\n",
       "    </tr>\n",
       "    <tr>\n",
       "      <th>431960</th>\n",
       "      <th>Wallpaper Engine</th>\n",
       "      <td>291</td>\n",
       "      <td>287</td>\n",
       "      <td>4</td>\n",
       "      <td>0.986254</td>\n",
       "    </tr>\n",
       "    <tr>\n",
       "      <th>400</th>\n",
       "      <th>Portal</th>\n",
       "      <td>7583</td>\n",
       "      <td>7475</td>\n",
       "      <td>108</td>\n",
       "      <td>0.985758</td>\n",
       "    </tr>\n",
       "    <tr>\n",
       "      <th>427520</th>\n",
       "      <th>Factorio</th>\n",
       "      <td>108</td>\n",
       "      <td>106</td>\n",
       "      <td>2</td>\n",
       "      <td>0.981481</td>\n",
       "    </tr>\n",
       "    <tr>\n",
       "      <th>379720</th>\n",
       "      <th>DOOM</th>\n",
       "      <td>105</td>\n",
       "      <td>103</td>\n",
       "      <td>2</td>\n",
       "      <td>0.980952</td>\n",
       "    </tr>\n",
       "    <tr>\n",
       "      <th>312530</th>\n",
       "      <th>Duck Game</th>\n",
       "      <td>749</td>\n",
       "      <td>733</td>\n",
       "      <td>16</td>\n",
       "      <td>0.978638</td>\n",
       "    </tr>\n",
       "    <tr>\n",
       "      <th>250900</th>\n",
       "      <th>The Binding of Isaac: Rebirth</th>\n",
       "      <td>4868</td>\n",
       "      <td>4756</td>\n",
       "      <td>112</td>\n",
       "      <td>0.976993</td>\n",
       "    </tr>\n",
       "    <tr>\n",
       "      <th>294100</th>\n",
       "      <th>RimWorld</th>\n",
       "      <td>335</td>\n",
       "      <td>327</td>\n",
       "      <td>8</td>\n",
       "      <td>0.976119</td>\n",
       "    </tr>\n",
       "    <tr>\n",
       "      <th>519860</th>\n",
       "      <th>DUSK</th>\n",
       "      <td>2852</td>\n",
       "      <td>2783</td>\n",
       "      <td>69</td>\n",
       "      <td>0.975806</td>\n",
       "    </tr>\n",
       "    <tr>\n",
       "      <th>250320</th>\n",
       "      <th>The Wolf Among Us</th>\n",
       "      <td>976</td>\n",
       "      <td>951</td>\n",
       "      <td>25</td>\n",
       "      <td>0.974385</td>\n",
       "    </tr>\n",
       "  </tbody>\n",
       "</table>\n",
       "</div>"
      ],
      "text/plain": [
       "                                      reviews     up  down   up_rate\n",
       "appid  name                                                         \n",
       "620    Portal 2                         14330  14148   182  0.987299\n",
       "431960 Wallpaper Engine                   291    287     4  0.986254\n",
       "400    Portal                            7583   7475   108  0.985758\n",
       "427520 Factorio                           108    106     2  0.981481\n",
       "379720 DOOM                               105    103     2  0.980952\n",
       "312530 Duck Game                          749    733    16  0.978638\n",
       "250900 The Binding of Isaac: Rebirth     4868   4756   112  0.976993\n",
       "294100 RimWorld                           335    327     8  0.976119\n",
       "519860 DUSK                              2852   2783    69  0.975806\n",
       "250320 The Wolf Among Us                  976    951    25  0.974385"
      ]
     },
     "execution_count": 36,
     "metadata": {},
     "output_type": "execute_result"
    }
   ],
   "source": [
    "# Highest rated games\n",
    "games_100up.sort_values('up_rate', ascending=False).head(10)"
   ]
  },
  {
   "cell_type": "code",
   "execution_count": 124,
   "metadata": {},
   "outputs": [
    {
     "data": {
      "text/plain": [
       "Text(0.5, 1.0, 'Video Game Ratio of Up Votes')"
      ]
     },
     "execution_count": 124,
     "metadata": {},
     "output_type": "execute_result"
    },
    {
     "data": {
      "image/png": "[encoded data removed]",
      "text/plain": [
       "<Figure size 432x288 with 1 Axes>"
      ]
     },
     "metadata": {
      "needs_background": "light"
     },
     "output_type": "display_data"
    }
   ],
   "source": [
    "games_100up[\"up_rate\"].hist()\n",
    "plt.title(\"Video Game Ratio of Up Votes\")"
   ]
  },
  {
   "cell_type": "code",
   "execution_count": 125,
   "metadata": {
    "scrolled": true
   },
   "outputs": [
    {
     "data": {
      "text/plain": [
       "0.8450854047389679"
      ]
     },
     "execution_count": 125,
     "metadata": {},
     "output_type": "execute_result"
    }
   ],
   "source": [
    "games_100up[\"up_rate\"].mean()"
   ]
  },
  {
   "cell_type": "markdown",
   "metadata": {},
   "source": [
    "## Genres"
   ]
  },
  {
   "cell_type": "code",
   "execution_count": 38,
   "metadata": {},
   "outputs": [],
   "source": [
    "reviews_3up.reset_index(inplace=True)\n",
    "reviews_3up.set_index('appid', inplace=True)"
   ]
  },
  {
   "cell_type": "code",
   "execution_count": 39,
   "metadata": {},
   "outputs": [],
   "source": [
    "reviews_3up[\"genre\"] = \"\""
   ]
  },
  {
   "cell_type": "code",
   "execution_count": 40,
   "metadata": {},
   "outputs": [],
   "source": [
    "reviews_3up[\"genre\"].update(steamspy_data[\"genre\"])"
   ]
  },
  {
   "cell_type": "code",
   "execution_count": 22,
   "metadata": {},
   "outputs": [
    {
     "data": {
      "text/plain": [
       "Action                                                                        200896\n",
       "Action, Adventure                                                             103421\n",
       "Action, RPG                                                                    48165\n",
       "Indie, Simulation                                                              46297\n",
       "Strategy                                                                       38153\n",
       "                                                                               ...  \n",
       "Action, Free to Play, Indie, Massively Multiplayer, RPG                            1\n",
       "Action, Adventure, Free to Play, Indie                                             1\n",
       "Action, Casual, Free to Play, Indie, Simulation                                    1\n",
       "Action, Free to Play, Strategy                                                     1\n",
       "Action, Adventure, Casual, Free to Play, Indie, Massively Multiplayer, RPG         1\n",
       "Name: genre, Length: 153, dtype: int64"
      ]
     },
     "execution_count": 22,
     "metadata": {},
     "output_type": "execute_result"
    }
   ],
   "source": [
    "reviews_3up.genre.value_counts()"
   ]
  },
  {
   "cell_type": "code",
   "execution_count": 131,
   "metadata": {},
   "outputs": [
    {
     "data": {
      "text/plain": [
       "Action                   591479\n",
       "Indie                    245693\n",
       "Adventure                233482\n",
       "RPG                      171873\n",
       "Simulation               113227\n",
       "Strategy                 109447\n",
       "Casual                    62097\n",
       "Free to Play              46098\n",
       "Massively Multiplayer     34768\n",
       "Sports                    23785\n",
       "Early Access              23323\n",
       "Racing                    11483\n",
       "Utilities                  1906\n",
       "Audio Production           1615\n",
       "                            472\n",
       "Photo Editing               291\n",
       "Animation & Modeling        291\n",
       "Design & Illustration       291\n",
       "dtype: int64"
      ]
     },
     "execution_count": 131,
     "metadata": {},
     "output_type": "execute_result"
    }
   ],
   "source": [
    "# Review counts by genre (a game can be in multiple genres)\n",
    "reviews_3up.genre.str.split(\", \", expand=True).stack().value_counts()"
   ]
  },
  {
   "cell_type": "code",
   "execution_count": 132,
   "metadata": {},
   "outputs": [
    {
     "data": {
      "text/plain": [
       "<AxesSubplot:title={'center':'Reviews by (Multiple) Genre'}>"
      ]
     },
     "execution_count": 132,
     "metadata": {},
     "output_type": "execute_result"
    },
    {
     "data": {
      "image/png": "[encoded data removed]",
      "text/plain": [
       "<Figure size 432x288 with 1 Axes>"
      ]
     },
     "metadata": {
      "needs_background": "light"
     },
     "output_type": "display_data"
    }
   ],
   "source": [
    "reviews_3up.genre.str.split(\", \", expand=True).stack().value_counts().plot(kind='bar', title=\"Reviews by (Multiple) Genre\")"
   ]
  },
  {
   "cell_type": "code",
   "execution_count": 41,
   "metadata": {},
   "outputs": [],
   "source": [
    "# list of additional columns for individual genres\n",
    "columns_add = ['Action', 'Indie', 'Adventure', 'RPG', 'Strategy', 'Simulation', 'Casual', 'Massively', 'Sports', 'Racing', 'Other']"
   ]
  },
  {
   "cell_type": "code",
   "execution_count": 42,
   "metadata": {},
   "outputs": [],
   "source": [
    "# add genre columns to df, set to zero\n",
    "for newcol in columns_add:\n",
    "    reviews_3up[newcol]= 0"
   ]
  },
  {
   "cell_type": "code",
   "execution_count": 43,
   "metadata": {},
   "outputs": [
    {
     "data": {
      "text/plain": [
       "Index(['recommendationid', 'language', 'review', 'timestamp_created',\n",
       "       'timestamp_updated', 'voted_up', 'votes_up', 'votes_funny',\n",
       "       'weighted_vote_score', 'comment_count', 'steam_purchase',\n",
       "       'received_for_free', 'written_during_early_access', 'author.steamid',\n",
       "       'author.num_games_owned', 'author.num_reviews',\n",
       "       'author.playtime_forever', 'author.playtime_last_two_weeks',\n",
       "       'author.playtime_at_review', 'author.last_played', 'genre', 'Action',\n",
       "       'Indie', 'Adventure', 'RPG', 'Strategy', 'Simulation', 'Casual',\n",
       "       'Massively', 'Sports', 'Racing', 'Other'],\n",
       "      dtype='object')"
      ]
     },
     "execution_count": 43,
     "metadata": {},
     "output_type": "execute_result"
    }
   ],
   "source": [
    "reviews_3up.columns"
   ]
  },
  {
   "cell_type": "code",
   "execution_count": 44,
   "metadata": {},
   "outputs": [
    {
     "name": "stdout",
     "output_type": "stream",
     "text": [
      "iteration 812758\r"
     ]
    }
   ],
   "source": [
    "# For each genre in the genre column, update corresponding column with 1 (Action, RPG, Strategy, etc)\n",
    "\n",
    "for g in range(len(reviews_3up.genre)):\n",
    "    print(\"iteration {}\".format(g), end='\\r')  # display record counter\n",
    "    for c in range(len(columns_add)):\n",
    "        if c < 10:\n",
    "            if columns_add[c] in reviews_3up.genre.iloc[g]:\n",
    "                reviews_3up.iloc[g, 21 + c] = 1  # Action is 21st column, c will be zero\n",
    "# default is Other column\n",
    "        if c == 10 and reviews_3up.iloc[g][\"Action\":\"Racing\"].sum() == 0:\n",
    "            reviews_3up.Other.iloc[g] = 1    "
   ]
  },
  {
   "cell_type": "code",
   "execution_count": 45,
   "metadata": {},
   "outputs": [],
   "source": [
    "reviews_3up.to_csv(os.path.join(path_interim, \"genres.csv\"))"
   ]
  },
  {
   "cell_type": "code",
   "execution_count": 186,
   "metadata": {},
   "outputs": [
    {
     "name": "stdout",
     "output_type": "stream",
     "text": [
      "591479 Action    450\n",
      "dtype: int64 Average reviews per game:   Action    1314.397778\n",
      "dtype: float64\n",
      "245693 Indie    247\n",
      "dtype: int64 Average reviews per game:   Indie    994.708502\n",
      "dtype: float64\n",
      "233482 Adventure    215\n",
      "dtype: int64 Average reviews per game:   Adventure    1085.962791\n",
      "dtype: float64\n",
      "171873 RPG    174\n",
      "dtype: int64 Average reviews per game:   RPG    987.775862\n",
      "dtype: float64\n",
      "109447 Strategy    167\n",
      "dtype: int64 Average reviews per game:   Strategy    655.371257\n",
      "dtype: float64\n",
      "113227 Simulation    130\n",
      "dtype: int64 Average reviews per game:   Simulation    870.976923\n",
      "dtype: float64\n",
      "62097 Casual    66\n",
      "dtype: int64 Average reviews per game:   Casual    940.863636\n",
      "dtype: float64\n",
      "34768 Massively    57\n",
      "dtype: int64 Average reviews per game:   Massively    609.964912\n",
      "dtype: float64\n",
      "23785 Sports    23\n",
      "dtype: int64 Average reviews per game:   Sports    1034.130435\n",
      "dtype: float64\n",
      "11483 Racing    19\n",
      "dtype: int64 Average reviews per game:   Racing    604.368421\n",
      "dtype: float64\n",
      "2098 Other    4\n",
      "dtype: int64 Average reviews per game:   Other    524.5\n",
      "dtype: float64\n"
     ]
    }
   ],
   "source": [
    "# Average reviews per game by genre\n",
    "\n",
    "for col in columns_add:\n",
    "    reviews = reviews_3up[col].sum()  # sum genres\n",
    "    games = reviews_3up[['appid', col]][reviews_3up[col]==1].groupby('appid').sum().count()  # count games\n",
    "    print(reviews, games, \"Average reviews per game:  \", reviews/games )"
   ]
  },
  {
   "cell_type": "code",
   "execution_count": 204,
   "metadata": {},
   "outputs": [
    {
     "name": "stdout",
     "output_type": "stream",
     "text": [
      "           Reviews_per_game\n",
      "Action                 1314\n",
      "Adventure              1086\n",
      "Sports                 1034\n",
      "Indie                   995\n",
      "RPG                     988\n",
      "Casual                  941\n",
      "Strategy                655\n",
      "Massively               610\n",
      "Racing                  604\n",
      "Other                   525\n"
     ]
    },
    {
     "data": {
      "text/plain": [
       "<AxesSubplot:title={'center':'Average # Reviews per Genre'}>"
      ]
     },
     "execution_count": 204,
     "metadata": {},
     "output_type": "execute_result"
    },
    {
     "data": {
      "image/png": "[encoded data removed]",
      "text/plain": [
       "<Figure size 432x288 with 1 Axes>"
      ]
     },
     "metadata": {
      "needs_background": "light"
     },
     "output_type": "display_data"
    }
   ],
   "source": [
    "data = {'Action':1314, 'Indie':995, 'Adventure':1086, 'RPG': 988, 'Strategy':655, 'Casual':941, 'Massively':610, 'Sports':1034, 'Racing':604, 'Other':525}\n",
    "df = pd.DataFrame.from_dict(data, orient='index', columns=['Reviews_per_game'])\n",
    "df.sort_values('Reviews_per_game', ascending=False, inplace=True)\n",
    "print(df)\n",
    "df.plot(kind='bar', legend=False, title=\"Average # Reviews per Genre\")"
   ]
  },
  {
   "cell_type": "code",
   "execution_count": null,
   "metadata": {},
   "outputs": [],
   "source": [
    "# Average review score by genre\n",
    "\n",
    "for col in columns_add:\n",
    "    reviews = reviews_3up[col].sum()  # sum genres\n",
    "    games = reviews_3up[['appid', col]][reviews_3up[col]==1].groupby('appid').sum().count()  # count games\n",
    "    print(reviews, games, \"Average reviews per game:  \", reviews/games )"
   ]
  },
  {
   "cell_type": "code",
   "execution_count": 214,
   "metadata": {},
   "outputs": [],
   "source": [
    "genre_rates = games_100up.merge(steamspy_data, on='appid').groupby('genre').agg(up_sum=pd.NamedAgg(column='up', aggfunc=sum),\n",
    "                                                                  down_sum=pd.NamedAgg(column='down', aggfunc=sum))"
   ]
  },
  {
   "cell_type": "code",
   "execution_count": 216,
   "metadata": {},
   "outputs": [],
   "source": [
    "genre_rates.reset_index(inplace=True)"
   ]
  },
  {
   "cell_type": "code",
   "execution_count": 245,
   "metadata": {},
   "outputs": [],
   "source": [
    "cols = ['genre', 'score']\n",
    "lst = []\n",
    "for col in columns_add:\n",
    "    if col != \"Other\":\n",
    "        up_total = genre_rates.loc[genre_rates.genre.str.contains(col)].up_sum.sum()\n",
    "        down_total = genre_rates.loc[genre_rates.genre.str.contains(col)].down_sum.sum()\n",
    "        genre_rate = up_total / (up_total + down_total)\n",
    "        lst.append([col, genre_rate])\n",
    "genre_score = pd.DataFrame(lst, columns=cols)    "
   ]
  },
  {
   "cell_type": "code",
   "execution_count": 259,
   "metadata": {},
   "outputs": [
    {
     "name": "stdout",
     "output_type": "stream",
     "text": [
      "        genre     score\n",
      "1       Indie  0.912791\n",
      "6      Casual  0.911528\n",
      "5  Simulation  0.892680\n",
      "3         RPG  0.891569\n",
      "0      Action  0.887069\n",
      "2   Adventure  0.885228\n",
      "4    Strategy  0.881766\n",
      "9      Racing  0.838502\n",
      "8      Sports  0.831277\n",
      "7   Massively  0.757235\n"
     ]
    },
    {
     "data": {
      "text/plain": [
       "<AxesSubplot:title={'center':'Review Rate by Genre'}>"
      ]
     },
     "execution_count": 259,
     "metadata": {},
     "output_type": "execute_result"
    },
    {
     "data": {
      "image/png": "[encoded data removed]",
      "text/plain": [
       "<Figure size 432x288 with 1 Axes>"
      ]
     },
     "metadata": {
      "needs_background": "light"
     },
     "output_type": "display_data"
    }
   ],
   "source": [
    "print(genre_score.sort_values('score', ascending = False))\n",
    "genre_score.sort_values('score', ascending = False).plot(kind='bar', legend=False, title=\"Review Rate by Genre\", x='genre', xlabel=\"\")"
   ]
  },
  {
   "cell_type": "markdown",
   "metadata": {},
   "source": [
    "## Text Processing"
   ]
  },
  {
   "cell_type": "code",
   "execution_count": null,
   "metadata": {},
   "outputs": [],
   "source": [
    "games_100up.reset_index(inplace = True)\n",
    "games_100up.set_index('appid', inplace = True)\n",
    "named_df.set_index('appid', inplace=True)"
   ]
  },
  {
   "cell_type": "code",
   "execution_count": null,
   "metadata": {},
   "outputs": [],
   "source": [
    "# Reviews of games with at least 100 reviews\n",
    "reviews_100up = named_df.filter(['recommendationid', 'review'])[named_df.index.isin(games_100up.index)]"
   ]
  },
  {
   "cell_type": "code",
   "execution_count": 4,
   "metadata": {},
   "outputs": [],
   "source": [
    "reviews_100up['clean'] = reviews_100up['review']"
   ]
  },
  {
   "cell_type": "code",
   "execution_count": 5,
   "metadata": {},
   "outputs": [],
   "source": [
    "# Replace newline with space, apostrophe without space\n",
    "\n",
    "def new_line(row):\n",
    "    text = row['clean']\n",
    "    for ch in ['\\n','[h1]','[/h1]','[b]','[/b]','[i]','[/i]']:\n",
    "        if ch in text:\n",
    "            text = text.replace(ch, ' ')\n",
    "    return text\n",
    "            \n",
    "reviews_100up['clean'] = reviews_100up.apply(new_line, axis=1)\n",
    "\n",
    "reviews_100up['clean'] = reviews_100up['clean'].str.replace(\"'\", '')"
   ]
  },
  {
   "cell_type": "code",
   "execution_count": 6,
   "metadata": {},
   "outputs": [],
   "source": [
    "# Remove remaining symbols\n",
    "\n",
    "def clean_symbols(row):\n",
    "    new_string = re.sub('[^a-zA-Z]', ' ', row['clean'])\n",
    "    return new_string\n",
    "\n",
    "reviews_100up['clean'] = reviews_100up.apply(clean_symbols, axis=1)"
   ]
  },
  {
   "cell_type": "code",
   "execution_count": 7,
   "metadata": {},
   "outputs": [],
   "source": [
    "# Lowercase, remove leading, trailing spaces, drop blank reviews\n",
    "reviews_100up['clean'] = reviews_100up['clean'].str.lower()\n",
    "reviews_100up['clean'] = reviews_100up['clean'].str.strip()\n",
    "reviews_100up['clean'].replace('', np.nan, inplace=True)\n",
    "reviews_100up.dropna(subset=['clean'], inplace=True)"
   ]
  },
  {
   "cell_type": "code",
   "execution_count": 8,
   "metadata": {},
   "outputs": [],
   "source": [
    "# String length\n",
    "reviews_100up[\"str_len\"] = reviews_100up['clean'].str.len()"
   ]
  },
  {
   "cell_type": "code",
   "execution_count": 80,
   "metadata": {},
   "outputs": [
    {
     "data": {
      "text/plain": [
       "Text(0.5, 1.0, 'Review String Length')"
      ]
     },
     "execution_count": 80,
     "metadata": {},
     "output_type": "execute_result"
    },
    {
     "data": {
      "image/png": "[encoded data removed]",
      "text/plain": [
       "<Figure size 432x288 with 1 Axes>"
      ]
     },
     "metadata": {
      "needs_background": "light"
     },
     "output_type": "display_data"
    }
   ],
   "source": [
    "reviews_100up['review'].str.len().hist()\n",
    "plt.title(\"Review String Length\")"
   ]
  },
  {
   "cell_type": "code",
   "execution_count": 81,
   "metadata": {},
   "outputs": [
    {
     "data": {
      "text/html": [
       "<div>\n",
       "<style scoped>\n",
       "    .dataframe tbody tr th:only-of-type {\n",
       "        vertical-align: middle;\n",
       "    }\n",
       "\n",
       "    .dataframe tbody tr th {\n",
       "        vertical-align: top;\n",
       "    }\n",
       "\n",
       "    .dataframe thead th {\n",
       "        text-align: right;\n",
       "    }\n",
       "</style>\n",
       "<table border=\"1\" class=\"dataframe\">\n",
       "  <thead>\n",
       "    <tr style=\"text-align: right;\">\n",
       "      <th></th>\n",
       "      <th>appid</th>\n",
       "      <th>recommendationid</th>\n",
       "      <th>review</th>\n",
       "      <th>clean</th>\n",
       "      <th>str_len</th>\n",
       "      <th>words</th>\n",
       "      <th>word_count</th>\n",
       "    </tr>\n",
       "  </thead>\n",
       "  <tbody>\n",
       "    <tr>\n",
       "      <th>37343</th>\n",
       "      <td>400</td>\n",
       "      <td>40835632</td>\n",
       "      <td>YAAAAAAAAAAAAAAAAAAAAAAAAAAAAAAAAAAAAAAAAAAAAA...</td>\n",
       "      <td>yaaaaaaaaaaaaaaaaaaaaaaaaaaaaaaaaaaaaaaaaaaaaa...</td>\n",
       "      <td>8000</td>\n",
       "      <td>['yaaaaaaaaaaaaaaaaaaaaaaaaaaaaaaaaaaaaaaaaaaa...</td>\n",
       "      <td>1</td>\n",
       "    </tr>\n",
       "    <tr>\n",
       "      <th>439216</th>\n",
       "      <td>225540</td>\n",
       "      <td>71973339</td>\n",
       "      <td>EPIIIIIIIIIIIIIIIIIIIIIIIIIIIIIIIIIIIIIIIIIIII...</td>\n",
       "      <td>epiiiiiiiiiiiiiiiiiiiiiiiiiiiiiiiiiiiiiiiiiiii...</td>\n",
       "      <td>8000</td>\n",
       "      <td>['epiiiiiiiiiiiiiiiiiiiiiiiiiiiiiiiiiiiiiiiiii...</td>\n",
       "      <td>1</td>\n",
       "    </tr>\n",
       "    <tr>\n",
       "      <th>568474</th>\n",
       "      <td>629760</td>\n",
       "      <td>54834998</td>\n",
       "      <td>yuo fight with sord fun very fun it makes me h...</td>\n",
       "      <td>yuo fight with sord fun very fun it makes me h...</td>\n",
       "      <td>8000</td>\n",
       "      <td>['yuo', 'fight', 'with', 'sord', 'fun', 'very'...</td>\n",
       "      <td>1670</td>\n",
       "    </tr>\n",
       "    <tr>\n",
       "      <th>522296</th>\n",
       "      <td>524220</td>\n",
       "      <td>75142818</td>\n",
       "      <td>DemomanDemomanDemomanDemomanDemomanDemomanDemo...</td>\n",
       "      <td>demomandemomandemomandemomandemomandemomandemo...</td>\n",
       "      <td>8000</td>\n",
       "      <td>['demomandemomandemomandemomandemomandemomande...</td>\n",
       "      <td>1</td>\n",
       "    </tr>\n",
       "    <tr>\n",
       "      <th>119863</th>\n",
       "      <td>4000</td>\n",
       "      <td>43823078</td>\n",
       "      <td>abcdefghijklmnopqrstuvwxyz now i no my abcdefg...</td>\n",
       "      <td>abcdefghijklmnopqrstuvwxyz now i no my abcdefg...</td>\n",
       "      <td>8000</td>\n",
       "      <td>['abcdefghijklmnopqrstuvwxyz', 'now', 'i', 'no...</td>\n",
       "      <td>1016</td>\n",
       "    </tr>\n",
       "    <tr>\n",
       "      <th>...</th>\n",
       "      <td>...</td>\n",
       "      <td>...</td>\n",
       "      <td>...</td>\n",
       "      <td>...</td>\n",
       "      <td>...</td>\n",
       "      <td>...</td>\n",
       "      <td>...</td>\n",
       "    </tr>\n",
       "    <tr>\n",
       "      <th>264139</th>\n",
       "      <td>41000</td>\n",
       "      <td>72654533</td>\n",
       "      <td>Eh</td>\n",
       "      <td>eh</td>\n",
       "      <td>2</td>\n",
       "      <td>['eh']</td>\n",
       "      <td>1</td>\n",
       "    </tr>\n",
       "    <tr>\n",
       "      <th>60802</th>\n",
       "      <td>550</td>\n",
       "      <td>70256590</td>\n",
       "      <td>Ee</td>\n",
       "      <td>ee</td>\n",
       "      <td>2</td>\n",
       "      <td>['ee']</td>\n",
       "      <td>1</td>\n",
       "    </tr>\n",
       "    <tr>\n",
       "      <th>503004</th>\n",
       "      <td>312530</td>\n",
       "      <td>75150653</td>\n",
       "      <td>sd</td>\n",
       "      <td>sd</td>\n",
       "      <td>2</td>\n",
       "      <td>['sd']</td>\n",
       "      <td>1</td>\n",
       "    </tr>\n",
       "    <tr>\n",
       "      <th>778121</th>\n",
       "      <td>1172380</td>\n",
       "      <td>58035480</td>\n",
       "      <td>eh.</td>\n",
       "      <td>eh</td>\n",
       "      <td>2</td>\n",
       "      <td>['eh']</td>\n",
       "      <td>1</td>\n",
       "    </tr>\n",
       "    <tr>\n",
       "      <th>59499</th>\n",
       "      <td>550</td>\n",
       "      <td>66275416</td>\n",
       "      <td>lo</td>\n",
       "      <td>lo</td>\n",
       "      <td>2</td>\n",
       "      <td>['lo']</td>\n",
       "      <td>1</td>\n",
       "    </tr>\n",
       "  </tbody>\n",
       "</table>\n",
       "<p>787976 rows × 7 columns</p>\n",
       "</div>"
      ],
      "text/plain": [
       "          appid  recommendationid  \\\n",
       "37343       400          40835632   \n",
       "439216   225540          71973339   \n",
       "568474   629760          54834998   \n",
       "522296   524220          75142818   \n",
       "119863     4000          43823078   \n",
       "...         ...               ...   \n",
       "264139    41000          72654533   \n",
       "60802       550          70256590   \n",
       "503004   312530          75150653   \n",
       "778121  1172380          58035480   \n",
       "59499       550          66275416   \n",
       "\n",
       "                                                   review  \\\n",
       "37343   YAAAAAAAAAAAAAAAAAAAAAAAAAAAAAAAAAAAAAAAAAAAAA...   \n",
       "439216  EPIIIIIIIIIIIIIIIIIIIIIIIIIIIIIIIIIIIIIIIIIIII...   \n",
       "568474  yuo fight with sord fun very fun it makes me h...   \n",
       "522296  DemomanDemomanDemomanDemomanDemomanDemomanDemo...   \n",
       "119863  abcdefghijklmnopqrstuvwxyz now i no my abcdefg...   \n",
       "...                                                   ...   \n",
       "264139                                                 Eh   \n",
       "60802                                                  Ee   \n",
       "503004                                                 sd   \n",
       "778121                                                eh.   \n",
       "59499                                                  lo   \n",
       "\n",
       "                                                    clean  str_len  \\\n",
       "37343   yaaaaaaaaaaaaaaaaaaaaaaaaaaaaaaaaaaaaaaaaaaaaa...     8000   \n",
       "439216  epiiiiiiiiiiiiiiiiiiiiiiiiiiiiiiiiiiiiiiiiiiii...     8000   \n",
       "568474  yuo fight with sord fun very fun it makes me h...     8000   \n",
       "522296  demomandemomandemomandemomandemomandemomandemo...     8000   \n",
       "119863  abcdefghijklmnopqrstuvwxyz now i no my abcdefg...     8000   \n",
       "...                                                   ...      ...   \n",
       "264139                                                 eh        2   \n",
       "60802                                                  ee        2   \n",
       "503004                                                 sd        2   \n",
       "778121                                                 eh        2   \n",
       "59499                                                  lo        2   \n",
       "\n",
       "                                                    words  word_count  \n",
       "37343   ['yaaaaaaaaaaaaaaaaaaaaaaaaaaaaaaaaaaaaaaaaaaa...           1  \n",
       "439216  ['epiiiiiiiiiiiiiiiiiiiiiiiiiiiiiiiiiiiiiiiiii...           1  \n",
       "568474  ['yuo', 'fight', 'with', 'sord', 'fun', 'very'...        1670  \n",
       "522296  ['demomandemomandemomandemomandemomandemomande...           1  \n",
       "119863  ['abcdefghijklmnopqrstuvwxyz', 'now', 'i', 'no...        1016  \n",
       "...                                                   ...         ...  \n",
       "264139                                             ['eh']           1  \n",
       "60802                                              ['ee']           1  \n",
       "503004                                             ['sd']           1  \n",
       "778121                                             ['eh']           1  \n",
       "59499                                              ['lo']           1  \n",
       "\n",
       "[787976 rows x 7 columns]"
      ]
     },
     "execution_count": 81,
     "metadata": {},
     "output_type": "execute_result"
    }
   ],
   "source": [
    "# very long and very short comments\n",
    "reviews_100up.sort_values('str_len', ascending=False)"
   ]
  },
  {
   "cell_type": "code",
   "execution_count": 9,
   "metadata": {},
   "outputs": [],
   "source": [
    "# Remove excessive repeating letters, like amaaazzzziiiiing, leaves two, the English maximum\n",
    "def reduce_lengthening(row):\n",
    "    text = row['clean']\n",
    "    pattern = re.compile(r\"(.)\\1{2,}\")\n",
    "    return pattern.sub(r\"\\1\\1\", text)"
   ]
  },
  {
   "cell_type": "code",
   "execution_count": 10,
   "metadata": {},
   "outputs": [],
   "source": [
    "# Repeating letters\n",
    "reviews_100up['short'] = reviews_100up.apply(reduce_lengthening, axis=1)"
   ]
  },
  {
   "cell_type": "code",
   "execution_count": 11,
   "metadata": {},
   "outputs": [],
   "source": [
    "# tokenize unique words in order\n",
    "\n",
    "def identify_tokens(row):\n",
    "    review = row['short']\n",
    "    tokens = nltk.word_tokenize(review)\n",
    "    token_words = [w for w in tokens if w.isalpha()]\n",
    "    token_words_once = list(dict.fromkeys(token_words)) # unique list\n",
    "    return token_words_once"
   ]
  },
  {
   "cell_type": "code",
   "execution_count": 12,
   "metadata": {},
   "outputs": [],
   "source": [
    "# Word tokenize\n",
    "reviews_100up['words'] = reviews_100up.apply(identify_tokens, axis=1)"
   ]
  },
  {
   "cell_type": "code",
   "execution_count": 13,
   "metadata": {},
   "outputs": [],
   "source": [
    "def word_count(row):\n",
    "    my_list = row['words']\n",
    "    count_list = len(my_list)\n",
    "    return (count_list)"
   ]
  },
  {
   "cell_type": "code",
   "execution_count": 14,
   "metadata": {},
   "outputs": [],
   "source": [
    "reviews_100up['word_count'] = reviews_100up.apply(word_count, axis=1)"
   ]
  },
  {
   "cell_type": "code",
   "execution_count": 141,
   "metadata": {},
   "outputs": [],
   "source": [
    "def word_unique(row):\n",
    "    my_list = row['words']\n",
    "    count_list = len(set(my_list))\n",
    "    return (count_list)"
   ]
  },
  {
   "cell_type": "code",
   "execution_count": 142,
   "metadata": {},
   "outputs": [],
   "source": [
    "# reviews_100up['word_unique'] = reviews_100up.apply(word_unique, axis=1)"
   ]
  },
  {
   "cell_type": "code",
   "execution_count": 15,
   "metadata": {},
   "outputs": [],
   "source": [
    "# Update new string length\n",
    "def str_length(row):\n",
    "    my_list = row['words']\n",
    "    str_join = \" \".join(str(w) for w in my_list)\n",
    "    return len(str_join)\n",
    "\n",
    "reviews_100up[\"str_len\"] = reviews_100up.apply(str_length, axis=1)\n",
    "#reviews_100up['short'].str.len()"
   ]
  },
  {
   "cell_type": "code",
   "execution_count": 16,
   "metadata": {},
   "outputs": [],
   "source": [
    "# Remove single letter reviews\n",
    "indexSingles = reviews_100up[(reviews_100up['str_len'] == 1) &\n",
    "                (reviews_100up['word_count'] == 1)].index\n",
    "\n",
    "reviews_100up.drop(indexSingles, inplace=True)"
   ]
  },
  {
   "cell_type": "code",
   "execution_count": 17,
   "metadata": {},
   "outputs": [],
   "source": [
    "# Remove large single-word reviews\n",
    "indexLargeSingles = reviews_100up[(reviews_100up['str_len'] > 14) &\n",
    "                (reviews_100up['word_count'] == 1)].index\n",
    "\n",
    "reviews_100up.drop(indexLargeSingles, inplace=True)"
   ]
  },
  {
   "cell_type": "code",
   "execution_count": 18,
   "metadata": {},
   "outputs": [],
   "source": [
    "# Remove unserious reviews, very long, few words\n",
    "reviews_100up = reviews_100up.drop(reviews_100up[(reviews_100up.str_len >=1000) & (reviews_100up.word_count <= 10)].index)"
   ]
  },
  {
   "cell_type": "code",
   "execution_count": 19,
   "metadata": {},
   "outputs": [],
   "source": [
    "# Remove reviews 2 characters, except \"ya\", \"no\", \"ok\", \"ez\", \"so\", \"eh\", \"og\" (original gangsta)\n",
    "indexDoubles = reviews_100up[(reviews_100up['str_len'] == 2) &\n",
    "                (reviews_100up['word_count'] == 1) & (~reviews_100up['short'].isin(['ok', 'ya', 'no', 'eh', 'so', 'og', 'fu', 'ez']))].index\n",
    "\n",
    "reviews_100up.drop(indexDoubles, inplace=True)"
   ]
  },
  {
   "cell_type": "code",
   "execution_count": 276,
   "metadata": {},
   "outputs": [],
   "source": [
    "#backup = reviews_100up.copy()"
   ]
  },
  {
   "cell_type": "code",
   "execution_count": 284,
   "metadata": {},
   "outputs": [],
   "source": [
    "#reviews_100up = backup.copy()"
   ]
  },
  {
   "cell_type": "code",
   "execution_count": 20,
   "metadata": {},
   "outputs": [
    {
     "name": "stderr",
     "output_type": "stream",
     "text": [
      "[nltk_data] Downloading package stopwords to\n",
      "[nltk_data]     C:\\Users\\ggibs\\AppData\\Roaming\\nltk_data...\n",
      "[nltk_data]   Package stopwords is already up-to-date!\n",
      "[nltk_data] Downloading package punkt to\n",
      "[nltk_data]     C:\\Users\\ggibs\\AppData\\Roaming\\nltk_data...\n",
      "[nltk_data]   Package punkt is already up-to-date!\n"
     ]
    }
   ],
   "source": [
    "nltk.download('stopwords')\n",
    "nltk.download('punkt')\n",
    "stop_words=set(stopwords.words(\"english\"))"
   ]
  },
  {
   "cell_type": "code",
   "execution_count": 21,
   "metadata": {},
   "outputs": [],
   "source": [
    "# Check any words are in dictionary\n",
    "def in_dictionary(row):\n",
    "    in_dict = False\n",
    "    my_words = row['words']\n",
    "    for w in my_words:\n",
    "        if w in setofwords:\n",
    "            return True\n",
    "        if w[:-1] in setofwords:  # likes or liked\n",
    "            return True\n",
    "        if w[:-2] in setofwords:  # ed\n",
    "            return True\n",
    "        if w[:-3] in setofwords:  # ing\n",
    "            return True\n",
    "        if wordnet_lemmatizer.lemmatize(w) in setofwords:\n",
    "            return True\n",
    "    return in_dict"
   ]
  },
  {
   "cell_type": "code",
   "execution_count": 22,
   "metadata": {},
   "outputs": [],
   "source": [
    "reviews_100up['in_dict'] = reviews_100up.apply(in_dictionary, axis=1)"
   ]
  },
  {
   "cell_type": "code",
   "execution_count": 23,
   "metadata": {},
   "outputs": [],
   "source": [
    "# If single word still not in dictionary, turn remaining double letters into singles\n",
    "def reduce_lengthening1(row):\n",
    "    if (row['in_dict'] == False) and (row['word_count'] == 1):\n",
    "        text = row['words']\n",
    "        pattern = re.compile(r\"(.)\\1{1,}\")\n",
    "        for w in text:\n",
    "            newtext = [pattern.sub(r\"\\1\", w.lower())]\n",
    "        return(newtext)\n",
    "    else:\n",
    "        return(row['words'])"
   ]
  },
  {
   "cell_type": "code",
   "execution_count": 24,
   "metadata": {},
   "outputs": [],
   "source": [
    "# Try again to check word is in dictionary\n",
    "reviews_100up.words = reviews_100up.apply(reduce_lengthening1, axis=1)\n",
    "reviews_100up['in_dict'] = reviews_100up.apply(in_dictionary, axis=1)"
   ]
  },
  {
   "cell_type": "code",
   "execution_count": 25,
   "metadata": {},
   "outputs": [
    {
     "data": {
      "text/plain": [
       "779826"
      ]
     },
     "execution_count": 25,
     "metadata": {},
     "output_type": "execute_result"
    }
   ],
   "source": [
    "reviews_100up.recommendationid[reviews_100up.in_dict==True].count()"
   ]
  },
  {
   "cell_type": "code",
   "execution_count": 26,
   "metadata": {},
   "outputs": [
    {
     "data": {
      "text/plain": [
       "11"
      ]
     },
     "execution_count": 26,
     "metadata": {},
     "output_type": "execute_result"
    }
   ],
   "source": [
    "reviews_100up.recommendationid[reviews_100up.in_dict==False].count()"
   ]
  },
  {
   "cell_type": "code",
   "execution_count": 27,
   "metadata": {},
   "outputs": [],
   "source": [
    "# Remove reviews not in the dictionary\n",
    "reviews_100up = reviews_100up.drop(reviews_100up[(reviews_100up.in_dict==False)].index)"
   ]
  },
  {
   "cell_type": "code",
   "execution_count": 223,
   "metadata": {},
   "outputs": [
    {
     "name": "stdout",
     "output_type": "stream",
     "text": [
      "yes        10891\n",
      "good        9563\n",
      "fun         4172\n",
      "nice        2743\n",
      "epic        1408\n",
      "gud         1319\n",
      "amazing     1159\n",
      "cool        1138\n",
      "great       1108\n",
      "ok           903\n",
      "classic      827\n",
      "Name: root, dtype: int64\n"
     ]
    },
    {
     "data": {
      "text/plain": [
       "<AxesSubplot:title={'center':'Top Single Word Reviews'}>"
      ]
     },
     "execution_count": 223,
     "metadata": {},
     "output_type": "execute_result"
    },
    {
     "data": {
      "image/png": "[encoded data removed]",
      "text/plain": [
       "<Figure size 432x288 with 1 Axes>"
      ]
     },
     "metadata": {
      "needs_background": "light"
     },
     "output_type": "display_data"
    }
   ],
   "source": [
    "print(reviews_100up[reviews_100up.word_count==1]['short'].value_counts().head(11))\n",
    "reviews_100up[reviews_100up.word_count==1]['short'].value_counts().head(11).plot(kind='bar', title = \"Top Single Word Reviews\")"
   ]
  },
  {
   "cell_type": "code",
   "execution_count": 244,
   "metadata": {},
   "outputs": [
    {
     "data": {
      "text/plain": [
       "29.466093727121166"
      ]
     },
     "execution_count": 244,
     "metadata": {},
     "output_type": "execute_result"
    }
   ],
   "source": [
    "# Average words per review\n",
    "reviews_100up.word_count.mean()"
   ]
  },
  {
   "cell_type": "markdown",
   "metadata": {},
   "source": [
    "## Review Sentiment Analysis\n",
    "\n",
    "\n",
    "Hutto, C.J. & Gilbert, E.E. (2014). VADER: A Parsimonious Rule-based Model for Sentiment Analysis of Social Media Text.   \n",
    "Eighth International Conference on Weblogs and Social Media (ICWSM-14). Ann Arbor, MI, June 2014."
   ]
  },
  {
   "cell_type": "code",
   "execution_count": 29,
   "metadata": {},
   "outputs": [],
   "source": [
    "sa = SentimentIntensityAnalyzer()\n",
    "\n",
    "def sentiment(row):\n",
    "    review = row['clean']\n",
    "    sa_dict = sa.polarity_scores(review)\n",
    "    return sa_dict['compound']"
   ]
  },
  {
   "cell_type": "code",
   "execution_count": 30,
   "metadata": {},
   "outputs": [],
   "source": [
    "reviews_100up['score'] = reviews_100up.apply(sentiment, axis=1)"
   ]
  },
  {
   "cell_type": "code",
   "execution_count": 258,
   "metadata": {},
   "outputs": [],
   "source": [
    "reviews_100up.set_index(['appid', 'recommendationid'], inplace = True)"
   ]
  },
  {
   "cell_type": "code",
   "execution_count": 31,
   "metadata": {},
   "outputs": [
    {
     "data": {
      "text/plain": [
       "0.3588257938309315"
      ]
     },
     "execution_count": 31,
     "metadata": {},
     "output_type": "execute_result"
    }
   ],
   "source": [
    "reviews_100up.score.mean()"
   ]
  },
  {
   "cell_type": "code",
   "execution_count": 281,
   "metadata": {},
   "outputs": [],
   "source": [
    "reviews_3up.reset_index(inplace = True)\n",
    "reviews_3up.set_index(['appid', 'recommendationid'], inplace = True)"
   ]
  },
  {
   "cell_type": "code",
   "execution_count": 282,
   "metadata": {},
   "outputs": [],
   "source": [
    "game_score = pd.merge(reviews_100up, reviews_3up, on=['appid', 'recommendationid'], how='left')\n",
    "#groupby('appid').agg(game_score = pd.NamedAgg(column = 'score', aggfunc = 'mean'))"
   ]
  },
  {
   "cell_type": "code",
   "execution_count": 289,
   "metadata": {},
   "outputs": [
    {
     "name": "stdout",
     "output_type": "stream",
     "text": [
      "Action :   0.3570005798855711\n",
      "Indie :   0.3885615203039924\n",
      "Adventure :   0.3979905113115085\n",
      "RPG :   0.41153640892301707\n",
      "Strategy :   0.3887431099242067\n",
      "Simulation :   0.39082537349487145\n",
      "Casual :   0.3578514178048323\n",
      "Massively :   0.28820427342689003\n",
      "Sports :   0.33466152327468957\n",
      "Racing :   0.43513345228291705\n",
      "Other :   0.34280857572718154\n"
     ]
    }
   ],
   "source": [
    "for col in columns_add:\n",
    "    print(col, \":  \", game_score[game_score[col] == 1]['score'].mean())"
   ]
  },
  {
   "cell_type": "code",
   "execution_count": 292,
   "metadata": {},
   "outputs": [
    {
     "name": "stdout",
     "output_type": "stream",
     "text": [
      "            Genre_Sentiment\n",
      "Racing              0.43500\n",
      "RPG                 0.41150\n",
      "Adventure           0.39799\n",
      "Simulation          0.39080\n",
      "Strategy            0.38870\n",
      "Indie               0.38856\n",
      "Casual              0.35785\n",
      "Action              0.35700\n",
      "Sports              0.33466\n",
      "Massively           0.28820\n"
     ]
    },
    {
     "data": {
      "text/plain": [
       "<AxesSubplot:title={'center':'Sentiment Scores per Genre'}>"
      ]
     },
     "execution_count": 292,
     "metadata": {},
     "output_type": "execute_result"
    },
    {
     "data": {
      "image/png": "[encoded data removed]",
      "text/plain": [
       "<Figure size 432x288 with 1 Axes>"
      ]
     },
     "metadata": {
      "needs_background": "light"
     },
     "output_type": "display_data"
    }
   ],
   "source": [
    "data = {'Action': 0.357, 'Indie': 0.38856, 'Adventure': 0.39799, 'RPG':0.4115, 'Strategy':0.3887, 'Simulation':0.3908, 'Casual':0.35785, 'Massively':0.2882, 'Sports':0.33466, 'Racing':0.435}\n",
    "df = pd.DataFrame.from_dict(data, orient='index', columns=['Genre_Sentiment'])\n",
    "df.sort_values('Genre_Sentiment', ascending=False, inplace=True)\n",
    "print(df)\n",
    "df.plot(kind='bar', legend=False, title=\"Sentiment Scores per Genre\")"
   ]
  },
  {
   "cell_type": "code",
   "execution_count": null,
   "metadata": {},
   "outputs": [],
   "source": [
    "df = pd.merge(df,df2[['Key_Column','Target_Column']],on='Key_Column', how='left')"
   ]
  },
  {
   "cell_type": "code",
   "execution_count": 298,
   "metadata": {},
   "outputs": [],
   "source": [
    "game_score = game_score.merge(steamspy_data, on = 'appid', how = 'left')"
   ]
  },
  {
   "cell_type": "code",
   "execution_count": 304,
   "metadata": {},
   "outputs": [
    {
     "data": {
      "text/html": [
       "<div>\n",
       "<style scoped>\n",
       "    .dataframe tbody tr th:only-of-type {\n",
       "        vertical-align: middle;\n",
       "    }\n",
       "\n",
       "    .dataframe tbody tr th {\n",
       "        vertical-align: top;\n",
       "    }\n",
       "\n",
       "    .dataframe thead th {\n",
       "        text-align: right;\n",
       "    }\n",
       "</style>\n",
       "<table border=\"1\" class=\"dataframe\">\n",
       "  <thead>\n",
       "    <tr style=\"text-align: right;\">\n",
       "      <th></th>\n",
       "      <th>game_score</th>\n",
       "    </tr>\n",
       "    <tr>\n",
       "      <th>name</th>\n",
       "      <th></th>\n",
       "    </tr>\n",
       "  </thead>\n",
       "  <tbody>\n",
       "    <tr>\n",
       "      <th>Hurtworld</th>\n",
       "      <td>0.072809</td>\n",
       "    </tr>\n",
       "    <tr>\n",
       "      <th>BROKE PROTOCOL: Online City RPG</th>\n",
       "      <td>0.072273</td>\n",
       "    </tr>\n",
       "    <tr>\n",
       "      <th>Getting Over It with Bennett Foddy</th>\n",
       "      <td>0.067597</td>\n",
       "    </tr>\n",
       "    <tr>\n",
       "      <th>Sniper: Ghost Warrior</th>\n",
       "      <td>0.047142</td>\n",
       "    </tr>\n",
       "    <tr>\n",
       "      <th>F.E.A.R. 3</th>\n",
       "      <td>0.045863</td>\n",
       "    </tr>\n",
       "    <tr>\n",
       "      <th>Ace of Spades: Battle Builder</th>\n",
       "      <td>0.039353</td>\n",
       "    </tr>\n",
       "    <tr>\n",
       "      <th>Doom 3: BFG Edition</th>\n",
       "      <td>0.036998</td>\n",
       "    </tr>\n",
       "    <tr>\n",
       "      <th>Kane &amp; Lynch 2: Dog Days</th>\n",
       "      <td>0.007515</td>\n",
       "    </tr>\n",
       "    <tr>\n",
       "      <th>Just Survive</th>\n",
       "      <td>-0.034020</td>\n",
       "    </tr>\n",
       "    <tr>\n",
       "      <th>Infestation: Survivor Stories 2020</th>\n",
       "      <td>-0.123792</td>\n",
       "    </tr>\n",
       "  </tbody>\n",
       "</table>\n",
       "</div>"
      ],
      "text/plain": [
       "                                    game_score\n",
       "name                                          \n",
       "Hurtworld                             0.072809\n",
       "BROKE PROTOCOL: Online City RPG       0.072273\n",
       "Getting Over It with Bennett Foddy    0.067597\n",
       "Sniper: Ghost Warrior                 0.047142\n",
       "F.E.A.R. 3                            0.045863\n",
       "Ace of Spades: Battle Builder         0.039353\n",
       "Doom 3: BFG Edition                   0.036998\n",
       "Kane & Lynch 2: Dog Days              0.007515\n",
       "Just Survive                         -0.034020\n",
       "Infestation: Survivor Stories 2020   -0.123792"
      ]
     },
     "execution_count": 304,
     "metadata": {},
     "output_type": "execute_result"
    }
   ],
   "source": [
    "game_score.groupby('name').agg(game_score = pd.NamedAgg(column='score', aggfunc = 'mean')).sort_values('game_score',ascending = False).tail(10)"
   ]
  },
  {
   "cell_type": "code",
   "execution_count": 5,
   "metadata": {},
   "outputs": [],
   "source": [
    "scores = pd.DataFrame(game_score.groupby('name')['score'].mean())"
   ]
  },
  {
   "cell_type": "code",
   "execution_count": 10,
   "metadata": {},
   "outputs": [
    {
     "data": {
      "text/plain": [
       "Text(0.5, 1.0, 'Distribution of Game Review Sentiment Scores')"
      ]
     },
     "execution_count": 10,
     "metadata": {},
     "output_type": "execute_result"
    },
    {
     "data": {
      "image/png": "[encoded data removed]",
      "text/plain": [
       "<Figure size 432x288 with 1 Axes>"
      ]
     },
     "metadata": {
      "needs_background": "light"
     },
     "output_type": "display_data"
    }
   ],
   "source": [
    "scores['score'].hist(bins=70)\n",
    "plt.title(\"Distribution of Game Review Sentiment Scores\")\n",
    "# plt.figure(figsize=(10,4))"
   ]
  },
  {
   "cell_type": "code",
   "execution_count": 305,
   "metadata": {},
   "outputs": [
    {
     "name": "stdout",
     "output_type": "stream",
     "text": [
      "-0.6908\n",
      "-0.6908\n",
      "-0.6597\n",
      "-0.6597\n",
      "-0.34\n",
      "-0.5994\n",
      "-0.3818\n",
      "-0.5423\n",
      "0.0\n"
     ]
    }
   ],
   "source": [
    "# Why are review sentiments so low?  Gaming words:\n",
    "\n",
    "print(sa.polarity_scores('kill')['compound'])\n",
    "print(sa.polarity_scores('terrorist')['compound'])\n",
    "print(sa.polarity_scores('villains')['compound'])\n",
    "print(sa.polarity_scores('apocalyptic')['compound'])\n",
    "print(sa.polarity_scores('shoot')['compound'])\n",
    "print(sa.polarity_scores('death')['compound'])\n",
    "print(sa.polarity_scores('battle')['compound'])\n",
    "print(sa.polarity_scores('destroy')['compound'])\n",
    "print(sa.polarity_scores('neutralize')['compound'])"
   ]
  },
  {
   "cell_type": "code",
   "execution_count": 108,
   "metadata": {},
   "outputs": [
    {
     "data": {
      "text/plain": [
       "177260"
      ]
     },
     "execution_count": 108,
     "metadata": {},
     "output_type": "execute_result"
    }
   ],
   "source": [
    "# Generate unique list of review words\n",
    "all_words_list = list(set([w for l in reviews_100up.words.tolist() for w in l]))\n",
    "len(all_words_list)"
   ]
  },
  {
   "cell_type": "code",
   "execution_count": 110,
   "metadata": {},
   "outputs": [],
   "source": [
    "words_df = pd.DataFrame(all_words_list, columns=['word'])"
   ]
  },
  {
   "cell_type": "code",
   "execution_count": 19,
   "metadata": {},
   "outputs": [],
   "source": [
    "def sentiment2(row):\n",
    "    review = row['word']\n",
    "    sa_dict = sa.polarity_scores(review)\n",
    "    return sa_dict['compound']"
   ]
  },
  {
   "cell_type": "code",
   "execution_count": 128,
   "metadata": {},
   "outputs": [],
   "source": [
    "words_df['score'] = words_df.apply(sentiment2, axis=1)"
   ]
  },
  {
   "cell_type": "code",
   "execution_count": 189,
   "metadata": {},
   "outputs": [
    {
     "data": {
      "text/html": [
       "<div>\n",
       "<style scoped>\n",
       "    .dataframe tbody tr th:only-of-type {\n",
       "        vertical-align: middle;\n",
       "    }\n",
       "\n",
       "    .dataframe tbody tr th {\n",
       "        vertical-align: top;\n",
       "    }\n",
       "\n",
       "    .dataframe thead th {\n",
       "        text-align: right;\n",
       "    }\n",
       "</style>\n",
       "<table border=\"1\" class=\"dataframe\">\n",
       "  <thead>\n",
       "    <tr style=\"text-align: right;\">\n",
       "      <th></th>\n",
       "      <th>word</th>\n",
       "      <th>score</th>\n",
       "    </tr>\n",
       "  </thead>\n",
       "  <tbody>\n",
       "    <tr>\n",
       "      <th>129983</th>\n",
       "      <td>rapist</td>\n",
       "      <td>-0.7096</td>\n",
       "    </tr>\n",
       "    <tr>\n",
       "      <th>125745</th>\n",
       "      <td>slavery</td>\n",
       "      <td>-0.7003</td>\n",
       "    </tr>\n",
       "    <tr>\n",
       "      <th>38086</th>\n",
       "      <td>raping</td>\n",
       "      <td>-0.7003</td>\n",
       "    </tr>\n",
       "    <tr>\n",
       "      <th>42409</th>\n",
       "      <td>murder</td>\n",
       "      <td>-0.6908</td>\n",
       "    </tr>\n",
       "    <tr>\n",
       "      <th>97485</th>\n",
       "      <td>fu</td>\n",
       "      <td>-0.6908</td>\n",
       "    </tr>\n",
       "    <tr>\n",
       "      <th>...</th>\n",
       "      <td>...</td>\n",
       "      <td>...</td>\n",
       "    </tr>\n",
       "    <tr>\n",
       "      <th>136760</th>\n",
       "      <td>longing</td>\n",
       "      <td>-0.0258</td>\n",
       "    </tr>\n",
       "    <tr>\n",
       "      <th>144661</th>\n",
       "      <td>battleship</td>\n",
       "      <td>-0.0258</td>\n",
       "    </tr>\n",
       "    <tr>\n",
       "      <th>105570</th>\n",
       "      <td>sentenced</td>\n",
       "      <td>-0.0258</td>\n",
       "    </tr>\n",
       "    <tr>\n",
       "      <th>161756</th>\n",
       "      <td>freeloaders</td>\n",
       "      <td>-0.0258</td>\n",
       "    </tr>\n",
       "    <tr>\n",
       "      <th>66003</th>\n",
       "      <td>lowland</td>\n",
       "      <td>-0.0258</td>\n",
       "    </tr>\n",
       "  </tbody>\n",
       "</table>\n",
       "<p>2729 rows × 2 columns</p>\n",
       "</div>"
      ],
      "text/plain": [
       "               word   score\n",
       "129983       rapist -0.7096\n",
       "125745      slavery -0.7003\n",
       "38086        raping -0.7003\n",
       "42409        murder -0.6908\n",
       "97485            fu -0.6908\n",
       "...             ...     ...\n",
       "136760      longing -0.0258\n",
       "144661   battleship -0.0258\n",
       "105570    sentenced -0.0258\n",
       "161756  freeloaders -0.0258\n",
       "66003       lowland -0.0258\n",
       "\n",
       "[2729 rows x 2 columns]"
      ]
     },
     "execution_count": 189,
     "metadata": {},
     "output_type": "execute_result"
    }
   ],
   "source": [
    "# Game words that make reviews very negative\n",
    "words_df[words_df['score'] < 0].sort_values('score')"
   ]
  },
  {
   "cell_type": "code",
   "execution_count": 32,
   "metadata": {},
   "outputs": [],
   "source": [
    "# List of negative game words to avoid scoring sentiment\n",
    "neg_game_words = ['kill', 'killed', 'killings', 'killing', 'killers', 'killer', 'terrorist', 'terrorists', 'terrorism', 'evil', 'evilly', 'evilness', 'villains', 'villain', 'villainess', 'apocalyptic', 'apocalypse', 'dead', 'death', 'die', 'died', 'corpse', 'fatality', 'fatalities', 'kia', 'violence', 'violent', 'violently', 'warmongers', 'warmonger', 'doomsday', 'assassinate', 'assassination', 'assassinations', 'assassinated', 'destroy', 'destruction', 'obliterate', 'war', 'battle', 'battles', 'battled', 'shoot', 'shooting', 'shooter', 'shooters', 'shot', 'attack', 'attackers', 'attacked', 'attacker', 'assault', 'assaulted', 'abduction', 'fire', 'fired', 'wars', 'villainy', 'prisoner', 'prisoners', 'prison', 'imprisoned',  'kills', 'threat', 'destructiveness', 'danger', 'threatening', 'threaten', 'casualty', 'destructively', 'evildoers', 'warred', 'conspiracy', 'abducted', 'destructions', 'destroyers', 'perpetrator', 'bomb', 'bombs', 'destructivity', 'enemies', 'enemy', 'defeat', 'defeated', 'fought', 'hostiles', 'attacking', 'destroyer', 'beating', 'beat', 'beaten', 'dangerous', 'villainous', 'contagion', 'abduct', 'abductions', 'foe', 'foes', 'destructful', 'decapitate', 'decapitates', 'stab', 'stabbed', 'stabs', 'weapons', 'fightings', 'blood', 'bleeding', 'attacks', 'disadvantage', 'devastation', 'threats', 'aggressiveness', 'destructibility', 'antagonist', 'antagonists', 'battlefield', 'defeating', 'fight', 'obstacles', 'adversities', 'adversaries', 'adversary', 'opponent', 'adversarial', 'devilishly', 'devil', 'collision', 'confrontations', 'fighting', 'obstacle', 'vicious', 'contagions', 'strike', 'hit', 'strikes', 'hits', 'scary', 'eerie', 'haunted', 'frighten', 'fright', 'contagious', 'gun', 'guns', 'suspects', 'suspect', 'scares', 'combat', 'smugglers', 'smuggler', 'victim', 'victims', 'confrontation', 'battlefront', 'aggression', 'weapon', 'warfare', 'shots', 'shoots', 'scare', 'ghost', 'ghosts', 'awol', 'graveyard', 'graveyards', 'graves', 'contentious', 'corpses', 'haunting', 'scream', 'screams', 'pileup', 'collidies', 'slashing', 'burn', 'burning', 'burns', 'rebel', 'rebellions', 'charge', 'charges', 'frights', 'battling', 'feudalistic', 'disguise', 'disguises', 'disguised', 'dark', 'darkness', 'weaponry', 'haunts', 'perpetrators', 'perptrated', 'revenge', 'aggressors', 'aggressor', 'vulnerability', 'vulnerable', 'slashed', 'slash', 'battlefields', 'rebels', 'combats', 'battlefronts', 'flee', 'flees', 'gravestone', 'gravestones', 'vulnerabilities', 'dreadnought', 'dreadnoughts', 'battleground', 'battlegrounds', 'challenges', 'challengingly', 'challenging', 'cutting', 'cut', 'cuts', 'slice', 'sliced', 'battleship', 'battleships', 'toughy', 'colliding', 'aggressive', 'warship', 'warships', 'rebellion', 'dominatrix', 'dominate', 'dominated', 'dominating', 'dominates', 'rigorous', 'rigorously', 'ferocious', 'ferociously', 'pressurised', 'pressurized', 'pressure', 'stealth', 'stealths', 'tough', 'toughest', 'promiscuous', 'collisions', 'collide', 'serious', 'hurtle', 'battlements', 'nerves', 'challenge', 'challenged', 'nazi', 'nazis', 'lowrider', 'warsaw', 'toughness', 'seriousness', 'defense', 'defence', 'defenses', 'defences', 'fighters', 'domination', 'battlers', 'unmatched', 'thwarted', 'unbiased', 'chilling', 'chillingly', 'flirtatiously', 'flirt', 'flirtatious', 'lowlands', 'tranquilizer', 'tranquilizers', 'tranquilize', 'tranquilized', 'casualties', 'conspiracies', 'murder', 'murders', 'murderer', 'murdering', 'murdered', 'murderers', 'murderous', 'murderously', 'terrorized', 'terrorize', 'terrorise', 'terrorising', 'terrorizing', 'devistate', 'devistators', 'devils', 'evils', 'totalitarianism', 'warmongering', 'viciousness', 'doom']"
   ]
  },
  {
   "cell_type": "code",
   "execution_count": 33,
   "metadata": {},
   "outputs": [
    {
     "data": {
      "text/plain": [
       "304"
      ]
     },
     "execution_count": 33,
     "metadata": {},
     "output_type": "execute_result"
    }
   ],
   "source": [
    "neg_game_words.sort()\n",
    "len(neg_game_words)"
   ]
  },
  {
   "cell_type": "code",
   "execution_count": null,
   "metadata": {},
   "outputs": [],
   "source": [
    "# words_df[~words_df['word'].isin(neg_game_words)].sort_values('score')[:10]"
   ]
  },
  {
   "cell_type": "code",
   "execution_count": 257,
   "metadata": {},
   "outputs": [],
   "source": [
    "# reviews_100up['game_words'] = np.where((reviews_100up.short.isin(testwords)), 1, 0)"
   ]
  },
  {
   "cell_type": "code",
   "execution_count": 321,
   "metadata": {},
   "outputs": [
    {
     "data": {
      "text/plain": [
       "28                                                                                                                                                                                                                                                                                                                                                                                                                                                                                   lol so old and the graphics are so ugly yet i still somehow love them  no joke  heck yes this game is still playable however  mins a day maximum and then you will get bored and play it next week again and keep going like this  this old game that me and my so now called friends used to play became cs go  which is also enjoyable but they destroyed the game and they still do  i mean yeah  is still playable  just dont play alone  play with friends  omg i just realized i have played over  hours while writting  screams  mom get the camera\n",
       "496                                                                                          remember that one school map that got the kid suspended  yeah  me too  audience  kids  everyone  casual players  pro players  graphics  potato  really bad  bad  ok  good  beautiful  masterpiece  price quality  full price  wait for sale  average  refund it if you can  dont do it  requirments  pc  minimum  medium  fast  high end  nasa computer  difficulty  you just need  arms  ez  easy to learn  hard to master  hard  first few hours  dark souls  game time length  no singleplayer  really short  hours  short  hours  few hours  hours  long  hours for the story  endless  you will replay this multiple times  story  it doesnt have  still better than twilight  average  good  fantastic  sound music  no music  great atmosphere  story narration  for every action  too much music  obnoxious  bugs  game itself is one big bug  bugs destroying the game  lot of bugs  few bugs  you can use them for speedrunning  nothing\n",
       "553                                                                                                                                                                                                                                                                                                                                                                                                                                                                                                        initially i started with betas  when cs offically dropped it pretty much destroyed my vitd intake  although not many hours on this account  overall ive more than likely put well over  k  sat in sweaty lan cafes spamming irc pugs  although it hasent aged overly well  it sparks an emotional rose tinted smile every time i play it  punishing every miss play or crappy movement  it will forever hold as one of the greatest shooters every released  would ruin life again  no microstore bullshit  no stupid skins  no fuss\n",
       "701                                                                                                                                                                                                                                                                             audience  kids  everyone  casual players  pro players  graphics  potato  really bad  bad  ok  good  beautiful  masterpiece  price quality  full price  wait for sale  average  refund it if you can  dont do it  free  requirements  potato  minimum  medium  fast  high end  nvidia dgx  super computer  difficulty  you just need  arms  ez  easy to learn  hard to master  hard  first few hours  dark souls  game time length  really short  hours  short  hours  few hours  hours  long  hours  endless  story  it doesnt have  still better than  shades  average  good  fantastic  bugs  game itself is one big bug  bugs destroying the game  lot of bugs  few bugs  you can use them for speedrun  nothing  others  multiplayer  yes singleplayer  yes\n",
       "1357                                                                                                                                                                                                                                                                                                                                                                                                                                                                                                                                                                price  quality  its a trap  admiral ackbar  thatll do  pig  thatll do  james cromwell  shut up and take my money  philip j  fry  pc requirements  minimum  medium  high  extreme  graphics  cheap  acceptable  masterpiece  game time  hours  story  none  bad  good  amazing  difficulty  simple  easy to learn  hard to master  hard  blackhole  fiolasoft studio  impossible  bugs  game itself is one big bug  bugs destroying the game  bugs  few little bugs  perfect\n",
       "1388                                                                                                                                                                                                                                                                                                                                                                                                                                                                                                                                                                                                                                                                                                                                                                                                                                                                                                                                                              this game destroy my social life and all girls who want talk to me  i love it\n",
       "2576    information  counter strike  the popular online action game and first person shooter for the pc  gameplay  i bought it and played it online for years  the  version is by far the best in terms of playability  when they released counterstrike source they traded a lot of the game play for better graphics  its a very old game by todays standards but if  like me  youve got quite an old pc which wont play a lot of the newer games  and you want to play in real time against other real players not bots then this is the game for you  if youve never played it then heres a brief run down of what the game is about  you first decide which team youre going to play for terrorist or counter terrorist  you then equip your player with a weapon  secondary weapon  ammo  grenades  kevlar etc  then depending on what type of map it is you have an objective if youre playing a defuse map then you need to plant a bomb and let it blow up  terrorist  or defuse the bomb  counter terrorist  hostage map stop the ...\n",
       "2754                                                                                                                                                                                                                                                                                                                                                                                                                                                                                                                                                                                                                                                                                                   still great  years later  decent population if you just want to play  fort  enough populated servers to offer a decent amount of maps and interesting mods some of the time  as well as minigames and skill servers  deadly hardcore legitimate masters with two decades practice under their belt will destroy you repeatedly  have fun\n",
       "3692    this is the greatest competitive video game ever created  its sort of sad because it has better mechanics than counter strike  but was always css red headed step child  capturing flags  fragging noobs and stomping on bads was the name of the game  day of defeat had a tremendous competitive group of people and culture  we attended major and global lan tournaments for tens of thousands of dollars and talked so much  online you can still hear the echos of ubads  ktes and lolumads to this day  day of defeat represented a golden age for competitive online league play  when the unforgivable act that was day of defeat source came out and destroyed competitive games forever by being so atrocious  it destroyed our beautiful and pure game  that there was never a day of defeat  go as an appology should never go unforgiven  dod  is the best competitive game in the history of esports  long forgotten to the likes of realism nerds  over controlling server admins and bad decisions by valve  may th...\n",
       "4225                                                                                                                                                                                                                                                                                                                                                                                                                                                                                                                                                                                                                                                                                                                                                                                                                                                                                                                                                                play as gangster soldier and destroy the world or not  like what win to win\n",
       "4396                                                                                                                                                                                                                                                                                                                                                                                                                                                                                                                                                                                                                                                                                                                                                                                                                                                                                           seriously if u loved half life u will simply love it  half life on steroids play as a badass soldier destroying aliens with new weapons loved it\n",
       "4546    half life opposing force was an expansion game to the half life game series  that came to the fans that wanted more from half life  after the success of the first half life  and like the first half life  this game succeed as well  this game set in the area of time after gordon freeman opened the portals to the aliens the enter to earth  and lets you see the story from a different point of view  as for the point of view of the us marines who came to destroy every sign of black mesa s existence after the big incident  in the game you play as admiral shepard  a soldier which is part of the us marine  who came to destroy black mesa after the big incident  but his squad s helicopter crashed  and he was left alone to try and get out of black mesa  with the goal of killing gordon freeman in the way  but also to keep himself alive as much as he can  the story of the new game is great and shows the reasons why the first half life was a great success  featuring great new levels with enemies ...\n",
       "4645    in opposing force  you are a faceless u s  marine by the name of adrian shephard with a job to do  suddenly  you are put into advanced training for dealing with top secret research facilities because of that pesky g man and his employers  and are sent to black mesa after it all goes downhill  you never received your orders  so you end up trying to make sense of all of the chaos while your fellow marines perish as the chaos unfolds  scientists and security are reluctant to help  and you do run into sparse marine specialists to help you along the way to lambda complex  where you are trying to prevent a serious alien invasion from destroying the area  eventually you win  and adrian is put into a place by the g man to be retained for potential future employment  this expansion wanted to shed light on the resonance cascade through the eyes of the black mesa clean up crew  and see how it was on the other side of the fight  there are new mechanics  such as the ability to control specializ...\n",
       "4725                                                                                                                                        audience  beginner  casual gamer  normal gamer  expert  graphics  bad  alright  good  beautiful  fantastic  music  bad  alright  good  beautiful  fantastic  difficulty  easy  average  easy to learn  hard to master  hard  unfair  bugs  bugs destroy the game  lots of bugs  few bugs  you can use them for speedrun  nothing encountered  story  there is none  bad  alright  good  fantastic  gameplay  frustrating  sleepy  boring  fun  challenging  game time  length  really short  hours  short  hours  few hours  hours  if you focus on the main story  long  hours  if you complete everything  very long  hours  extremely long  hours  price  quality  full price  wait for sale  dont buy  refund it if you can  personal note  short and sweet  i love the story and just general point of view of you being part of the antagonist side of the whole crisis  its worth your money\n",
       "4749                                                                                                                                                                                                                                                                                                                                                                                                                                                                                                                                                                                                                                                                                                                                                                                                                                                                             pretty fun game  not gonna lie  if you like destroying aliens and solving puzzles  this is the game for you  it also gives new weapons to the half life series\n",
       "4939                                                                                                                                                                                                                                                                                                                                                                                                                                                                                                                                                                                                                                                                                                                                                                           the new monsters are nice  you are the only soldier that has a choice in whether you should kill scientists or not  do what gordon and barney did  but dont escape in the end because gmans employers deem you a liability  destroy race x and rule supreme  yaa\n",
       "5344                                                                                                                                                                                                                                                                                                                                                                                                                                                                                                                                                                                                                                                          fanstastic hl  expansion with many new weapons and enemies  loved the portal gun and the barnacle weapon  the game is quite difficult towards the end  tanky enemies that take forever to be killed and can destroy you within seconds  bossfights were boring and forgettable and the soldiers that are supposed to help you fight have horrible ai  overall a great hl game tho\n",
       "5931                                                                                                                                                                                                                                                                                                                      beginner  casual gamer  normal gamer  expert  graphics  bad  alright  good  beautiful  fantastic  music  bad  alright  good  beautiful  fantastic  difficulty  easy  average  easy to learn  hard to master  hard  unfair  bugs  bugs destroy the game  lots of bugs  few bugs  you can use them for speedrun  nothing encountered  story  there is none  bad  alright  good  fantastic  gameplay  frustrating  sleepy  boring  fun  challenging  game time  length  really short  hours  short  hours  few hours  hours  if you focus on the main story  long  hours  if you complete everything  very long  hours  extremely long  hours  price  quality  full price  wait for sale  dont buy  refund it if you can\n",
       "6016    in congress  july  the unanimous declaration of the thirteen united states of america  when in the course of human events  it becomes necessary for one people to dissolve the political bands which have connected them with another  and to assume among the powers of the earth  the separate and equal station to which the laws of nature and of natures god entitle them  a decent respect to the opinions of mankind requires that they should declare the causes which impel them to the separation  we hold these truths to be self evident  that all men are created equal  that they are endowed by their creator with certain unalienable rights  that among these are life  liberty and the pursuit of happiness  that to secure these rights  governments are instituted among men  deriving their just powers from the consent of the governed  that whenever any form of government becomes destructive of these ends  it is the right of the people to alter or to abolish it  and to institute new government  lay...\n",
       "6526                                                                                                                                                                               half life is one of the four founding fathers of the fps genere  the others being wolfenstein  d  doom  and quake  and its really good  it might not have writing like hl  but its definitly worth your money  the day starts out normally  but then you open up a portal between planets and everyone dies  at first its a fight to the surface  but eventually you go back down to black mesa and destroy the aliens at zen  the whole game is freaking incredible but my favorite part is on the surface in the chapter  forget about freeman  which is when the military withdraws after learning that fighting you is hopeless  and there is this one part you get to tell the army where to bomb on that section of the chapter  its meant to solve a puzxle but its awesome as heck  buy this game if you like good shooters and nuking space fetuses\n",
       "Name: short, dtype: object"
      ]
     },
     "execution_count": 321,
     "metadata": {},
     "output_type": "execute_result"
    }
   ],
   "source": [
    "# Use this section to check how certain words are used within reviews\n",
    "\n",
    "def game_words(row):\n",
    "    my_list = row['words']\n",
    "    for w in my_list:\n",
    "        if w in checkwords:\n",
    "            return 1\n",
    "\n",
    "checkwords=['destroy', 'destroys', 'destroyed', 'destroying']\n",
    "reviews_100up['game_words'] = 0\n",
    "reviews_100up['game_words'] = reviews_100up.apply(game_words, axis=1)\n",
    "pd.set_option('display.max_colwidth',1000)\n",
    "reviews_100up['short'][reviews_100up.game_words == 1].head(20)"
   ]
  },
  {
   "cell_type": "code",
   "execution_count": 34,
   "metadata": {},
   "outputs": [],
   "source": [
    "# replace negative games words with neutral nonsense word\n",
    "\n",
    "def replace_game_words(row):\n",
    "    my_list = row['words']\n",
    "    keep_words = ['zabs' if w in neg_game_words else w for w in my_list]\n",
    "    return (keep_words)\n",
    "\n",
    "reviews_100up['words'] = reviews_100up.apply(replace_game_words, axis=1)"
   ]
  },
  {
   "cell_type": "code",
   "execution_count": 35,
   "metadata": {},
   "outputs": [],
   "source": [
    "# put the review string back together\n",
    "\n",
    "def rebuild_string(row):\n",
    "    my_list = row['words']\n",
    "    str_join = \" \".join(str(w) for w in my_list)\n",
    "    return str_join\n",
    "\n",
    "reviews_100up['rebuild'] = reviews_100up.apply(rebuild_string, axis=1)"
   ]
  },
  {
   "cell_type": "code",
   "execution_count": 36,
   "metadata": {},
   "outputs": [
    {
     "data": {
      "text/plain": [
       "0.40716812853123663"
      ]
     },
     "execution_count": 36,
     "metadata": {},
     "output_type": "execute_result"
    }
   ],
   "source": [
    "# rescore sentiment for new mean\n",
    "\n",
    "def sentiment3(row):\n",
    "    review = row['rebuild']\n",
    "    sa_dict = sa.polarity_scores(review)\n",
    "    return sa_dict['compound']\n",
    "\n",
    "reviews_100up['rescore'] = reviews_100up.apply(sentiment3, axis=1)\n",
    "reviews_100up.rescore.mean()"
   ]
  },
  {
   "cell_type": "code",
   "execution_count": 32,
   "metadata": {},
   "outputs": [
    {
     "data": {
      "text/html": [
       "<div>\n",
       "<style scoped>\n",
       "    .dataframe tbody tr th:only-of-type {\n",
       "        vertical-align: middle;\n",
       "    }\n",
       "\n",
       "    .dataframe tbody tr th {\n",
       "        vertical-align: top;\n",
       "    }\n",
       "\n",
       "    .dataframe thead th {\n",
       "        text-align: right;\n",
       "    }\n",
       "</style>\n",
       "<table border=\"1\" class=\"dataframe\">\n",
       "  <thead>\n",
       "    <tr style=\"text-align: right;\">\n",
       "      <th></th>\n",
       "      <th>word</th>\n",
       "      <th>freq</th>\n",
       "      <th>score</th>\n",
       "    </tr>\n",
       "  </thead>\n",
       "  <tbody>\n",
       "    <tr>\n",
       "      <th>27791</th>\n",
       "      <td>rapist</td>\n",
       "      <td>14</td>\n",
       "      <td>-0.7096</td>\n",
       "    </tr>\n",
       "    <tr>\n",
       "      <th>13172</th>\n",
       "      <td>slavery</td>\n",
       "      <td>109</td>\n",
       "      <td>-0.7003</td>\n",
       "    </tr>\n",
       "    <tr>\n",
       "      <th>26712</th>\n",
       "      <td>raping</td>\n",
       "      <td>31</td>\n",
       "      <td>-0.7003</td>\n",
       "    </tr>\n",
       "    <tr>\n",
       "      <th>7279</th>\n",
       "      <td>fu</td>\n",
       "      <td>465</td>\n",
       "      <td>-0.6908</td>\n",
       "    </tr>\n",
       "    <tr>\n",
       "      <th>1216</th>\n",
       "      <td>rape</td>\n",
       "      <td>181</td>\n",
       "      <td>-0.6908</td>\n",
       "    </tr>\n",
       "  </tbody>\n",
       "</table>\n",
       "</div>"
      ],
      "text/plain": [
       "          word  freq   score\n",
       "27791   rapist    14 -0.7096\n",
       "13172  slavery   109 -0.7003\n",
       "26712   raping    31 -0.7003\n",
       "7279        fu   465 -0.6908\n",
       "1216      rape   181 -0.6908"
      ]
     },
     "execution_count": 32,
     "metadata": {},
     "output_type": "execute_result"
    }
   ],
   "source": [
    "# which words are still holding back the mean sentiment?\n",
    "# count review words and add sentiment score\n",
    "\n",
    "from collections import Counter\n",
    "from itertools import chain\n",
    "\n",
    "counter = Counter(chain.from_iterable(map(str.split, reviews_100up.rebuild.tolist()))) \n",
    "word_weight = pd.DataFrame.from_dict(counter, orient='index').reset_index()\n",
    "word_weight = word_weight.rename(columns={'index':'word', 0:'freq'})\n",
    "word_weight['score'] = word_weight.apply(sentiment2, axis=1)\n",
    "word_weight.sort_values(by='score', ascending=True).head()"
   ]
  },
  {
   "cell_type": "code",
   "execution_count": 35,
   "metadata": {},
   "outputs": [
    {
     "data": {
      "text/html": [
       "<div>\n",
       "<style scoped>\n",
       "    .dataframe tbody tr th:only-of-type {\n",
       "        vertical-align: middle;\n",
       "    }\n",
       "\n",
       "    .dataframe tbody tr th {\n",
       "        vertical-align: top;\n",
       "    }\n",
       "\n",
       "    .dataframe thead th {\n",
       "        text-align: right;\n",
       "    }\n",
       "</style>\n",
       "<table border=\"1\" class=\"dataframe\">\n",
       "  <thead>\n",
       "    <tr style=\"text-align: right;\">\n",
       "      <th></th>\n",
       "      <th>word</th>\n",
       "      <th>freq</th>\n",
       "      <th>score</th>\n",
       "      <th>weight</th>\n",
       "    </tr>\n",
       "  </thead>\n",
       "  <tbody>\n",
       "    <tr>\n",
       "      <th>23</th>\n",
       "      <td>no</td>\n",
       "      <td>83455</td>\n",
       "      <td>-0.2960</td>\n",
       "      <td>-24702.6800</td>\n",
       "    </tr>\n",
       "    <tr>\n",
       "      <th>137</th>\n",
       "      <td>bad</td>\n",
       "      <td>44849</td>\n",
       "      <td>-0.5423</td>\n",
       "      <td>-24321.6127</td>\n",
       "    </tr>\n",
       "    <tr>\n",
       "      <th>942</th>\n",
       "      <td>shit</td>\n",
       "      <td>14698</td>\n",
       "      <td>-0.5574</td>\n",
       "      <td>-8192.6652</td>\n",
       "    </tr>\n",
       "    <tr>\n",
       "      <th>1145</th>\n",
       "      <td>hell</td>\n",
       "      <td>10656</td>\n",
       "      <td>-0.6808</td>\n",
       "      <td>-7254.6048</td>\n",
       "    </tr>\n",
       "    <tr>\n",
       "      <th>2404</th>\n",
       "      <td>doom</td>\n",
       "      <td>18041</td>\n",
       "      <td>-0.4019</td>\n",
       "      <td>-7250.6779</td>\n",
       "    </tr>\n",
       "  </tbody>\n",
       "</table>\n",
       "</div>"
      ],
      "text/plain": [
       "      word   freq   score      weight\n",
       "23      no  83455 -0.2960 -24702.6800\n",
       "137    bad  44849 -0.5423 -24321.6127\n",
       "942   shit  14698 -0.5574  -8192.6652\n",
       "1145  hell  10656 -0.6808  -7254.6048\n",
       "2404  doom  18041 -0.4019  -7250.6779"
      ]
     },
     "execution_count": 35,
     "metadata": {},
     "output_type": "execute_result"
    }
   ],
   "source": [
    "# negative words weighted by frequency\n",
    "\n",
    "word_weight['weight'] = word_weight['score'] * word_weight['freq']\n",
    "word_weight.sort_values(by='weight', ascending=True).head()"
   ]
  },
  {
   "cell_type": "markdown",
   "metadata": {},
   "source": [
    "## Output data for model"
   ]
  },
  {
   "cell_type": "code",
   "execution_count": 37,
   "metadata": {},
   "outputs": [
    {
     "data": {
      "text/plain": [
       "0.4073912035505357"
      ]
     },
     "execution_count": 37,
     "metadata": {},
     "output_type": "execute_result"
    }
   ],
   "source": [
    "# replace \"bad guy\" with nonsense word\n",
    "\n",
    "def bad_guy(row):\n",
    "    str = row['rebuild']\n",
    "    new_string = str.replace(\"bad guy\", \"zab\")\n",
    "    #new_string = re.sub('[^a-zA-Z]', ' ', row['clean'])\n",
    "    return new_string\n",
    "\n",
    "reviews_100up['rebuild'] = reviews_100up.apply(bad_guy, axis=1)\n",
    "reviews_100up['rescore'] = reviews_100up.apply(sentiment3, axis=1)\n",
    "reviews_100up.rescore.mean()"
   ]
  },
  {
   "cell_type": "code",
   "execution_count": 39,
   "metadata": {},
   "outputs": [
    {
     "data": {
      "text/html": [
       "<div>\n",
       "<style scoped>\n",
       "    .dataframe tbody tr th:only-of-type {\n",
       "        vertical-align: middle;\n",
       "    }\n",
       "\n",
       "    .dataframe tbody tr th {\n",
       "        vertical-align: top;\n",
       "    }\n",
       "\n",
       "    .dataframe thead th {\n",
       "        text-align: right;\n",
       "    }\n",
       "</style>\n",
       "<table border=\"1\" class=\"dataframe\">\n",
       "  <thead>\n",
       "    <tr style=\"text-align: right;\">\n",
       "      <th></th>\n",
       "      <th>rebuild</th>\n",
       "      <th>rescore</th>\n",
       "    </tr>\n",
       "  </thead>\n",
       "  <tbody>\n",
       "    <tr>\n",
       "      <th>269028</th>\n",
       "      <td>this is my review about the action rts zabs li...</td>\n",
       "      <td>0.9998</td>\n",
       "    </tr>\n",
       "    <tr>\n",
       "      <th>635410</th>\n",
       "      <td>temtem is a refreshing but familiar take on th...</td>\n",
       "      <td>0.9995</td>\n",
       "    </tr>\n",
       "    <tr>\n",
       "      <th>207483</th>\n",
       "      <td>the witcher assassins of kings enhanced editio...</td>\n",
       "      <td>0.9995</td>\n",
       "    </tr>\n",
       "    <tr>\n",
       "      <th>516389</th>\n",
       "      <td>a masterpiece and this generation s final fant...</td>\n",
       "      <td>0.9994</td>\n",
       "    </tr>\n",
       "    <tr>\n",
       "      <th>471241</th>\n",
       "      <td>how to survive review a zombie survival advent...</td>\n",
       "      <td>0.9994</td>\n",
       "    </tr>\n",
       "    <tr>\n",
       "      <th>...</th>\n",
       "      <td>...</td>\n",
       "      <td>...</td>\n",
       "    </tr>\n",
       "    <tr>\n",
       "      <th>538280</th>\n",
       "      <td>got this for not expecting much considering th...</td>\n",
       "      <td>-0.9972</td>\n",
       "    </tr>\n",
       "    <tr>\n",
       "      <th>370821</th>\n",
       "      <td>i would recommend playing it just to finish up...</td>\n",
       "      <td>-0.9973</td>\n",
       "    </tr>\n",
       "    <tr>\n",
       "      <th>557865</th>\n",
       "      <td>while fun from time to it mostly is a disaster...</td>\n",
       "      <td>-0.9975</td>\n",
       "    </tr>\n",
       "    <tr>\n",
       "      <th>544944</th>\n",
       "      <td>originally i thought this might be a good game...</td>\n",
       "      <td>-0.9976</td>\n",
       "    </tr>\n",
       "    <tr>\n",
       "      <th>188073</th>\n",
       "      <td>maybe the stupid devs should have fixed this g...</td>\n",
       "      <td>-0.9996</td>\n",
       "    </tr>\n",
       "  </tbody>\n",
       "</table>\n",
       "<p>779826 rows × 2 columns</p>\n",
       "</div>"
      ],
      "text/plain": [
       "                                                  rebuild  rescore\n",
       "269028  this is my review about the action rts zabs li...   0.9998\n",
       "635410  temtem is a refreshing but familiar take on th...   0.9995\n",
       "207483  the witcher assassins of kings enhanced editio...   0.9995\n",
       "516389  a masterpiece and this generation s final fant...   0.9994\n",
       "471241  how to survive review a zombie survival advent...   0.9994\n",
       "...                                                   ...      ...\n",
       "538280  got this for not expecting much considering th...  -0.9972\n",
       "370821  i would recommend playing it just to finish up...  -0.9973\n",
       "557865  while fun from time to it mostly is a disaster...  -0.9975\n",
       "544944  originally i thought this might be a good game...  -0.9976\n",
       "188073  maybe the stupid devs should have fixed this g...  -0.9996\n",
       "\n",
       "[779826 rows x 2 columns]"
      ]
     },
     "execution_count": 39,
     "metadata": {},
     "output_type": "execute_result"
    }
   ],
   "source": [
    "reviews_100up[['rebuild', 'rescore']].sort_values(by='rescore', ascending = False)"
   ]
  },
  {
   "cell_type": "code",
   "execution_count": 38,
   "metadata": {},
   "outputs": [],
   "source": [
    "# merge new scores and genre data\n",
    "game_sentiment = reviews_100up[['appid', 'recommendationid', 'rescore']]\n",
    "game_sentiment.set_index(['appid', 'recommendationid'], inplace = True)\n",
    "game_sentiment.to_csv(os.path.join(path_interim, \"game_sentiment.csv\"))"
   ]
  },
  {
   "cell_type": "code",
   "execution_count": 43,
   "metadata": {},
   "outputs": [],
   "source": [
    "reviews_3up.reset_index(inplace=True)\n",
    "reviews_3up.set_index(['appid', 'recommendationid'], inplace = True)"
   ]
  },
  {
   "cell_type": "code",
   "execution_count": 44,
   "metadata": {},
   "outputs": [],
   "source": [
    "game_model = pd.merge(game_sentiment, reviews_3up, on=['appid', 'recommendationid'], how='left')"
   ]
  },
  {
   "cell_type": "code",
   "execution_count": 45,
   "metadata": {},
   "outputs": [],
   "source": [
    "game_model.drop(['language', 'review', 'votes_up', 'votes_funny', 'weighted_vote_score', 'timestamp_updated', 'comment_count', 'steam_purchase', 'received_for_free', 'written_during_early_access', 'author.last_played'], axis=1, inplace=True)"
   ]
  },
  {
   "cell_type": "code",
   "execution_count": 46,
   "metadata": {},
   "outputs": [],
   "source": [
    "# output for modeling notebook\n",
    "game_model.to_csv(os.path.join(path_interim, \"game_model.csv\"))"
   ]
  }
 ],
 "metadata": {
  "kernelspec": {
   "display_name": "Python 3",
   "language": "python",
   "name": "python3"
  },
  "language_info": {
   "codemirror_mode": {
    "name": "ipython",
    "version": 3
   },
   "file_extension": ".py",
   "mimetype": "text/x-python",
   "name": "python",
   "nbconvert_exporter": "python",
   "pygments_lexer": "ipython3",
   "version": "3.8.5"
  }
 },
 "nbformat": 4,
 "nbformat_minor": 4
}
