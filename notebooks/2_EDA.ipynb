{
 "cells": [
  {
   "cell_type": "markdown",
   "metadata": {},
   "source": [
    "# Exploratory Data Analysis of Video Game Review Information from Steam Website\n",
    "In this step I'll explore video game information and corresponding user reviews through Valve's Steam digital distribution company and supporting websites."
   ]
  },
  {
   "cell_type": "code",
   "execution_count": 1,
   "metadata": {},
   "outputs": [],
   "source": [
    "import pandas as pd\n",
    "import numpy as np\n",
    "import os.path\n",
    "import matplotlib.pyplot as plt\n",
    "from langdetect import detect"
   ]
  },
  {
   "cell_type": "code",
   "execution_count": 2,
   "metadata": {},
   "outputs": [],
   "source": [
    "path_steam = \"C:/users/ggibs/steam_game_recommender\"\n",
    "path_interim = os.path.join(path_steam, \"data/interim/\")\n",
    "path_external = os.path.join(path_steam, \"data/external/\")"
   ]
  },
  {
   "cell_type": "markdown",
   "metadata": {},
   "source": [
    "## Video Game Information"
   ]
  },
  {
   "cell_type": "code",
   "execution_count": 3,
   "metadata": {},
   "outputs": [],
   "source": [
    "app_list = pd.read_csv(os.path.join(path_external, \"app_list.csv\"), index_col=\"appid\")"
   ]
  },
  {
   "cell_type": "code",
   "execution_count": 4,
   "metadata": {},
   "outputs": [
    {
     "data": {
      "text/html": [
       "<div>\n",
       "<style scoped>\n",
       "    .dataframe tbody tr th:only-of-type {\n",
       "        vertical-align: middle;\n",
       "    }\n",
       "\n",
       "    .dataframe tbody tr th {\n",
       "        vertical-align: top;\n",
       "    }\n",
       "\n",
       "    .dataframe thead th {\n",
       "        text-align: right;\n",
       "    }\n",
       "</style>\n",
       "<table border=\"1\" class=\"dataframe\">\n",
       "  <thead>\n",
       "    <tr style=\"text-align: right;\">\n",
       "      <th></th>\n",
       "      <th>name</th>\n",
       "    </tr>\n",
       "    <tr>\n",
       "      <th>appid</th>\n",
       "      <th></th>\n",
       "    </tr>\n",
       "  </thead>\n",
       "  <tbody>\n",
       "    <tr>\n",
       "      <th>10</th>\n",
       "      <td>Counter-Strike</td>\n",
       "    </tr>\n",
       "    <tr>\n",
       "      <th>20</th>\n",
       "      <td>Team Fortress Classic</td>\n",
       "    </tr>\n",
       "    <tr>\n",
       "      <th>30</th>\n",
       "      <td>Day of Defeat</td>\n",
       "    </tr>\n",
       "    <tr>\n",
       "      <th>40</th>\n",
       "      <td>Deathmatch Classic</td>\n",
       "    </tr>\n",
       "    <tr>\n",
       "      <th>50</th>\n",
       "      <td>Half-Life: Opposing Force</td>\n",
       "    </tr>\n",
       "  </tbody>\n",
       "</table>\n",
       "</div>"
      ],
      "text/plain": [
       "                            name\n",
       "appid                           \n",
       "10                Counter-Strike\n",
       "20         Team Fortress Classic\n",
       "30                 Day of Defeat\n",
       "40            Deathmatch Classic\n",
       "50     Half-Life: Opposing Force"
      ]
     },
     "execution_count": 4,
     "metadata": {},
     "output_type": "execute_result"
    }
   ],
   "source": [
    "app_list.head()"
   ]
  },
  {
   "cell_type": "code",
   "execution_count": 5,
   "metadata": {},
   "outputs": [
    {
     "data": {
      "text/plain": [
       "Int64Index([     10,      20,      30,      40,      50,      60,      70,\n",
       "                 80,     130,     220,\n",
       "            ...\n",
       "            1172620, 1174180, 1180380, 1190460, 1213210, 1226470, 1237970,\n",
       "            1284410, 1286830, 1289310],\n",
       "           dtype='int64', name='appid', length=1000)"
      ]
     },
     "execution_count": 5,
     "metadata": {},
     "output_type": "execute_result"
    }
   ],
   "source": [
    "app_list.index"
   ]
  },
  {
   "cell_type": "code",
   "execution_count": 9,
   "metadata": {},
   "outputs": [],
   "source": [
    "steamspy_data = pd.read_csv(os.path.join(path_external, \"steamspy_data.csv\"), index_col=[0])"
   ]
  },
  {
   "cell_type": "code",
   "execution_count": 10,
   "metadata": {},
   "outputs": [
    {
     "data": {
      "text/html": [
       "<div>\n",
       "<style scoped>\n",
       "    .dataframe tbody tr th:only-of-type {\n",
       "        vertical-align: middle;\n",
       "    }\n",
       "\n",
       "    .dataframe tbody tr th {\n",
       "        vertical-align: top;\n",
       "    }\n",
       "\n",
       "    .dataframe thead th {\n",
       "        text-align: right;\n",
       "    }\n",
       "</style>\n",
       "<table border=\"1\" class=\"dataframe\">\n",
       "  <thead>\n",
       "    <tr style=\"text-align: right;\">\n",
       "      <th></th>\n",
       "      <th>name</th>\n",
       "      <th>developer</th>\n",
       "      <th>publisher</th>\n",
       "      <th>score_rank</th>\n",
       "      <th>positive</th>\n",
       "      <th>negative</th>\n",
       "      <th>userscore</th>\n",
       "      <th>owners</th>\n",
       "      <th>average_forever</th>\n",
       "      <th>average_2weeks</th>\n",
       "      <th>median_forever</th>\n",
       "      <th>median_2weeks</th>\n",
       "      <th>price</th>\n",
       "      <th>initialprice</th>\n",
       "      <th>discount</th>\n",
       "      <th>languages</th>\n",
       "      <th>genre</th>\n",
       "      <th>ccu</th>\n",
       "      <th>tags</th>\n",
       "    </tr>\n",
       "    <tr>\n",
       "      <th>appid</th>\n",
       "      <th></th>\n",
       "      <th></th>\n",
       "      <th></th>\n",
       "      <th></th>\n",
       "      <th></th>\n",
       "      <th></th>\n",
       "      <th></th>\n",
       "      <th></th>\n",
       "      <th></th>\n",
       "      <th></th>\n",
       "      <th></th>\n",
       "      <th></th>\n",
       "      <th></th>\n",
       "      <th></th>\n",
       "      <th></th>\n",
       "      <th></th>\n",
       "      <th></th>\n",
       "      <th></th>\n",
       "      <th></th>\n",
       "    </tr>\n",
       "  </thead>\n",
       "  <tbody>\n",
       "    <tr>\n",
       "      <th>10</th>\n",
       "      <td>Counter-Strike</td>\n",
       "      <td>Valve</td>\n",
       "      <td>Valve</td>\n",
       "      <td>NaN</td>\n",
       "      <td>162672</td>\n",
       "      <td>4258</td>\n",
       "      <td>0</td>\n",
       "      <td>10,000,000 .. 20,000,000</td>\n",
       "      <td>9688</td>\n",
       "      <td>148</td>\n",
       "      <td>218</td>\n",
       "      <td>118</td>\n",
       "      <td>999</td>\n",
       "      <td>999</td>\n",
       "      <td>0</td>\n",
       "      <td>English, French, German, Italian, Spanish - Sp...</td>\n",
       "      <td>Action</td>\n",
       "      <td>15656</td>\n",
       "      <td>{'Action': 5325, 'FPS': 4728, 'Multiplayer': 3...</td>\n",
       "    </tr>\n",
       "    <tr>\n",
       "      <th>20</th>\n",
       "      <td>Team Fortress Classic</td>\n",
       "      <td>Valve</td>\n",
       "      <td>Valve</td>\n",
       "      <td>NaN</td>\n",
       "      <td>4458</td>\n",
       "      <td>783</td>\n",
       "      <td>0</td>\n",
       "      <td>2,000,000 .. 5,000,000</td>\n",
       "      <td>711</td>\n",
       "      <td>0</td>\n",
       "      <td>13</td>\n",
       "      <td>0</td>\n",
       "      <td>499</td>\n",
       "      <td>499</td>\n",
       "      <td>0</td>\n",
       "      <td>English, French, German, Italian, Spanish - Sp...</td>\n",
       "      <td>Action</td>\n",
       "      <td>90</td>\n",
       "      <td>{'Action': 734, 'FPS': 298, 'Multiplayer': 252...</td>\n",
       "    </tr>\n",
       "    <tr>\n",
       "      <th>30</th>\n",
       "      <td>Day of Defeat</td>\n",
       "      <td>Valve</td>\n",
       "      <td>Valve</td>\n",
       "      <td>NaN</td>\n",
       "      <td>4389</td>\n",
       "      <td>488</td>\n",
       "      <td>0</td>\n",
       "      <td>5,000,000 .. 10,000,000</td>\n",
       "      <td>948</td>\n",
       "      <td>0</td>\n",
       "      <td>20</td>\n",
       "      <td>0</td>\n",
       "      <td>499</td>\n",
       "      <td>499</td>\n",
       "      <td>0</td>\n",
       "      <td>English, French, German, Italian, Spanish - Spain</td>\n",
       "      <td>Action</td>\n",
       "      <td>160</td>\n",
       "      <td>{'FPS': 777, 'World War II': 243, 'Multiplayer...</td>\n",
       "    </tr>\n",
       "    <tr>\n",
       "      <th>40</th>\n",
       "      <td>Deathmatch Classic</td>\n",
       "      <td>Valve</td>\n",
       "      <td>Valve</td>\n",
       "      <td>NaN</td>\n",
       "      <td>1609</td>\n",
       "      <td>353</td>\n",
       "      <td>0</td>\n",
       "      <td>5,000,000 .. 10,000,000</td>\n",
       "      <td>25</td>\n",
       "      <td>0</td>\n",
       "      <td>5</td>\n",
       "      <td>0</td>\n",
       "      <td>499</td>\n",
       "      <td>499</td>\n",
       "      <td>0</td>\n",
       "      <td>English, French, German, Italian, Spanish - Sp...</td>\n",
       "      <td>Action</td>\n",
       "      <td>10</td>\n",
       "      <td>{'Action': 625, 'FPS': 134, 'Classic': 103, 'M...</td>\n",
       "    </tr>\n",
       "    <tr>\n",
       "      <th>50</th>\n",
       "      <td>Half-Life: Opposing Force</td>\n",
       "      <td>Gearbox Software</td>\n",
       "      <td>Valve</td>\n",
       "      <td>NaN</td>\n",
       "      <td>9295</td>\n",
       "      <td>491</td>\n",
       "      <td>0</td>\n",
       "      <td>5,000,000 .. 10,000,000</td>\n",
       "      <td>188</td>\n",
       "      <td>20</td>\n",
       "      <td>85</td>\n",
       "      <td>20</td>\n",
       "      <td>499</td>\n",
       "      <td>499</td>\n",
       "      <td>0</td>\n",
       "      <td>English, French, German, Korean</td>\n",
       "      <td>Action</td>\n",
       "      <td>96</td>\n",
       "      <td>{'FPS': 870, 'Action': 311, 'Classic': 238, 'S...</td>\n",
       "    </tr>\n",
       "  </tbody>\n",
       "</table>\n",
       "</div>"
      ],
      "text/plain": [
       "                            name         developer publisher  score_rank  \\\n",
       "appid                                                                      \n",
       "10                Counter-Strike             Valve     Valve         NaN   \n",
       "20         Team Fortress Classic             Valve     Valve         NaN   \n",
       "30                 Day of Defeat             Valve     Valve         NaN   \n",
       "40            Deathmatch Classic             Valve     Valve         NaN   \n",
       "50     Half-Life: Opposing Force  Gearbox Software     Valve         NaN   \n",
       "\n",
       "       positive  negative  userscore                    owners  \\\n",
       "appid                                                            \n",
       "10       162672      4258          0  10,000,000 .. 20,000,000   \n",
       "20         4458       783          0    2,000,000 .. 5,000,000   \n",
       "30         4389       488          0   5,000,000 .. 10,000,000   \n",
       "40         1609       353          0   5,000,000 .. 10,000,000   \n",
       "50         9295       491          0   5,000,000 .. 10,000,000   \n",
       "\n",
       "       average_forever  average_2weeks  median_forever  median_2weeks  price  \\\n",
       "appid                                                                          \n",
       "10                9688             148             218            118    999   \n",
       "20                 711               0              13              0    499   \n",
       "30                 948               0              20              0    499   \n",
       "40                  25               0               5              0    499   \n",
       "50                 188              20              85             20    499   \n",
       "\n",
       "       initialprice  discount  \\\n",
       "appid                           \n",
       "10              999         0   \n",
       "20              499         0   \n",
       "30              499         0   \n",
       "40              499         0   \n",
       "50              499         0   \n",
       "\n",
       "                                               languages   genre    ccu  \\\n",
       "appid                                                                     \n",
       "10     English, French, German, Italian, Spanish - Sp...  Action  15656   \n",
       "20     English, French, German, Italian, Spanish - Sp...  Action     90   \n",
       "30     English, French, German, Italian, Spanish - Spain  Action    160   \n",
       "40     English, French, German, Italian, Spanish - Sp...  Action     10   \n",
       "50                       English, French, German, Korean  Action     96   \n",
       "\n",
       "                                                    tags  \n",
       "appid                                                     \n",
       "10     {'Action': 5325, 'FPS': 4728, 'Multiplayer': 3...  \n",
       "20     {'Action': 734, 'FPS': 298, 'Multiplayer': 252...  \n",
       "30     {'FPS': 777, 'World War II': 243, 'Multiplayer...  \n",
       "40     {'Action': 625, 'FPS': 134, 'Classic': 103, 'M...  \n",
       "50     {'FPS': 870, 'Action': 311, 'Classic': 238, 'S...  "
      ]
     },
     "execution_count": 10,
     "metadata": {},
     "output_type": "execute_result"
    }
   ],
   "source": [
    "steamspy_data.head()"
   ]
  },
  {
   "cell_type": "code",
   "execution_count": 11,
   "metadata": {},
   "outputs": [
    {
     "data": {
      "text/plain": [
       "Int64Index([     10,      20,      30,      40,      50,      60,      70,\n",
       "                 80,     130,     220,\n",
       "            ...\n",
       "            1172620, 1174180, 1180380, 1190460, 1213210, 1226470, 1237970,\n",
       "            1284410, 1286830, 1289310],\n",
       "           dtype='int64', name='appid', length=1000)"
      ]
     },
     "execution_count": 11,
     "metadata": {},
     "output_type": "execute_result"
    }
   ],
   "source": [
    "steamspy_data.index"
   ]
  },
  {
   "cell_type": "markdown",
   "metadata": {},
   "source": [
    "## Video Game Reviews"
   ]
  },
  {
   "cell_type": "code",
   "execution_count": 12,
   "metadata": {},
   "outputs": [
    {
     "name": "stderr",
     "output_type": "stream",
     "text": [
      "C:\\Users\\ggibs\\Anaconda3\\envs\\steam_game_recommender\\lib\\site-packages\\numpy\\lib\\arraysetops.py:580: FutureWarning: elementwise comparison failed; returning scalar instead, but in the future will perform elementwise comparison\n",
      "  mask |= (ar1 == a)\n"
     ]
    }
   ],
   "source": [
    "reviews_df = pd.read_csv(os.path.join(path_interim, \"reviews.csv\"), index_col=[0,1], low_memory=False).sort_index()"
   ]
  },
  {
   "cell_type": "code",
   "execution_count": 13,
   "metadata": {},
   "outputs": [
    {
     "name": "stdout",
     "output_type": "stream",
     "text": [
      "<class 'pandas.core.frame.DataFrame'>\n",
      "MultiIndex: 3753726 entries, (10, 34977170) to (1289310, 76312449)\n",
      "Data columns (total 21 columns):\n",
      " #   Column                          Non-Null Count    Dtype  \n",
      "---  ------                          --------------    -----  \n",
      " 0   language                        3753726 non-null  object \n",
      " 1   review                          3746757 non-null  object \n",
      " 2   timestamp_created               3753726 non-null  int64  \n",
      " 3   timestamp_updated               3753726 non-null  int64  \n",
      " 4   voted_up                        3753726 non-null  bool   \n",
      " 5   votes_up                        3753726 non-null  int64  \n",
      " 6   votes_funny                     3753726 non-null  int64  \n",
      " 7   weighted_vote_score             3753726 non-null  float64\n",
      " 8   comment_count                   3753726 non-null  int64  \n",
      " 9   steam_purchase                  3753726 non-null  bool   \n",
      " 10  received_for_free               3753726 non-null  bool   \n",
      " 11  written_during_early_access     3753726 non-null  bool   \n",
      " 12  author.steamid                  3753726 non-null  int64  \n",
      " 13  author.num_games_owned          3753726 non-null  int64  \n",
      " 14  author.num_reviews              3753726 non-null  int64  \n",
      " 15  author.playtime_forever         3753417 non-null  float64\n",
      " 16  author.playtime_last_two_weeks  3753417 non-null  float64\n",
      " 17  author.playtime_at_review       3752728 non-null  float64\n",
      " 18  author.last_played              3753417 non-null  float64\n",
      " 19  timestamp_dev_responded         10906 non-null    float64\n",
      " 20  developer_response              10906 non-null    object \n",
      "dtypes: bool(4), float64(6), int64(8), object(3)\n",
      "memory usage: 707.6+ MB\n"
     ]
    }
   ],
   "source": [
    "reviews_df.info(null_counts=True)"
   ]
  },
  {
   "cell_type": "code",
   "execution_count": 14,
   "metadata": {},
   "outputs": [
    {
     "data": {
      "text/plain": [
       "FrozenList(['appid', 'recommendationid'])"
      ]
     },
     "execution_count": 14,
     "metadata": {},
     "output_type": "execute_result"
    }
   ],
   "source": [
    "reviews_df.index.names"
   ]
  },
  {
   "cell_type": "code",
   "execution_count": 15,
   "metadata": {},
   "outputs": [
    {
     "data": {
      "text/plain": [
       "Int64Index([     10,      20,      30,      40,      50,      60,      70,\n",
       "                 80,     130,     220,\n",
       "            ...\n",
       "            1151340, 1172380, 1172620, 1174180, 1190460, 1213210, 1226470,\n",
       "            1237970, 1286830, 1289310],\n",
       "           dtype='int64', name='appid', length=748)"
      ]
     },
     "execution_count": 15,
     "metadata": {},
     "output_type": "execute_result"
    }
   ],
   "source": [
    "reviews_df.index.levels[0]"
   ]
  },
  {
   "cell_type": "code",
   "execution_count": 10,
   "metadata": {},
   "outputs": [
    {
     "data": {
      "text/html": [
       "<div>\n",
       "<style scoped>\n",
       "    .dataframe tbody tr th:only-of-type {\n",
       "        vertical-align: middle;\n",
       "    }\n",
       "\n",
       "    .dataframe tbody tr th {\n",
       "        vertical-align: top;\n",
       "    }\n",
       "\n",
       "    .dataframe thead th {\n",
       "        text-align: right;\n",
       "    }\n",
       "</style>\n",
       "<table border=\"1\" class=\"dataframe\">\n",
       "  <thead>\n",
       "    <tr style=\"text-align: right;\">\n",
       "      <th></th>\n",
       "      <th></th>\n",
       "      <th>language</th>\n",
       "      <th>review</th>\n",
       "      <th>timestamp_created</th>\n",
       "      <th>timestamp_updated</th>\n",
       "      <th>voted_up</th>\n",
       "      <th>votes_up</th>\n",
       "      <th>votes_funny</th>\n",
       "      <th>weighted_vote_score</th>\n",
       "      <th>comment_count</th>\n",
       "      <th>steam_purchase</th>\n",
       "      <th>...</th>\n",
       "      <th>written_during_early_access</th>\n",
       "      <th>author.steamid</th>\n",
       "      <th>author.num_games_owned</th>\n",
       "      <th>author.num_reviews</th>\n",
       "      <th>author.playtime_forever</th>\n",
       "      <th>author.playtime_last_two_weeks</th>\n",
       "      <th>author.playtime_at_review</th>\n",
       "      <th>author.last_played</th>\n",
       "      <th>timestamp_dev_responded</th>\n",
       "      <th>developer_response</th>\n",
       "    </tr>\n",
       "    <tr>\n",
       "      <th>appid</th>\n",
       "      <th>recommendationid</th>\n",
       "      <th></th>\n",
       "      <th></th>\n",
       "      <th></th>\n",
       "      <th></th>\n",
       "      <th></th>\n",
       "      <th></th>\n",
       "      <th></th>\n",
       "      <th></th>\n",
       "      <th></th>\n",
       "      <th></th>\n",
       "      <th></th>\n",
       "      <th></th>\n",
       "      <th></th>\n",
       "      <th></th>\n",
       "      <th></th>\n",
       "      <th></th>\n",
       "      <th></th>\n",
       "      <th></th>\n",
       "      <th></th>\n",
       "      <th></th>\n",
       "      <th></th>\n",
       "    </tr>\n",
       "  </thead>\n",
       "  <tbody>\n",
       "    <tr>\n",
       "      <th rowspan=\"5\" valign=\"top\">10</th>\n",
       "      <th>34977170</th>\n",
       "      <td>english</td>\n",
       "      <td>good game</td>\n",
       "      <td>1505496203</td>\n",
       "      <td>1505496203</td>\n",
       "      <td>True</td>\n",
       "      <td>1</td>\n",
       "      <td>0</td>\n",
       "      <td>0.523810</td>\n",
       "      <td>0</td>\n",
       "      <td>True</td>\n",
       "      <td>...</td>\n",
       "      <td>False</td>\n",
       "      <td>76561198411856225</td>\n",
       "      <td>29</td>\n",
       "      <td>2</td>\n",
       "      <td>129549.0</td>\n",
       "      <td>0.0</td>\n",
       "      <td>16131.0</td>\n",
       "      <td>1.595980e+09</td>\n",
       "      <td>NaN</td>\n",
       "      <td>NaN</td>\n",
       "    </tr>\n",
       "    <tr>\n",
       "      <th>34978487</th>\n",
       "      <td>english</td>\n",
       "      <td>classic old school game + :steamhappy:</td>\n",
       "      <td>1505500384</td>\n",
       "      <td>1505500384</td>\n",
       "      <td>True</td>\n",
       "      <td>0</td>\n",
       "      <td>0</td>\n",
       "      <td>0.000000</td>\n",
       "      <td>0</td>\n",
       "      <td>True</td>\n",
       "      <td>...</td>\n",
       "      <td>False</td>\n",
       "      <td>76561198230410328</td>\n",
       "      <td>13</td>\n",
       "      <td>7</td>\n",
       "      <td>90881.0</td>\n",
       "      <td>39.0</td>\n",
       "      <td>37281.0</td>\n",
       "      <td>1.599362e+09</td>\n",
       "      <td>NaN</td>\n",
       "      <td>NaN</td>\n",
       "    </tr>\n",
       "    <tr>\n",
       "      <th>34980761</th>\n",
       "      <td>english</td>\n",
       "      <td>Servidores broken por exemplo: Dou Ctrl+tiro d...</td>\n",
       "      <td>1505507824</td>\n",
       "      <td>1505507824</td>\n",
       "      <td>False</td>\n",
       "      <td>0</td>\n",
       "      <td>0</td>\n",
       "      <td>0.476423</td>\n",
       "      <td>0</td>\n",
       "      <td>True</td>\n",
       "      <td>...</td>\n",
       "      <td>False</td>\n",
       "      <td>76561198213606925</td>\n",
       "      <td>106</td>\n",
       "      <td>13</td>\n",
       "      <td>7081.0</td>\n",
       "      <td>180.0</td>\n",
       "      <td>6664.0</td>\n",
       "      <td>1.599476e+09</td>\n",
       "      <td>NaN</td>\n",
       "      <td>NaN</td>\n",
       "    </tr>\n",
       "    <tr>\n",
       "      <th>34985180</th>\n",
       "      <td>english</td>\n",
       "      <td>\\nBefore I played:\\n＼＼ ＿\\n　　 ＼( ͡° ͜ʖ ͡°) \\n　　...</td>\n",
       "      <td>1505525745</td>\n",
       "      <td>1505525745</td>\n",
       "      <td>True</td>\n",
       "      <td>0</td>\n",
       "      <td>1</td>\n",
       "      <td>0.000000</td>\n",
       "      <td>0</td>\n",
       "      <td>True</td>\n",
       "      <td>...</td>\n",
       "      <td>False</td>\n",
       "      <td>76561198319303472</td>\n",
       "      <td>239</td>\n",
       "      <td>156</td>\n",
       "      <td>253.0</td>\n",
       "      <td>0.0</td>\n",
       "      <td>45.0</td>\n",
       "      <td>1.517853e+09</td>\n",
       "      <td>NaN</td>\n",
       "      <td>NaN</td>\n",
       "    </tr>\n",
       "    <tr>\n",
       "      <th>34988516</th>\n",
       "      <td>english</td>\n",
       "      <td>Good game but sadly not much servers left in t...</td>\n",
       "      <td>1505540844</td>\n",
       "      <td>1514641638</td>\n",
       "      <td>True</td>\n",
       "      <td>0</td>\n",
       "      <td>0</td>\n",
       "      <td>0.000000</td>\n",
       "      <td>0</td>\n",
       "      <td>True</td>\n",
       "      <td>...</td>\n",
       "      <td>False</td>\n",
       "      <td>76561198340225395</td>\n",
       "      <td>58</td>\n",
       "      <td>31</td>\n",
       "      <td>5354.0</td>\n",
       "      <td>0.0</td>\n",
       "      <td>3625.0</td>\n",
       "      <td>1.556272e+09</td>\n",
       "      <td>NaN</td>\n",
       "      <td>NaN</td>\n",
       "    </tr>\n",
       "  </tbody>\n",
       "</table>\n",
       "<p>5 rows × 21 columns</p>\n",
       "</div>"
      ],
      "text/plain": [
       "                       language  \\\n",
       "appid recommendationid            \n",
       "10    34977170          english   \n",
       "      34978487          english   \n",
       "      34980761          english   \n",
       "      34985180          english   \n",
       "      34988516          english   \n",
       "\n",
       "                                                                   review  \\\n",
       "appid recommendationid                                                      \n",
       "10    34977170                                                  good game   \n",
       "      34978487                     classic old school game + :steamhappy:   \n",
       "      34980761          Servidores broken por exemplo: Dou Ctrl+tiro d...   \n",
       "      34985180          \\nBefore I played:\\n＼＼ ＿\\n　　 ＼( ͡° ͜ʖ ͡°) \\n　　...   \n",
       "      34988516          Good game but sadly not much servers left in t...   \n",
       "\n",
       "                        timestamp_created  timestamp_updated  voted_up  \\\n",
       "appid recommendationid                                                   \n",
       "10    34977170                 1505496203         1505496203      True   \n",
       "      34978487                 1505500384         1505500384      True   \n",
       "      34980761                 1505507824         1505507824     False   \n",
       "      34985180                 1505525745         1505525745      True   \n",
       "      34988516                 1505540844         1514641638      True   \n",
       "\n",
       "                        votes_up  votes_funny  weighted_vote_score  \\\n",
       "appid recommendationid                                               \n",
       "10    34977170                 1            0             0.523810   \n",
       "      34978487                 0            0             0.000000   \n",
       "      34980761                 0            0             0.476423   \n",
       "      34985180                 0            1             0.000000   \n",
       "      34988516                 0            0             0.000000   \n",
       "\n",
       "                        comment_count  steam_purchase  ...  \\\n",
       "appid recommendationid                                 ...   \n",
       "10    34977170                      0            True  ...   \n",
       "      34978487                      0            True  ...   \n",
       "      34980761                      0            True  ...   \n",
       "      34985180                      0            True  ...   \n",
       "      34988516                      0            True  ...   \n",
       "\n",
       "                        written_during_early_access     author.steamid  \\\n",
       "appid recommendationid                                                   \n",
       "10    34977170                                False  76561198411856225   \n",
       "      34978487                                False  76561198230410328   \n",
       "      34980761                                False  76561198213606925   \n",
       "      34985180                                False  76561198319303472   \n",
       "      34988516                                False  76561198340225395   \n",
       "\n",
       "                        author.num_games_owned  author.num_reviews  \\\n",
       "appid recommendationid                                               \n",
       "10    34977170                              29                   2   \n",
       "      34978487                              13                   7   \n",
       "      34980761                             106                  13   \n",
       "      34985180                             239                 156   \n",
       "      34988516                              58                  31   \n",
       "\n",
       "                        author.playtime_forever  \\\n",
       "appid recommendationid                            \n",
       "10    34977170                         129549.0   \n",
       "      34978487                          90881.0   \n",
       "      34980761                           7081.0   \n",
       "      34985180                            253.0   \n",
       "      34988516                           5354.0   \n",
       "\n",
       "                        author.playtime_last_two_weeks  \\\n",
       "appid recommendationid                                   \n",
       "10    34977170                                     0.0   \n",
       "      34978487                                    39.0   \n",
       "      34980761                                   180.0   \n",
       "      34985180                                     0.0   \n",
       "      34988516                                     0.0   \n",
       "\n",
       "                        author.playtime_at_review  author.last_played  \\\n",
       "appid recommendationid                                                  \n",
       "10    34977170                            16131.0        1.595980e+09   \n",
       "      34978487                            37281.0        1.599362e+09   \n",
       "      34980761                             6664.0        1.599476e+09   \n",
       "      34985180                               45.0        1.517853e+09   \n",
       "      34988516                             3625.0        1.556272e+09   \n",
       "\n",
       "                        timestamp_dev_responded  developer_response  \n",
       "appid recommendationid                                               \n",
       "10    34977170                              NaN                 NaN  \n",
       "      34978487                              NaN                 NaN  \n",
       "      34980761                              NaN                 NaN  \n",
       "      34985180                              NaN                 NaN  \n",
       "      34988516                              NaN                 NaN  \n",
       "\n",
       "[5 rows x 21 columns]"
      ]
     },
     "execution_count": 10,
     "metadata": {},
     "output_type": "execute_result"
    }
   ],
   "source": [
    "reviews_df.head()"
   ]
  },
  {
   "cell_type": "code",
   "execution_count": 20,
   "metadata": {},
   "outputs": [
    {
     "data": {
      "text/html": [
       "<div>\n",
       "<style scoped>\n",
       "    .dataframe tbody tr th:only-of-type {\n",
       "        vertical-align: middle;\n",
       "    }\n",
       "\n",
       "    .dataframe tbody tr th {\n",
       "        vertical-align: top;\n",
       "    }\n",
       "\n",
       "    .dataframe thead th {\n",
       "        text-align: right;\n",
       "    }\n",
       "</style>\n",
       "<table border=\"1\" class=\"dataframe\">\n",
       "  <thead>\n",
       "    <tr style=\"text-align: right;\">\n",
       "      <th></th>\n",
       "      <th></th>\n",
       "      <th>language</th>\n",
       "      <th>review</th>\n",
       "      <th>timestamp_created</th>\n",
       "      <th>timestamp_updated</th>\n",
       "      <th>voted_up</th>\n",
       "      <th>votes_up</th>\n",
       "      <th>votes_funny</th>\n",
       "      <th>weighted_vote_score</th>\n",
       "      <th>comment_count</th>\n",
       "      <th>steam_purchase</th>\n",
       "      <th>...</th>\n",
       "      <th>written_during_early_access</th>\n",
       "      <th>author.steamid</th>\n",
       "      <th>author.num_games_owned</th>\n",
       "      <th>author.num_reviews</th>\n",
       "      <th>author.playtime_forever</th>\n",
       "      <th>author.playtime_last_two_weeks</th>\n",
       "      <th>author.playtime_at_review</th>\n",
       "      <th>author.last_played</th>\n",
       "      <th>timestamp_dev_responded</th>\n",
       "      <th>developer_response</th>\n",
       "    </tr>\n",
       "    <tr>\n",
       "      <th>appid</th>\n",
       "      <th>recommendationid</th>\n",
       "      <th></th>\n",
       "      <th></th>\n",
       "      <th></th>\n",
       "      <th></th>\n",
       "      <th></th>\n",
       "      <th></th>\n",
       "      <th></th>\n",
       "      <th></th>\n",
       "      <th></th>\n",
       "      <th></th>\n",
       "      <th></th>\n",
       "      <th></th>\n",
       "      <th></th>\n",
       "      <th></th>\n",
       "      <th></th>\n",
       "      <th></th>\n",
       "      <th></th>\n",
       "      <th></th>\n",
       "      <th></th>\n",
       "      <th></th>\n",
       "      <th></th>\n",
       "    </tr>\n",
       "  </thead>\n",
       "  <tbody>\n",
       "  </tbody>\n",
       "</table>\n",
       "<p>0 rows × 21 columns</p>\n",
       "</div>"
      ],
      "text/plain": [
       "Empty DataFrame\n",
       "Columns: [language, review, timestamp_created, timestamp_updated, voted_up, votes_up, votes_funny, weighted_vote_score, comment_count, steam_purchase, received_for_free, written_during_early_access, author.steamid, author.num_games_owned, author.num_reviews, author.playtime_forever, author.playtime_last_two_weeks, author.playtime_at_review, author.last_played, timestamp_dev_responded, developer_response]\n",
       "Index: []\n",
       "\n",
       "[0 rows x 21 columns]"
      ]
     },
     "execution_count": 20,
     "metadata": {},
     "output_type": "execute_result"
    }
   ],
   "source": [
    "# Blank reviews\n",
    "reviews_df[reviews_df.review.isnull()]"
   ]
  },
  {
   "cell_type": "code",
   "execution_count": 17,
   "metadata": {},
   "outputs": [],
   "source": [
    "# Delete blanks\n",
    "reviews_df.dropna(subset = ['review'], inplace=True)"
   ]
  },
  {
   "cell_type": "code",
   "execution_count": 18,
   "metadata": {},
   "outputs": [
    {
     "name": "stdout",
     "output_type": "stream",
     "text": [
      "<class 'pandas.core.frame.DataFrame'>\n",
      "MultiIndex: 3746757 entries, (10, 34977170) to (1289310, 76312449)\n",
      "Data columns (total 21 columns):\n",
      " #   Column                          Non-Null Count    Dtype  \n",
      "---  ------                          --------------    -----  \n",
      " 0   language                        3746757 non-null  object \n",
      " 1   review                          3746757 non-null  object \n",
      " 2   timestamp_created               3746757 non-null  int64  \n",
      " 3   timestamp_updated               3746757 non-null  int64  \n",
      " 4   voted_up                        3746757 non-null  bool   \n",
      " 5   votes_up                        3746757 non-null  int64  \n",
      " 6   votes_funny                     3746757 non-null  int64  \n",
      " 7   weighted_vote_score             3746757 non-null  float64\n",
      " 8   comment_count                   3746757 non-null  int64  \n",
      " 9   steam_purchase                  3746757 non-null  bool   \n",
      " 10  received_for_free               3746757 non-null  bool   \n",
      " 11  written_during_early_access     3746757 non-null  bool   \n",
      " 12  author.steamid                  3746757 non-null  int64  \n",
      " 13  author.num_games_owned          3746757 non-null  int64  \n",
      " 14  author.num_reviews              3746757 non-null  int64  \n",
      " 15  author.playtime_forever         3746449 non-null  float64\n",
      " 16  author.playtime_last_two_weeks  3746449 non-null  float64\n",
      " 17  author.playtime_at_review       3745759 non-null  float64\n",
      " 18  author.last_played              3746449 non-null  float64\n",
      " 19  timestamp_dev_responded         10906 non-null    float64\n",
      " 20  developer_response              10906 non-null    object \n",
      "dtypes: bool(4), float64(6), int64(8), object(3)\n",
      "memory usage: 706.7+ MB\n"
     ]
    }
   ],
   "source": [
    "reviews_df.info(null_counts=True)"
   ]
  },
  {
   "cell_type": "code",
   "execution_count": 11,
   "metadata": {},
   "outputs": [
    {
     "data": {
      "text/plain": [
       "76561198315585536    136\n",
       "76561197993023804    135\n",
       "76561198062813911    119\n",
       "76561198101732759    109\n",
       "76561198064946151    106\n",
       "                    ... \n",
       "76561198367448436      1\n",
       "76561198438747510      1\n",
       "76561198359084408      1\n",
       "76561198250024316      1\n",
       "76561199000977408      1\n",
       "Name: author.steamid, Length: 2328273, dtype: int64"
      ]
     },
     "execution_count": 11,
     "metadata": {},
     "output_type": "execute_result"
    }
   ],
   "source": [
    "# User review counts\n",
    "reviews_df['author.steamid'].value_counts()"
   ]
  },
  {
   "cell_type": "code",
   "execution_count": 22,
   "metadata": {},
   "outputs": [],
   "source": [
    "user_grouped = reviews_df.groupby('author.steamid')\n",
    "user_counts = user_grouped['author.steamid'].count()\n",
    "\n",
    "#.agg(np.mean)"
   ]
  },
  {
   "cell_type": "code",
   "execution_count": 49,
   "metadata": {},
   "outputs": [
    {
     "data": {
      "text/plain": [
       "1605415"
      ]
     },
     "execution_count": 49,
     "metadata": {},
     "output_type": "execute_result"
    }
   ],
   "source": [
    "user_counts[user_counts==1].count()"
   ]
  },
  {
   "cell_type": "code",
   "execution_count": 51,
   "metadata": {},
   "outputs": [
    {
     "data": {
      "text/plain": [
       "719150"
      ]
     },
     "execution_count": 51,
     "metadata": {},
     "output_type": "execute_result"
    }
   ],
   "source": [
    "user_counts[user_counts>1].count()"
   ]
  },
  {
   "cell_type": "code",
   "execution_count": 48,
   "metadata": {},
   "outputs": [
    {
     "data": {
      "text/plain": [
       "313410"
      ]
     },
     "execution_count": 48,
     "metadata": {},
     "output_type": "execute_result"
    }
   ],
   "source": [
    "user_counts[user_counts>=3].count()"
   ]
  },
  {
   "cell_type": "code",
   "execution_count": 53,
   "metadata": {},
   "outputs": [
    {
     "data": {
      "text/plain": [
       "174185"
      ]
     },
     "execution_count": 53,
     "metadata": {},
     "output_type": "execute_result"
    }
   ],
   "source": [
    "user_counts[user_counts==3].count()"
   ]
  },
  {
   "cell_type": "code",
   "execution_count": 73,
   "metadata": {},
   "outputs": [
    {
     "data": {
      "text/html": [
       "<div>\n",
       "<style scoped>\n",
       "    .dataframe tbody tr th:only-of-type {\n",
       "        vertical-align: middle;\n",
       "    }\n",
       "\n",
       "    .dataframe tbody tr th {\n",
       "        vertical-align: top;\n",
       "    }\n",
       "\n",
       "    .dataframe thead th {\n",
       "        text-align: right;\n",
       "    }\n",
       "</style>\n",
       "<table border=\"1\" class=\"dataframe\">\n",
       "  <thead>\n",
       "    <tr style=\"text-align: right;\">\n",
       "      <th></th>\n",
       "      <th>ReviewsGiven</th>\n",
       "      <th>ReviewerCount</th>\n",
       "    </tr>\n",
       "  </thead>\n",
       "  <tbody>\n",
       "    <tr>\n",
       "      <th>0</th>\n",
       "      <td>3</td>\n",
       "      <td>174185</td>\n",
       "    </tr>\n",
       "    <tr>\n",
       "      <th>1</th>\n",
       "      <td>4</td>\n",
       "      <td>63368</td>\n",
       "    </tr>\n",
       "    <tr>\n",
       "      <th>2</th>\n",
       "      <td>5</td>\n",
       "      <td>29979</td>\n",
       "    </tr>\n",
       "    <tr>\n",
       "      <th>3</th>\n",
       "      <td>6</td>\n",
       "      <td>15779</td>\n",
       "    </tr>\n",
       "    <tr>\n",
       "      <th>4</th>\n",
       "      <td>7</td>\n",
       "      <td>9345</td>\n",
       "    </tr>\n",
       "    <tr>\n",
       "      <th>5</th>\n",
       "      <td>8</td>\n",
       "      <td>5842</td>\n",
       "    </tr>\n",
       "    <tr>\n",
       "      <th>6</th>\n",
       "      <td>9</td>\n",
       "      <td>3858</td>\n",
       "    </tr>\n",
       "    <tr>\n",
       "      <th>7</th>\n",
       "      <td>10+</td>\n",
       "      <td>11054</td>\n",
       "    </tr>\n",
       "  </tbody>\n",
       "</table>\n",
       "</div>"
      ],
      "text/plain": [
       "  ReviewsGiven ReviewerCount\n",
       "0            3        174185\n",
       "1            4         63368\n",
       "2            5         29979\n",
       "3            6         15779\n",
       "4            7          9345\n",
       "5            8          5842\n",
       "6            9          3858\n",
       "7          10+         11054"
      ]
     },
     "execution_count": 73,
     "metadata": {},
     "output_type": "execute_result"
    }
   ],
   "source": [
    "dfReviewCounts = pd.DataFrame(columns=['ReviewsGiven', 'ReviewerCount'])\n",
    "\n",
    "for i in range(3,11):\n",
    "    if i != 10:\n",
    "        dfReviewCounts = dfReviewCounts.append({'ReviewsGiven': i, 'ReviewerCount': user_counts[user_counts==i].count()}, ignore_index=True)\n",
    "    if i == 10:\n",
    "        dfReviewCounts = dfReviewCounts.append({'ReviewsGiven': \"10+\", 'ReviewerCount': user_counts[user_counts>=10].count()}, ignore_index=True)\n",
    "\n",
    "dfReviewCounts"
   ]
  },
  {
   "cell_type": "code",
   "execution_count": 77,
   "metadata": {},
   "outputs": [
    {
     "data": {
      "image/png": "[encoded data removed]",
      "text/plain": [
       "<Figure size 432x288 with 1 Axes>"
      ]
     },
     "metadata": {
      "needs_background": "light"
     },
     "output_type": "display_data"
    }
   ],
   "source": [
    "x = ['3', '4', '5', '6', '7', '8', '9', '10+']\n",
    "y = dfReviewCounts.ReviewerCount\n",
    "plt.bar(x, y)\n",
    "plt.title(\"# of Video Game Reviews Posted by A User\")\n",
    "plt.show()"
   ]
  },
  {
   "cell_type": "code",
   "execution_count": 78,
   "metadata": {},
   "outputs": [],
   "source": [
    "# filter for three or more reviews\n",
    "reviews_3up = reviews_df[reviews_df['author.steamid'].map(reviews_df['author.steamid'].value_counts()) >= 3]"
   ]
  },
  {
   "cell_type": "code",
   "execution_count": 79,
   "metadata": {},
   "outputs": [
    {
     "data": {
      "text/plain": [
       "True     1207370\n",
       "False     122492\n",
       "Name: voted_up, dtype: int64"
      ]
     },
     "execution_count": 79,
     "metadata": {},
     "output_type": "execute_result"
    }
   ],
   "source": [
    "reviews_3up.voted_up.value_counts()"
   ]
  },
  {
   "cell_type": "code",
   "execution_count": 91,
   "metadata": {},
   "outputs": [
    {
     "data": {
      "image/png": "[encoded data removed]",
      "text/plain": [
       "<Figure size 432x288 with 1 Axes>"
      ]
     },
     "metadata": {
      "needs_background": "light"
     },
     "output_type": "display_data"
    }
   ],
   "source": [
    "x = [\"Voted Up\", \"Voted Down\"]\n",
    "y = [reviews_3up[\"voted_up\"][reviews_3up[\"voted_up\"] == True].count(), reviews_3up[\"voted_up\"][reviews_3up[\"voted_up\"] == False].count()]\n",
    "plt.bar(x,y)\n",
    "plt.title(\"Video Game Votes Up vs. Down (mil)\")\n",
    "plt.show()"
   ]
  },
  {
   "cell_type": "code",
   "execution_count": 140,
   "metadata": {},
   "outputs": [
    {
     "name": "stderr",
     "output_type": "stream",
     "text": [
      "C:\\Users\\ggibs\\Anaconda3\\envs\\steam_game_recommender\\lib\\site-packages\\IPython\\core\\interactiveshell.py:3417: SettingWithCopyWarning: \n",
      "A value is trying to be set on a copy of a slice from a DataFrame\n",
      "\n",
      "See the caveats in the documentation: https://pandas.pydata.org/pandas-docs/stable/user_guide/indexing.html#returning-a-view-versus-a-copy\n",
      "  exec(code_obj, self.user_global_ns, self.user_ns)\n"
     ]
    }
   ],
   "source": [
    "reviews_3up[\"genre\"].update(steamspy_data[\"genre\"])"
   ]
  },
  {
   "cell_type": "code",
   "execution_count": 128,
   "metadata": {},
   "outputs": [
    {
     "name": "stderr",
     "output_type": "stream",
     "text": [
      "<ipython-input-128-e8818f3ed9db>:1: SettingWithCopyWarning: \n",
      "A value is trying to be set on a copy of a slice from a DataFrame.\n",
      "Try using .loc[row_indexer,col_indexer] = value instead\n",
      "\n",
      "See the caveats in the documentation: https://pandas.pydata.org/pandas-docs/stable/user_guide/indexing.html#returning-a-view-versus-a-copy\n",
      "  reviews_3up[\"genre\"] = \"\"\n"
     ]
    }
   ],
   "source": [
    "reviews_3up[\"genre\"] = \"\""
   ]
  },
  {
   "cell_type": "code",
   "execution_count": 138,
   "metadata": {},
   "outputs": [
    {
     "data": {
      "text/plain": [
       "appid    recommendationid\n",
       "10       34978487             \n",
       "         34985180             \n",
       "         35022663             \n",
       "         35054561             \n",
       "         35061110             \n",
       "                            ..\n",
       "1289310  72248605             \n",
       "         72578210             \n",
       "         73012543             \n",
       "         73589413             \n",
       "         75931193             \n",
       "Name: genre, Length: 1329862, dtype: object"
      ]
     },
     "execution_count": 138,
     "metadata": {},
     "output_type": "execute_result"
    }
   ],
   "source": [
    "reviews_3up[\"genre\"]"
   ]
  },
  {
   "cell_type": "code",
   "execution_count": 141,
   "metadata": {},
   "outputs": [
    {
     "data": {
      "text/html": [
       "<div>\n",
       "<style scoped>\n",
       "    .dataframe tbody tr th:only-of-type {\n",
       "        vertical-align: middle;\n",
       "    }\n",
       "\n",
       "    .dataframe tbody tr th {\n",
       "        vertical-align: top;\n",
       "    }\n",
       "\n",
       "    .dataframe thead th {\n",
       "        text-align: right;\n",
       "    }\n",
       "</style>\n",
       "<table border=\"1\" class=\"dataframe\">\n",
       "  <thead>\n",
       "    <tr style=\"text-align: right;\">\n",
       "      <th></th>\n",
       "      <th></th>\n",
       "      <th>language</th>\n",
       "      <th>review</th>\n",
       "      <th>timestamp_created</th>\n",
       "      <th>timestamp_updated</th>\n",
       "      <th>voted_up</th>\n",
       "      <th>votes_up</th>\n",
       "      <th>votes_funny</th>\n",
       "      <th>weighted_vote_score</th>\n",
       "      <th>comment_count</th>\n",
       "      <th>steam_purchase</th>\n",
       "      <th>...</th>\n",
       "      <th>author.steamid</th>\n",
       "      <th>author.num_games_owned</th>\n",
       "      <th>author.num_reviews</th>\n",
       "      <th>author.playtime_forever</th>\n",
       "      <th>author.playtime_last_two_weeks</th>\n",
       "      <th>author.playtime_at_review</th>\n",
       "      <th>author.last_played</th>\n",
       "      <th>timestamp_dev_responded</th>\n",
       "      <th>developer_response</th>\n",
       "      <th>genre</th>\n",
       "    </tr>\n",
       "    <tr>\n",
       "      <th>appid</th>\n",
       "      <th>recommendationid</th>\n",
       "      <th></th>\n",
       "      <th></th>\n",
       "      <th></th>\n",
       "      <th></th>\n",
       "      <th></th>\n",
       "      <th></th>\n",
       "      <th></th>\n",
       "      <th></th>\n",
       "      <th></th>\n",
       "      <th></th>\n",
       "      <th></th>\n",
       "      <th></th>\n",
       "      <th></th>\n",
       "      <th></th>\n",
       "      <th></th>\n",
       "      <th></th>\n",
       "      <th></th>\n",
       "      <th></th>\n",
       "      <th></th>\n",
       "      <th></th>\n",
       "      <th></th>\n",
       "    </tr>\n",
       "  </thead>\n",
       "  <tbody>\n",
       "    <tr>\n",
       "      <th rowspan=\"5\" valign=\"top\">10</th>\n",
       "      <th>34978487</th>\n",
       "      <td>english</td>\n",
       "      <td>classic old school game + :steamhappy:</td>\n",
       "      <td>1505500384</td>\n",
       "      <td>1505500384</td>\n",
       "      <td>True</td>\n",
       "      <td>0</td>\n",
       "      <td>0</td>\n",
       "      <td>0.0</td>\n",
       "      <td>0</td>\n",
       "      <td>True</td>\n",
       "      <td>...</td>\n",
       "      <td>76561198230410328</td>\n",
       "      <td>13</td>\n",
       "      <td>7</td>\n",
       "      <td>90881.0</td>\n",
       "      <td>39.0</td>\n",
       "      <td>37281.0</td>\n",
       "      <td>1.599362e+09</td>\n",
       "      <td>NaN</td>\n",
       "      <td>NaN</td>\n",
       "      <td></td>\n",
       "    </tr>\n",
       "    <tr>\n",
       "      <th>34985180</th>\n",
       "      <td>english</td>\n",
       "      <td>\\nBefore I played:\\n＼＼ ＿\\n　　 ＼( ͡° ͜ʖ ͡°) \\n　　...</td>\n",
       "      <td>1505525745</td>\n",
       "      <td>1505525745</td>\n",
       "      <td>True</td>\n",
       "      <td>0</td>\n",
       "      <td>1</td>\n",
       "      <td>0.0</td>\n",
       "      <td>0</td>\n",
       "      <td>True</td>\n",
       "      <td>...</td>\n",
       "      <td>76561198319303472</td>\n",
       "      <td>239</td>\n",
       "      <td>156</td>\n",
       "      <td>253.0</td>\n",
       "      <td>0.0</td>\n",
       "      <td>45.0</td>\n",
       "      <td>1.517853e+09</td>\n",
       "      <td>NaN</td>\n",
       "      <td>NaN</td>\n",
       "      <td></td>\n",
       "    </tr>\n",
       "    <tr>\n",
       "      <th>35022663</th>\n",
       "      <td>english</td>\n",
       "      <td>how can you say no to this.</td>\n",
       "      <td>1505652274</td>\n",
       "      <td>1506723563</td>\n",
       "      <td>True</td>\n",
       "      <td>1</td>\n",
       "      <td>0</td>\n",
       "      <td>0.5</td>\n",
       "      <td>0</td>\n",
       "      <td>True</td>\n",
       "      <td>...</td>\n",
       "      <td>76561198282902022</td>\n",
       "      <td>145</td>\n",
       "      <td>58</td>\n",
       "      <td>37587.0</td>\n",
       "      <td>0.0</td>\n",
       "      <td>472.0</td>\n",
       "      <td>1.543593e+09</td>\n",
       "      <td>NaN</td>\n",
       "      <td>NaN</td>\n",
       "      <td></td>\n",
       "    </tr>\n",
       "    <tr>\n",
       "      <th>35054561</th>\n",
       "      <td>english</td>\n",
       "      <td>Played it since i could talk and walk\\n</td>\n",
       "      <td>1505776630</td>\n",
       "      <td>1505776630</td>\n",
       "      <td>True</td>\n",
       "      <td>0</td>\n",
       "      <td>0</td>\n",
       "      <td>0.0</td>\n",
       "      <td>0</td>\n",
       "      <td>True</td>\n",
       "      <td>...</td>\n",
       "      <td>76561198027268898</td>\n",
       "      <td>505</td>\n",
       "      <td>110</td>\n",
       "      <td>38.0</td>\n",
       "      <td>0.0</td>\n",
       "      <td>32.0</td>\n",
       "      <td>1.595011e+09</td>\n",
       "      <td>NaN</td>\n",
       "      <td>NaN</td>\n",
       "      <td></td>\n",
       "    </tr>\n",
       "    <tr>\n",
       "      <th>35061110</th>\n",
       "      <td>english</td>\n",
       "      <td>Where's the knife? Where's the Russian? Where'...</td>\n",
       "      <td>1505813604</td>\n",
       "      <td>1505813604</td>\n",
       "      <td>True</td>\n",
       "      <td>0</td>\n",
       "      <td>0</td>\n",
       "      <td>0.0</td>\n",
       "      <td>0</td>\n",
       "      <td>True</td>\n",
       "      <td>...</td>\n",
       "      <td>76561198131478444</td>\n",
       "      <td>26</td>\n",
       "      <td>8</td>\n",
       "      <td>557.0</td>\n",
       "      <td>0.0</td>\n",
       "      <td>540.0</td>\n",
       "      <td>1.509288e+09</td>\n",
       "      <td>NaN</td>\n",
       "      <td>NaN</td>\n",
       "      <td></td>\n",
       "    </tr>\n",
       "  </tbody>\n",
       "</table>\n",
       "<p>5 rows × 22 columns</p>\n",
       "</div>"
      ],
      "text/plain": [
       "                       language  \\\n",
       "appid recommendationid            \n",
       "10    34978487          english   \n",
       "      34985180          english   \n",
       "      35022663          english   \n",
       "      35054561          english   \n",
       "      35061110          english   \n",
       "\n",
       "                                                                   review  \\\n",
       "appid recommendationid                                                      \n",
       "10    34978487                     classic old school game + :steamhappy:   \n",
       "      34985180          \\nBefore I played:\\n＼＼ ＿\\n　　 ＼( ͡° ͜ʖ ͡°) \\n　　...   \n",
       "      35022663                                how can you say no to this.   \n",
       "      35054561                    Played it since i could talk and walk\\n   \n",
       "      35061110          Where's the knife? Where's the Russian? Where'...   \n",
       "\n",
       "                        timestamp_created  timestamp_updated  voted_up  \\\n",
       "appid recommendationid                                                   \n",
       "10    34978487                 1505500384         1505500384      True   \n",
       "      34985180                 1505525745         1505525745      True   \n",
       "      35022663                 1505652274         1506723563      True   \n",
       "      35054561                 1505776630         1505776630      True   \n",
       "      35061110                 1505813604         1505813604      True   \n",
       "\n",
       "                        votes_up  votes_funny  weighted_vote_score  \\\n",
       "appid recommendationid                                               \n",
       "10    34978487                 0            0                  0.0   \n",
       "      34985180                 0            1                  0.0   \n",
       "      35022663                 1            0                  0.5   \n",
       "      35054561                 0            0                  0.0   \n",
       "      35061110                 0            0                  0.0   \n",
       "\n",
       "                        comment_count  steam_purchase  ...     author.steamid  \\\n",
       "appid recommendationid                                 ...                      \n",
       "10    34978487                      0            True  ...  76561198230410328   \n",
       "      34985180                      0            True  ...  76561198319303472   \n",
       "      35022663                      0            True  ...  76561198282902022   \n",
       "      35054561                      0            True  ...  76561198027268898   \n",
       "      35061110                      0            True  ...  76561198131478444   \n",
       "\n",
       "                        author.num_games_owned  author.num_reviews  \\\n",
       "appid recommendationid                                               \n",
       "10    34978487                              13                   7   \n",
       "      34985180                             239                 156   \n",
       "      35022663                             145                  58   \n",
       "      35054561                             505                 110   \n",
       "      35061110                              26                   8   \n",
       "\n",
       "                        author.playtime_forever  \\\n",
       "appid recommendationid                            \n",
       "10    34978487                          90881.0   \n",
       "      34985180                            253.0   \n",
       "      35022663                          37587.0   \n",
       "      35054561                             38.0   \n",
       "      35061110                            557.0   \n",
       "\n",
       "                        author.playtime_last_two_weeks  \\\n",
       "appid recommendationid                                   \n",
       "10    34978487                                    39.0   \n",
       "      34985180                                     0.0   \n",
       "      35022663                                     0.0   \n",
       "      35054561                                     0.0   \n",
       "      35061110                                     0.0   \n",
       "\n",
       "                        author.playtime_at_review  author.last_played  \\\n",
       "appid recommendationid                                                  \n",
       "10    34978487                            37281.0        1.599362e+09   \n",
       "      34985180                               45.0        1.517853e+09   \n",
       "      35022663                              472.0        1.543593e+09   \n",
       "      35054561                               32.0        1.595011e+09   \n",
       "      35061110                              540.0        1.509288e+09   \n",
       "\n",
       "                        timestamp_dev_responded  developer_response  genre  \n",
       "appid recommendationid                                                      \n",
       "10    34978487                              NaN                 NaN         \n",
       "      34985180                              NaN                 NaN         \n",
       "      35022663                              NaN                 NaN         \n",
       "      35054561                              NaN                 NaN         \n",
       "      35061110                              NaN                 NaN         \n",
       "\n",
       "[5 rows x 22 columns]"
      ]
     },
     "execution_count": 141,
     "metadata": {},
     "output_type": "execute_result"
    }
   ],
   "source": [
    "reviews_3up.head()"
   ]
  },
  {
   "cell_type": "code",
   "execution_count": null,
   "metadata": {},
   "outputs": [],
   "source": []
  },
  {
   "cell_type": "code",
   "execution_count": 48,
   "metadata": {},
   "outputs": [],
   "source": [
    "# reviews_40.review\n",
    "for i in range(len(reviews_df)):                                         \n",
    "    try:                                                          \n",
    "        reviews_df.language.iloc[i] = detect(reviews_df.review.iloc[i])                                      \n",
    "    except:                                                                                                         \n",
    "       reviews_df.language.iloc[i] = 'no'               \n"
   ]
  },
  {
   "cell_type": "code",
   "execution_count": 9,
   "metadata": {},
   "outputs": [
    {
     "data": {
      "text/plain": [
       "'very good\\ngreat graphics'"
      ]
     },
     "execution_count": 9,
     "metadata": {},
     "output_type": "execute_result"
    }
   ],
   "source": [
    "reviews_40.iloc[0][1]"
   ]
  },
  {
   "cell_type": "code",
   "execution_count": 8,
   "metadata": {},
   "outputs": [
    {
     "data": {
      "text/plain": [
       "'en'"
      ]
     },
     "execution_count": 8,
     "metadata": {},
     "output_type": "execute_result"
    }
   ],
   "source": [
    "detect(reviews_40.iloc[0][1])"
   ]
  },
  {
   "cell_type": "code",
   "execution_count": null,
   "metadata": {},
   "outputs": [],
   "source": []
  },
  {
   "cell_type": "code",
   "execution_count": null,
   "metadata": {},
   "outputs": [],
   "source": []
  }
 ],
 "metadata": {
  "kernelspec": {
   "display_name": "Python 3",
   "language": "python",
   "name": "python3"
  },
  "language_info": {
   "codemirror_mode": {
    "name": "ipython",
    "version": 3
   },
   "file_extension": ".py",
   "mimetype": "text/x-python",
   "name": "python",
   "nbconvert_exporter": "python",
   "pygments_lexer": "ipython3",
   "version": "3.8.5"
  }
 },
 "nbformat": 4,
 "nbformat_minor": 4
}
